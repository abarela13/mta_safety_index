{
 "metadata": {
  "language_info": {
   "codemirror_mode": {
    "name": "ipython",
    "version": 3
   },
   "file_extension": ".py",
   "mimetype": "text/x-python",
   "name": "python",
   "nbconvert_exporter": "python",
   "pygments_lexer": "ipython3",
   "version": "3.8.6"
  },
  "orig_nbformat": 2,
  "kernelspec": {
   "name": "python3",
   "display_name": "Python 3",
   "language": "python"
  }
 },
 "nbformat": 4,
 "nbformat_minor": 2,
 "cells": [
  {
   "cell_type": "code",
   "execution_count": 1,
   "metadata": {},
   "outputs": [],
   "source": [
    "import mta_functions as mta\n",
    "import pandas as pd\n",
    "import eda"
   ]
  },
  {
   "cell_type": "code",
   "execution_count": 2,
   "metadata": {},
   "outputs": [],
   "source": [
    "# Create dataframe from unprocessed directory files\n",
    "mta_data = mta.df_from_directory('../data/turnstiles/processing')"
   ]
  },
  {
   "cell_type": "code",
   "execution_count": 3,
   "metadata": {},
   "outputs": [],
   "source": [
    "# Create concat string for turnstile\n",
    "mta_data['TID'] = mta.concat_columns(mta_data, ['C/A', 'UNIT', 'SCP'])"
   ]
  },
  {
   "cell_type": "code",
   "execution_count": 4,
   "metadata": {},
   "outputs": [],
   "source": [
    "# Create Turnstile ID for each turnstile\n",
    "mta_data['TID'] = mta_data.apply(lambda x: mta.create_hashed_column(x['TID'], 16), axis = 1)"
   ]
  },
  {
   "cell_type": "code",
   "execution_count": 5,
   "metadata": {},
   "outputs": [],
   "source": [
    "# Create concat string for entries\n",
    "mta_data['UID_string'] = mta.concat_columns(mta_data, ['TID', 'DATE', 'TIME'])"
   ]
  },
  {
   "cell_type": "code",
   "execution_count": 6,
   "metadata": {},
   "outputs": [],
   "source": [
    "# Convert entry string to hash\n",
    "mta_data['UID'] = mta_data.apply(lambda x: mta.create_hashed_column(x['UID_string'], 16), axis = 1)"
   ]
  },
  {
   "cell_type": "code",
   "execution_count": 7,
   "metadata": {},
   "outputs": [],
   "source": [
    "# Create DateTime column\n",
    "mta_data['DATETIME'] = pd.to_datetime(mta_data.DATE + ' ' + mta_data.TIME)"
   ]
  },
  {
   "cell_type": "code",
   "execution_count": 8,
   "metadata": {},
   "outputs": [],
   "source": [
    "#  Fix EXITS column name\n",
    "mta_data.columns = [column.strip() for column in mta_data.columns]"
   ]
  },
  {
   "cell_type": "code",
   "execution_count": 9,
   "metadata": {},
   "outputs": [],
   "source": [
    "# Reorganize Columns\n",
    "mta_data = mta_data[['UID','TID','C/A','UNIT','SCP','STATION','LINENAME','DIVISION','DATETIME','DESC','ENTRIES','EXITS']]"
   ]
  },
  {
   "cell_type": "code",
   "execution_count": 10,
   "metadata": {},
   "outputs": [
    {
     "output_type": "execute_result",
     "data": {
      "text/plain": [
       "                     UID               TID    C/A  UNIT       SCP  \\\n",
       "0       25B55E0F24FBFEBB  90191926F891F8C7   A002  R051  02-00-00   \n",
       "1       F9E84967BCE36BBE  90191926F891F8C7   A002  R051  02-00-00   \n",
       "2       E0050F320A612F72  90191926F891F8C7   A002  R051  02-00-00   \n",
       "3       2976F83CACFD8CB1  90191926F891F8C7   A002  R051  02-00-00   \n",
       "4       2206EBC2D54D5CB8  90191926F891F8C7   A002  R051  02-00-00   \n",
       "...                  ...               ...    ...   ...       ...   \n",
       "205616  FBBAA5A4B61D7E3D  B1A51961660208B4  TRAM2  R469  00-05-01   \n",
       "205617  1F49A3F721CF0F57  B1A51961660208B4  TRAM2  R469  00-05-01   \n",
       "205618  40FF9D9174EBAAB4  B1A51961660208B4  TRAM2  R469  00-05-01   \n",
       "205619  47EAC7863B55EA16  B1A51961660208B4  TRAM2  R469  00-05-01   \n",
       "205620  ED07726A053F099D  B1A51961660208B4  TRAM2  R469  00-05-01   \n",
       "\n",
       "              STATION LINENAME DIVISION            DATETIME     DESC  ENTRIES  \\\n",
       "0               59 ST  NQR456W      BMT 2020-03-07 03:00:00  REGULAR  7402469   \n",
       "1               59 ST  NQR456W      BMT 2020-03-07 07:00:00  REGULAR  7402480   \n",
       "2               59 ST  NQR456W      BMT 2020-03-07 11:00:00  REGULAR  7402559   \n",
       "3               59 ST  NQR456W      BMT 2020-03-07 15:00:00  REGULAR  7402755   \n",
       "4               59 ST  NQR456W      BMT 2020-03-07 19:00:00  REGULAR  7403040   \n",
       "...               ...      ...      ...                 ...      ...      ...   \n",
       "205616  RIT-ROOSEVELT        R      RIT 2020-01-17 04:00:00  REGULAR     5554   \n",
       "205617  RIT-ROOSEVELT        R      RIT 2020-01-17 08:00:00  REGULAR     5554   \n",
       "205618  RIT-ROOSEVELT        R      RIT 2020-01-17 12:00:00  REGULAR     5554   \n",
       "205619  RIT-ROOSEVELT        R      RIT 2020-01-17 16:00:00  REGULAR     5554   \n",
       "205620  RIT-ROOSEVELT        R      RIT 2020-01-17 20:00:00  REGULAR     5554   \n",
       "\n",
       "          EXITS  \n",
       "0       2511926  \n",
       "1       2511937  \n",
       "2       2512022  \n",
       "3       2512073  \n",
       "4       2512132  \n",
       "...         ...  \n",
       "205616      420  \n",
       "205617      420  \n",
       "205618      420  \n",
       "205619      420  \n",
       "205620      420  \n",
       "\n",
       "[3295462 rows x 12 columns]"
      ],
      "text/html": "<div>\n<style scoped>\n    .dataframe tbody tr th:only-of-type {\n        vertical-align: middle;\n    }\n\n    .dataframe tbody tr th {\n        vertical-align: top;\n    }\n\n    .dataframe thead th {\n        text-align: right;\n    }\n</style>\n<table border=\"1\" class=\"dataframe\">\n  <thead>\n    <tr style=\"text-align: right;\">\n      <th></th>\n      <th>UID</th>\n      <th>TID</th>\n      <th>C/A</th>\n      <th>UNIT</th>\n      <th>SCP</th>\n      <th>STATION</th>\n      <th>LINENAME</th>\n      <th>DIVISION</th>\n      <th>DATETIME</th>\n      <th>DESC</th>\n      <th>ENTRIES</th>\n      <th>EXITS</th>\n    </tr>\n  </thead>\n  <tbody>\n    <tr>\n      <th>0</th>\n      <td>25B55E0F24FBFEBB</td>\n      <td>90191926F891F8C7</td>\n      <td>A002</td>\n      <td>R051</td>\n      <td>02-00-00</td>\n      <td>59 ST</td>\n      <td>NQR456W</td>\n      <td>BMT</td>\n      <td>2020-03-07 03:00:00</td>\n      <td>REGULAR</td>\n      <td>7402469</td>\n      <td>2511926</td>\n    </tr>\n    <tr>\n      <th>1</th>\n      <td>F9E84967BCE36BBE</td>\n      <td>90191926F891F8C7</td>\n      <td>A002</td>\n      <td>R051</td>\n      <td>02-00-00</td>\n      <td>59 ST</td>\n      <td>NQR456W</td>\n      <td>BMT</td>\n      <td>2020-03-07 07:00:00</td>\n      <td>REGULAR</td>\n      <td>7402480</td>\n      <td>2511937</td>\n    </tr>\n    <tr>\n      <th>2</th>\n      <td>E0050F320A612F72</td>\n      <td>90191926F891F8C7</td>\n      <td>A002</td>\n      <td>R051</td>\n      <td>02-00-00</td>\n      <td>59 ST</td>\n      <td>NQR456W</td>\n      <td>BMT</td>\n      <td>2020-03-07 11:00:00</td>\n      <td>REGULAR</td>\n      <td>7402559</td>\n      <td>2512022</td>\n    </tr>\n    <tr>\n      <th>3</th>\n      <td>2976F83CACFD8CB1</td>\n      <td>90191926F891F8C7</td>\n      <td>A002</td>\n      <td>R051</td>\n      <td>02-00-00</td>\n      <td>59 ST</td>\n      <td>NQR456W</td>\n      <td>BMT</td>\n      <td>2020-03-07 15:00:00</td>\n      <td>REGULAR</td>\n      <td>7402755</td>\n      <td>2512073</td>\n    </tr>\n    <tr>\n      <th>4</th>\n      <td>2206EBC2D54D5CB8</td>\n      <td>90191926F891F8C7</td>\n      <td>A002</td>\n      <td>R051</td>\n      <td>02-00-00</td>\n      <td>59 ST</td>\n      <td>NQR456W</td>\n      <td>BMT</td>\n      <td>2020-03-07 19:00:00</td>\n      <td>REGULAR</td>\n      <td>7403040</td>\n      <td>2512132</td>\n    </tr>\n    <tr>\n      <th>...</th>\n      <td>...</td>\n      <td>...</td>\n      <td>...</td>\n      <td>...</td>\n      <td>...</td>\n      <td>...</td>\n      <td>...</td>\n      <td>...</td>\n      <td>...</td>\n      <td>...</td>\n      <td>...</td>\n      <td>...</td>\n    </tr>\n    <tr>\n      <th>205616</th>\n      <td>FBBAA5A4B61D7E3D</td>\n      <td>B1A51961660208B4</td>\n      <td>TRAM2</td>\n      <td>R469</td>\n      <td>00-05-01</td>\n      <td>RIT-ROOSEVELT</td>\n      <td>R</td>\n      <td>RIT</td>\n      <td>2020-01-17 04:00:00</td>\n      <td>REGULAR</td>\n      <td>5554</td>\n      <td>420</td>\n    </tr>\n    <tr>\n      <th>205617</th>\n      <td>1F49A3F721CF0F57</td>\n      <td>B1A51961660208B4</td>\n      <td>TRAM2</td>\n      <td>R469</td>\n      <td>00-05-01</td>\n      <td>RIT-ROOSEVELT</td>\n      <td>R</td>\n      <td>RIT</td>\n      <td>2020-01-17 08:00:00</td>\n      <td>REGULAR</td>\n      <td>5554</td>\n      <td>420</td>\n    </tr>\n    <tr>\n      <th>205618</th>\n      <td>40FF9D9174EBAAB4</td>\n      <td>B1A51961660208B4</td>\n      <td>TRAM2</td>\n      <td>R469</td>\n      <td>00-05-01</td>\n      <td>RIT-ROOSEVELT</td>\n      <td>R</td>\n      <td>RIT</td>\n      <td>2020-01-17 12:00:00</td>\n      <td>REGULAR</td>\n      <td>5554</td>\n      <td>420</td>\n    </tr>\n    <tr>\n      <th>205619</th>\n      <td>47EAC7863B55EA16</td>\n      <td>B1A51961660208B4</td>\n      <td>TRAM2</td>\n      <td>R469</td>\n      <td>00-05-01</td>\n      <td>RIT-ROOSEVELT</td>\n      <td>R</td>\n      <td>RIT</td>\n      <td>2020-01-17 16:00:00</td>\n      <td>REGULAR</td>\n      <td>5554</td>\n      <td>420</td>\n    </tr>\n    <tr>\n      <th>205620</th>\n      <td>ED07726A053F099D</td>\n      <td>B1A51961660208B4</td>\n      <td>TRAM2</td>\n      <td>R469</td>\n      <td>00-05-01</td>\n      <td>RIT-ROOSEVELT</td>\n      <td>R</td>\n      <td>RIT</td>\n      <td>2020-01-17 20:00:00</td>\n      <td>REGULAR</td>\n      <td>5554</td>\n      <td>420</td>\n    </tr>\n  </tbody>\n</table>\n<p>3295462 rows × 12 columns</p>\n</div>"
     },
     "metadata": {},
     "execution_count": 10
    }
   ],
   "source": [
    "mta_data"
   ]
  },
  {
   "cell_type": "code",
   "execution_count": 11,
   "metadata": {},
   "outputs": [],
   "source": [
    "# mta_data.loc[mta_data['DESC'] == 'RECOVR AUD'].index\n",
    "\n",
    "# idx = mta_data.index.iloc(row_index)\n",
    "# mta_data.iloc[idx - 1 : idx + 1]\n",
    "\n",
    "# list(mta_data[mta_data.DESC == 'RECOVR AUD'].ind)\n",
    "\n",
    "# mta_data.index."
   ]
  },
  {
   "cell_type": "code",
   "execution_count": 12,
   "metadata": {},
   "outputs": [
    {
     "output_type": "execute_result",
     "data": {
      "text/plain": [
       "            ENTRIES         EXITS\n",
       "count     3295462.0     3295462.0\n",
       "mean     42830005.3    35090932.2\n",
       "std     218833245.6   198751684.2\n",
       "min             0.0           0.0\n",
       "25%        317884.0      141535.2\n",
       "50%       1921470.0     1124620.0\n",
       "75%       6572069.0     4477027.0\n",
       "max    2128895656.0  2123501742.0"
      ],
      "text/html": "<div>\n<style scoped>\n    .dataframe tbody tr th:only-of-type {\n        vertical-align: middle;\n    }\n\n    .dataframe tbody tr th {\n        vertical-align: top;\n    }\n\n    .dataframe thead th {\n        text-align: right;\n    }\n</style>\n<table border=\"1\" class=\"dataframe\">\n  <thead>\n    <tr style=\"text-align: right;\">\n      <th></th>\n      <th>ENTRIES</th>\n      <th>EXITS</th>\n    </tr>\n  </thead>\n  <tbody>\n    <tr>\n      <th>count</th>\n      <td>3295462.0</td>\n      <td>3295462.0</td>\n    </tr>\n    <tr>\n      <th>mean</th>\n      <td>42830005.3</td>\n      <td>35090932.2</td>\n    </tr>\n    <tr>\n      <th>std</th>\n      <td>218833245.6</td>\n      <td>198751684.2</td>\n    </tr>\n    <tr>\n      <th>min</th>\n      <td>0.0</td>\n      <td>0.0</td>\n    </tr>\n    <tr>\n      <th>25%</th>\n      <td>317884.0</td>\n      <td>141535.2</td>\n    </tr>\n    <tr>\n      <th>50%</th>\n      <td>1921470.0</td>\n      <td>1124620.0</td>\n    </tr>\n    <tr>\n      <th>75%</th>\n      <td>6572069.0</td>\n      <td>4477027.0</td>\n    </tr>\n    <tr>\n      <th>max</th>\n      <td>2128895656.0</td>\n      <td>2123501742.0</td>\n    </tr>\n  </tbody>\n</table>\n</div>"
     },
     "metadata": {},
     "execution_count": 12
    }
   ],
   "source": [
    "mta_data.describe().apply(lambda s: s.apply('{0:.1f}'.format))"
   ]
  },
  {
   "cell_type": "code",
   "execution_count": 13,
   "metadata": {},
   "outputs": [
    {
     "output_type": "stream",
     "name": "stdout",
     "text": [
      "------------------Rows with Nulls------------------\n"
     ]
    },
    {
     "output_type": "execute_result",
     "data": {
      "text/plain": [
       "Empty DataFrame\n",
       "Columns: [UID, TID, C/A, UNIT, SCP, STATION, LINENAME, DIVISION, DATETIME, DESC, ENTRIES, EXITS]\n",
       "Index: []"
      ],
      "text/html": "<div>\n<style scoped>\n    .dataframe tbody tr th:only-of-type {\n        vertical-align: middle;\n    }\n\n    .dataframe tbody tr th {\n        vertical-align: top;\n    }\n\n    .dataframe thead th {\n        text-align: right;\n    }\n</style>\n<table border=\"1\" class=\"dataframe\">\n  <thead>\n    <tr style=\"text-align: right;\">\n      <th></th>\n      <th>UID</th>\n      <th>TID</th>\n      <th>C/A</th>\n      <th>UNIT</th>\n      <th>SCP</th>\n      <th>STATION</th>\n      <th>LINENAME</th>\n      <th>DIVISION</th>\n      <th>DATETIME</th>\n      <th>DESC</th>\n      <th>ENTRIES</th>\n      <th>EXITS</th>\n    </tr>\n  </thead>\n  <tbody>\n  </tbody>\n</table>\n</div>"
     },
     "metadata": {},
     "execution_count": 13
    }
   ],
   "source": [
    "eda.identify_nulls(mta_data)"
   ]
  },
  {
   "cell_type": "code",
   "execution_count": 14,
   "metadata": {},
   "outputs": [
    {
     "output_type": "stream",
     "name": "stdout",
     "text": [
      "--------------Possible Duplicate Rows--------------\n"
     ]
    },
    {
     "output_type": "execute_result",
     "data": {
      "text/plain": [
       "                     UID               TID   C/A  UNIT       SCP  \\\n",
       "184505  024E4A629B63F671  B4CD039EDBAFDB6A  R514  R094  00-05-00   \n",
       "184506  024E4A629B63F671  B4CD039EDBAFDB6A  R514  R094  00-05-00   \n",
       "184515  0922F21EDC911A87  B4CD039EDBAFDB6A  R514  R094  00-05-00   \n",
       "184516  0922F21EDC911A87  B4CD039EDBAFDB6A  R514  R094  00-05-00   \n",
       "184499  0A2E91A008B6CEC5  B4CD039EDBAFDB6A  R514  R094  00-05-00   \n",
       "...                  ...               ...   ...   ...       ...   \n",
       "184492  F72F8DE19515A966  B4CD039EDBAFDB6A  R514  R094  00-05-00   \n",
       "184504  F8C9004FC73D9CD3  B4CD039EDBAFDB6A  R514  R094  00-05-00   \n",
       "184503  F8C9004FC73D9CD3  B4CD039EDBAFDB6A  R514  R094  00-05-00   \n",
       "184483  FB3B3F0E08207E89  B4CD039EDBAFDB6A  R514  R094  00-05-00   \n",
       "184484  FB3B3F0E08207E89  B4CD039EDBAFDB6A  R514  R094  00-05-00   \n",
       "\n",
       "             STATION LINENAME DIVISION            DATETIME        DESC  \\\n",
       "184505  ASTORIA BLVD      NQW      BMT 2020-01-21 07:00:00     REGULAR   \n",
       "184506  ASTORIA BLVD      NQW      BMT 2020-01-21 07:00:00  RECOVR AUD   \n",
       "184515  ASTORIA BLVD      NQW      BMT 2020-01-22 03:00:00     REGULAR   \n",
       "184516  ASTORIA BLVD      NQW      BMT 2020-01-22 03:00:00  RECOVR AUD   \n",
       "184499  ASTORIA BLVD      NQW      BMT 2020-01-20 19:00:00     REGULAR   \n",
       "...              ...      ...      ...                 ...         ...   \n",
       "184492  ASTORIA BLVD      NQW      BMT 2020-01-20 03:00:00  RECOVR AUD   \n",
       "184504  ASTORIA BLVD      NQW      BMT 2020-01-21 03:00:00  RECOVR AUD   \n",
       "184503  ASTORIA BLVD      NQW      BMT 2020-01-21 03:00:00     REGULAR   \n",
       "184483  ASTORIA BLVD      NQW      BMT 2020-01-19 11:00:00     REGULAR   \n",
       "184484  ASTORIA BLVD      NQW      BMT 2020-01-19 11:00:00  RECOVR AUD   \n",
       "\n",
       "        ENTRIES  EXITS  \n",
       "184505       17      0  \n",
       "184506       15      0  \n",
       "184515       15      0  \n",
       "184516       17      0  \n",
       "184499       17      0  \n",
       "...         ...    ...  \n",
       "184492       15      0  \n",
       "184504       15      0  \n",
       "184503       17      0  \n",
       "184483       15      0  \n",
       "184484       16      0  \n",
       "\n",
       "[64 rows x 12 columns]"
      ],
      "text/html": "<div>\n<style scoped>\n    .dataframe tbody tr th:only-of-type {\n        vertical-align: middle;\n    }\n\n    .dataframe tbody tr th {\n        vertical-align: top;\n    }\n\n    .dataframe thead th {\n        text-align: right;\n    }\n</style>\n<table border=\"1\" class=\"dataframe\">\n  <thead>\n    <tr style=\"text-align: right;\">\n      <th></th>\n      <th>UID</th>\n      <th>TID</th>\n      <th>C/A</th>\n      <th>UNIT</th>\n      <th>SCP</th>\n      <th>STATION</th>\n      <th>LINENAME</th>\n      <th>DIVISION</th>\n      <th>DATETIME</th>\n      <th>DESC</th>\n      <th>ENTRIES</th>\n      <th>EXITS</th>\n    </tr>\n  </thead>\n  <tbody>\n    <tr>\n      <th>184505</th>\n      <td>024E4A629B63F671</td>\n      <td>B4CD039EDBAFDB6A</td>\n      <td>R514</td>\n      <td>R094</td>\n      <td>00-05-00</td>\n      <td>ASTORIA BLVD</td>\n      <td>NQW</td>\n      <td>BMT</td>\n      <td>2020-01-21 07:00:00</td>\n      <td>REGULAR</td>\n      <td>17</td>\n      <td>0</td>\n    </tr>\n    <tr>\n      <th>184506</th>\n      <td>024E4A629B63F671</td>\n      <td>B4CD039EDBAFDB6A</td>\n      <td>R514</td>\n      <td>R094</td>\n      <td>00-05-00</td>\n      <td>ASTORIA BLVD</td>\n      <td>NQW</td>\n      <td>BMT</td>\n      <td>2020-01-21 07:00:00</td>\n      <td>RECOVR AUD</td>\n      <td>15</td>\n      <td>0</td>\n    </tr>\n    <tr>\n      <th>184515</th>\n      <td>0922F21EDC911A87</td>\n      <td>B4CD039EDBAFDB6A</td>\n      <td>R514</td>\n      <td>R094</td>\n      <td>00-05-00</td>\n      <td>ASTORIA BLVD</td>\n      <td>NQW</td>\n      <td>BMT</td>\n      <td>2020-01-22 03:00:00</td>\n      <td>REGULAR</td>\n      <td>15</td>\n      <td>0</td>\n    </tr>\n    <tr>\n      <th>184516</th>\n      <td>0922F21EDC911A87</td>\n      <td>B4CD039EDBAFDB6A</td>\n      <td>R514</td>\n      <td>R094</td>\n      <td>00-05-00</td>\n      <td>ASTORIA BLVD</td>\n      <td>NQW</td>\n      <td>BMT</td>\n      <td>2020-01-22 03:00:00</td>\n      <td>RECOVR AUD</td>\n      <td>17</td>\n      <td>0</td>\n    </tr>\n    <tr>\n      <th>184499</th>\n      <td>0A2E91A008B6CEC5</td>\n      <td>B4CD039EDBAFDB6A</td>\n      <td>R514</td>\n      <td>R094</td>\n      <td>00-05-00</td>\n      <td>ASTORIA BLVD</td>\n      <td>NQW</td>\n      <td>BMT</td>\n      <td>2020-01-20 19:00:00</td>\n      <td>REGULAR</td>\n      <td>17</td>\n      <td>0</td>\n    </tr>\n    <tr>\n      <th>...</th>\n      <td>...</td>\n      <td>...</td>\n      <td>...</td>\n      <td>...</td>\n      <td>...</td>\n      <td>...</td>\n      <td>...</td>\n      <td>...</td>\n      <td>...</td>\n      <td>...</td>\n      <td>...</td>\n      <td>...</td>\n    </tr>\n    <tr>\n      <th>184492</th>\n      <td>F72F8DE19515A966</td>\n      <td>B4CD039EDBAFDB6A</td>\n      <td>R514</td>\n      <td>R094</td>\n      <td>00-05-00</td>\n      <td>ASTORIA BLVD</td>\n      <td>NQW</td>\n      <td>BMT</td>\n      <td>2020-01-20 03:00:00</td>\n      <td>RECOVR AUD</td>\n      <td>15</td>\n      <td>0</td>\n    </tr>\n    <tr>\n      <th>184504</th>\n      <td>F8C9004FC73D9CD3</td>\n      <td>B4CD039EDBAFDB6A</td>\n      <td>R514</td>\n      <td>R094</td>\n      <td>00-05-00</td>\n      <td>ASTORIA BLVD</td>\n      <td>NQW</td>\n      <td>BMT</td>\n      <td>2020-01-21 03:00:00</td>\n      <td>RECOVR AUD</td>\n      <td>15</td>\n      <td>0</td>\n    </tr>\n    <tr>\n      <th>184503</th>\n      <td>F8C9004FC73D9CD3</td>\n      <td>B4CD039EDBAFDB6A</td>\n      <td>R514</td>\n      <td>R094</td>\n      <td>00-05-00</td>\n      <td>ASTORIA BLVD</td>\n      <td>NQW</td>\n      <td>BMT</td>\n      <td>2020-01-21 03:00:00</td>\n      <td>REGULAR</td>\n      <td>17</td>\n      <td>0</td>\n    </tr>\n    <tr>\n      <th>184483</th>\n      <td>FB3B3F0E08207E89</td>\n      <td>B4CD039EDBAFDB6A</td>\n      <td>R514</td>\n      <td>R094</td>\n      <td>00-05-00</td>\n      <td>ASTORIA BLVD</td>\n      <td>NQW</td>\n      <td>BMT</td>\n      <td>2020-01-19 11:00:00</td>\n      <td>REGULAR</td>\n      <td>15</td>\n      <td>0</td>\n    </tr>\n    <tr>\n      <th>184484</th>\n      <td>FB3B3F0E08207E89</td>\n      <td>B4CD039EDBAFDB6A</td>\n      <td>R514</td>\n      <td>R094</td>\n      <td>00-05-00</td>\n      <td>ASTORIA BLVD</td>\n      <td>NQW</td>\n      <td>BMT</td>\n      <td>2020-01-19 11:00:00</td>\n      <td>RECOVR AUD</td>\n      <td>16</td>\n      <td>0</td>\n    </tr>\n  </tbody>\n</table>\n<p>64 rows × 12 columns</p>\n</div>"
     },
     "metadata": {},
     "execution_count": 14
    }
   ],
   "source": [
    "eda.identify_duplicates(mta_data, 'UID', 'UNIT')"
   ]
  },
  {
   "cell_type": "code",
   "execution_count": 15,
   "metadata": {},
   "outputs": [
    {
     "output_type": "execute_result",
     "data": {
      "text/plain": [
       "                    UID               TID   C/A  UNIT       SCP     STATION  \\\n",
       "32400  78B40D7CD2F90B1A  892D72F2533CCDC3  H009  R235  00-03-00  BEDFORD AV   \n",
       "32401  78B40D7CD2F90B1A  892D72F2533CCDC3  H009  R235  00-03-00  BEDFORD AV   \n",
       "\n",
       "      LINENAME DIVISION            DATETIME        DESC   ENTRIES     EXITS  \n",
       "32400        L      BMT 2020-03-22 12:00:00     REGULAR  17126296  22672798  \n",
       "32401        L      BMT 2020-03-22 12:00:00  RECOVR AUD  19676995  30044802  "
      ],
      "text/html": "<div>\n<style scoped>\n    .dataframe tbody tr th:only-of-type {\n        vertical-align: middle;\n    }\n\n    .dataframe tbody tr th {\n        vertical-align: top;\n    }\n\n    .dataframe thead th {\n        text-align: right;\n    }\n</style>\n<table border=\"1\" class=\"dataframe\">\n  <thead>\n    <tr style=\"text-align: right;\">\n      <th></th>\n      <th>UID</th>\n      <th>TID</th>\n      <th>C/A</th>\n      <th>UNIT</th>\n      <th>SCP</th>\n      <th>STATION</th>\n      <th>LINENAME</th>\n      <th>DIVISION</th>\n      <th>DATETIME</th>\n      <th>DESC</th>\n      <th>ENTRIES</th>\n      <th>EXITS</th>\n    </tr>\n  </thead>\n  <tbody>\n    <tr>\n      <th>32400</th>\n      <td>78B40D7CD2F90B1A</td>\n      <td>892D72F2533CCDC3</td>\n      <td>H009</td>\n      <td>R235</td>\n      <td>00-03-00</td>\n      <td>BEDFORD AV</td>\n      <td>L</td>\n      <td>BMT</td>\n      <td>2020-03-22 12:00:00</td>\n      <td>REGULAR</td>\n      <td>17126296</td>\n      <td>22672798</td>\n    </tr>\n    <tr>\n      <th>32401</th>\n      <td>78B40D7CD2F90B1A</td>\n      <td>892D72F2533CCDC3</td>\n      <td>H009</td>\n      <td>R235</td>\n      <td>00-03-00</td>\n      <td>BEDFORD AV</td>\n      <td>L</td>\n      <td>BMT</td>\n      <td>2020-03-22 12:00:00</td>\n      <td>RECOVR AUD</td>\n      <td>19676995</td>\n      <td>30044802</td>\n    </tr>\n  </tbody>\n</table>\n</div>"
     },
     "metadata": {},
     "execution_count": 15
    }
   ],
   "source": [
    "mta_data[mta_data.UID == '78B40D7CD2F90B1A']"
   ]
  },
  {
   "cell_type": "code",
   "execution_count": 16,
   "metadata": {},
   "outputs": [],
   "source": [
    "# mta_data.sort_values([\"UID\", \"DESC\"], inplace=True, ascending=False)\n",
    "# mta_data.drop_duplicates(subset=[\"UID\"], inplace=True, keep='first')"
   ]
  },
  {
   "cell_type": "code",
   "execution_count": null,
   "metadata": {},
   "outputs": [],
   "source": [
    "# get names of indexes for which\n",
    "# column Age has value 21\n",
    "mta_data.drop(mta_data[mta_data['DESC'] == 'RECOVR AUD'].index, inplace = True)"
   ]
  },
  {
   "cell_type": "code",
   "execution_count": 20,
   "metadata": {},
   "outputs": [
    {
     "output_type": "error",
     "ename": "Exception",
     "evalue": "Pause",
     "traceback": [
      "\u001b[0;31m---------------------------------------------------------------------------\u001b[0m",
      "\u001b[0;31mException\u001b[0m                                 Traceback (most recent call last)",
      "\u001b[0;32m<ipython-input-20-a4762432c484>\u001b[0m in \u001b[0;36m<module>\u001b[0;34m\u001b[0m\n\u001b[0;32m----> 1\u001b[0;31m \u001b[0;32mraise\u001b[0m \u001b[0mException\u001b[0m\u001b[0;34m(\u001b[0m\u001b[0;34m'Pause'\u001b[0m\u001b[0;34m)\u001b[0m\u001b[0;34m\u001b[0m\u001b[0;34m\u001b[0m\u001b[0m\n\u001b[0m",
      "\u001b[0;31mException\u001b[0m: Pause"
     ]
    }
   ],
   "source": [
    "raise Exception('Pause')"
   ]
  },
  {
   "cell_type": "code",
   "execution_count": 17,
   "metadata": {},
   "outputs": [],
   "source": [
    "# Create Weekday from newly create DateTime column\n",
    "mta_data['DoW'] = mta_data['DATETIME'].dt.day_name()"
   ]
  },
  {
   "cell_type": "code",
   "execution_count": 18,
   "metadata": {},
   "outputs": [],
   "source": [
    "# Identify Daytime\n",
    "mta_data['WEEKEND'] = mta_data['DoW'].apply(lambda x: True if (x == 'Saturday' or x == 'Sunday') else False)"
   ]
  },
  {
   "cell_type": "code",
   "execution_count": 19,
   "metadata": {},
   "outputs": [],
   "source": [
    "# Create Time of Day\n",
    "mta_data['HOUR'] = mta_data['DATETIME'].dt.hour"
   ]
  },
  {
   "cell_type": "code",
   "execution_count": null,
   "metadata": {},
   "outputs": [],
   "source": []
  },
  {
   "cell_type": "code",
   "execution_count": 20,
   "metadata": {},
   "outputs": [],
   "source": [
    "# Daily Counts by Turnstile\n",
    "mta_data['ENTRYDIFF'] = mta_data['ENTRIES'].diff()\n",
    "mta_data['EXITDIFF'] = mta_data['EXITS'].diff()"
   ]
  },
  {
   "cell_type": "code",
   "execution_count": 21,
   "metadata": {},
   "outputs": [],
   "source": [
    "mta_data['DURATION'] = mta_data.DATETIME.diff().apply(lambda x: x.total_seconds()/3600)"
   ]
  },
  {
   "cell_type": "code",
   "execution_count": 22,
   "metadata": {},
   "outputs": [],
   "source": [
    "# Drop Rows without changes\n",
    "mta_data.dropna(subset=['ENTRYDIFF', 'EXITDIFF'], inplace=True)"
   ]
  },
  {
   "cell_type": "code",
   "execution_count": 23,
   "metadata": {},
   "outputs": [],
   "source": [
    "# Drop First Entry Per Turnstile\n",
    "# mta_data = mta_data[mta_data.DATETIME >= mta_data.DATETIME.dt.day.min() + pd.DateOffset(days=1)]"
   ]
  },
  {
   "cell_type": "code",
   "execution_count": 24,
   "metadata": {},
   "outputs": [],
   "source": [
    "# Normalize floats to int values\n",
    "mta_data['ENTRYDIFF'] = mta_data['ENTRYDIFF'].astype(int)\n",
    "mta_data['EXITDIFF'] = mta_data['EXITDIFF'].astype(int)\n",
    "mta_data['TOTAL_TRAFFIC'] = mta_data['ENTRYDIFF'] + mta_data['EXITDIFF']"
   ]
  },
  {
   "cell_type": "code",
   "execution_count": 25,
   "metadata": {},
   "outputs": [],
   "source": [
    "mta_data['AVG_TRAFFIC'] = mta_data['TOTAL_TRAFFIC'] / mta_data['DURATION']"
   ]
  },
  {
   "cell_type": "code",
   "execution_count": 26,
   "metadata": {},
   "outputs": [],
   "source": [
    "# Drop ENTRYDIFF AND EXITDIFF Rows with extreme values\n",
    "mta_data = mta_data[mta_data.ENTRYDIFF <= 10000]\n",
    "mta_data = mta_data[mta_data.ENTRYDIFF > 0]\n",
    "\n",
    "mta_data = mta_data[mta_data.EXITDIFF <= 10000]\n",
    "mta_data = mta_data[mta_data.EXITDIFF > 0]"
   ]
  },
  {
   "cell_type": "code",
   "execution_count": 27,
   "metadata": {},
   "outputs": [],
   "source": [
    "# Restructure columns\n",
    "columns_order = ['TID','UNIT','SCP','STATION','LINENAME','DIVISION','DATETIME','HOUR','DoW','WEEKEND','DESC','ENTRIES','EXITS','ENTRYDIFF','EXITDIFF','DURATION','TOTAL_TRAFFIC','AVG_TRAFFIC']\n",
    "mta_data = mta_data[columns_order]"
   ]
  },
  {
   "cell_type": "code",
   "execution_count": 28,
   "metadata": {},
   "outputs": [
    {
     "output_type": "execute_result",
     "data": {
      "text/plain": [
       "                 TID  UNIT       SCP STATION LINENAME DIVISION  \\\n",
       "1   90191926F891F8C7  R051  02-00-00   59 ST  NQR456W      BMT   \n",
       "2   90191926F891F8C7  R051  02-00-00   59 ST  NQR456W      BMT   \n",
       "3   90191926F891F8C7  R051  02-00-00   59 ST  NQR456W      BMT   \n",
       "4   90191926F891F8C7  R051  02-00-00   59 ST  NQR456W      BMT   \n",
       "5   90191926F891F8C7  R051  02-00-00   59 ST  NQR456W      BMT   \n",
       "6   90191926F891F8C7  R051  02-00-00   59 ST  NQR456W      BMT   \n",
       "7   90191926F891F8C7  R051  02-00-00   59 ST  NQR456W      BMT   \n",
       "8   90191926F891F8C7  R051  02-00-00   59 ST  NQR456W      BMT   \n",
       "9   90191926F891F8C7  R051  02-00-00   59 ST  NQR456W      BMT   \n",
       "10  90191926F891F8C7  R051  02-00-00   59 ST  NQR456W      BMT   \n",
       "11  90191926F891F8C7  R051  02-00-00   59 ST  NQR456W      BMT   \n",
       "12  90191926F891F8C7  R051  02-00-00   59 ST  NQR456W      BMT   \n",
       "13  90191926F891F8C7  R051  02-00-00   59 ST  NQR456W      BMT   \n",
       "14  90191926F891F8C7  R051  02-00-00   59 ST  NQR456W      BMT   \n",
       "15  90191926F891F8C7  R051  02-00-00   59 ST  NQR456W      BMT   \n",
       "16  90191926F891F8C7  R051  02-00-00   59 ST  NQR456W      BMT   \n",
       "17  90191926F891F8C7  R051  02-00-00   59 ST  NQR456W      BMT   \n",
       "19  90191926F891F8C7  R051  02-00-00   59 ST  NQR456W      BMT   \n",
       "20  90191926F891F8C7  R051  02-00-00   59 ST  NQR456W      BMT   \n",
       "21  90191926F891F8C7  R051  02-00-00   59 ST  NQR456W      BMT   \n",
       "\n",
       "              DATETIME  HOUR       DoW  WEEKEND     DESC  ENTRIES    EXITS  \\\n",
       "1  2020-03-07 07:00:00     7  Saturday     True  REGULAR  7402480  2511937   \n",
       "2  2020-03-07 11:00:00    11  Saturday     True  REGULAR  7402559  2512022   \n",
       "3  2020-03-07 15:00:00    15  Saturday     True  REGULAR  7402755  2512073   \n",
       "4  2020-03-07 19:00:00    19  Saturday     True  REGULAR  7403040  2512132   \n",
       "5  2020-03-07 23:00:00    23  Saturday     True  REGULAR  7403197  2512159   \n",
       "6  2020-03-08 04:00:00     4    Sunday     True  REGULAR  7403226  2512176   \n",
       "7  2020-03-08 08:00:00     8    Sunday     True  REGULAR  7403240  2512195   \n",
       "8  2020-03-08 12:00:00    12    Sunday     True  REGULAR  7403299  2512245   \n",
       "9  2020-03-08 16:00:00    16    Sunday     True  REGULAR  7403433  2512293   \n",
       "10 2020-03-08 20:00:00    20    Sunday     True  REGULAR  7403667  2512332   \n",
       "11 2020-03-09 00:00:00     0    Monday    False  REGULAR  7403756  2512351   \n",
       "12 2020-03-09 04:00:00     4    Monday    False  REGULAR  7403762  2512352   \n",
       "13 2020-03-09 08:00:00     8    Monday    False  REGULAR  7403784  2512463   \n",
       "14 2020-03-09 12:00:00    12    Monday    False  REGULAR  7403915  2512689   \n",
       "15 2020-03-09 16:00:00    16    Monday    False  REGULAR  7404153  2512730   \n",
       "16 2020-03-09 20:00:00    20    Monday    False  REGULAR  7404827  2512789   \n",
       "17 2020-03-10 00:00:00     0   Tuesday    False  REGULAR  7404958  2512810   \n",
       "19 2020-03-10 08:00:00     8   Tuesday    False  REGULAR  7404986  2512908   \n",
       "20 2020-03-10 12:00:00    12   Tuesday    False  REGULAR  7405086  2513146   \n",
       "21 2020-03-10 16:00:00    16   Tuesday    False  REGULAR  7405358  2513209   \n",
       "\n",
       "    ENTRYDIFF  EXITDIFF  DURATION  TOTAL_TRAFFIC  AVG_TRAFFIC  \n",
       "1          11        11       4.0             22         5.50  \n",
       "2          79        85       4.0            164        41.00  \n",
       "3         196        51       4.0            247        61.75  \n",
       "4         285        59       4.0            344        86.00  \n",
       "5         157        27       4.0            184        46.00  \n",
       "6          29        17       5.0             46         9.20  \n",
       "7          14        19       4.0             33         8.25  \n",
       "8          59        50       4.0            109        27.25  \n",
       "9         134        48       4.0            182        45.50  \n",
       "10        234        39       4.0            273        68.25  \n",
       "11         89        19       4.0            108        27.00  \n",
       "12          6         1       4.0              7         1.75  \n",
       "13         22       111       4.0            133        33.25  \n",
       "14        131       226       4.0            357        89.25  \n",
       "15        238        41       4.0            279        69.75  \n",
       "16        674        59       4.0            733       183.25  \n",
       "17        131        21       4.0            152        38.00  \n",
       "19         26        98       4.0            124        31.00  \n",
       "20        100       238       4.0            338        84.50  \n",
       "21        272        63       4.0            335        83.75  "
      ],
      "text/html": "<div>\n<style scoped>\n    .dataframe tbody tr th:only-of-type {\n        vertical-align: middle;\n    }\n\n    .dataframe tbody tr th {\n        vertical-align: top;\n    }\n\n    .dataframe thead th {\n        text-align: right;\n    }\n</style>\n<table border=\"1\" class=\"dataframe\">\n  <thead>\n    <tr style=\"text-align: right;\">\n      <th></th>\n      <th>TID</th>\n      <th>UNIT</th>\n      <th>SCP</th>\n      <th>STATION</th>\n      <th>LINENAME</th>\n      <th>DIVISION</th>\n      <th>DATETIME</th>\n      <th>HOUR</th>\n      <th>DoW</th>\n      <th>WEEKEND</th>\n      <th>DESC</th>\n      <th>ENTRIES</th>\n      <th>EXITS</th>\n      <th>ENTRYDIFF</th>\n      <th>EXITDIFF</th>\n      <th>DURATION</th>\n      <th>TOTAL_TRAFFIC</th>\n      <th>AVG_TRAFFIC</th>\n    </tr>\n  </thead>\n  <tbody>\n    <tr>\n      <th>1</th>\n      <td>90191926F891F8C7</td>\n      <td>R051</td>\n      <td>02-00-00</td>\n      <td>59 ST</td>\n      <td>NQR456W</td>\n      <td>BMT</td>\n      <td>2020-03-07 07:00:00</td>\n      <td>7</td>\n      <td>Saturday</td>\n      <td>True</td>\n      <td>REGULAR</td>\n      <td>7402480</td>\n      <td>2511937</td>\n      <td>11</td>\n      <td>11</td>\n      <td>4.0</td>\n      <td>22</td>\n      <td>5.50</td>\n    </tr>\n    <tr>\n      <th>2</th>\n      <td>90191926F891F8C7</td>\n      <td>R051</td>\n      <td>02-00-00</td>\n      <td>59 ST</td>\n      <td>NQR456W</td>\n      <td>BMT</td>\n      <td>2020-03-07 11:00:00</td>\n      <td>11</td>\n      <td>Saturday</td>\n      <td>True</td>\n      <td>REGULAR</td>\n      <td>7402559</td>\n      <td>2512022</td>\n      <td>79</td>\n      <td>85</td>\n      <td>4.0</td>\n      <td>164</td>\n      <td>41.00</td>\n    </tr>\n    <tr>\n      <th>3</th>\n      <td>90191926F891F8C7</td>\n      <td>R051</td>\n      <td>02-00-00</td>\n      <td>59 ST</td>\n      <td>NQR456W</td>\n      <td>BMT</td>\n      <td>2020-03-07 15:00:00</td>\n      <td>15</td>\n      <td>Saturday</td>\n      <td>True</td>\n      <td>REGULAR</td>\n      <td>7402755</td>\n      <td>2512073</td>\n      <td>196</td>\n      <td>51</td>\n      <td>4.0</td>\n      <td>247</td>\n      <td>61.75</td>\n    </tr>\n    <tr>\n      <th>4</th>\n      <td>90191926F891F8C7</td>\n      <td>R051</td>\n      <td>02-00-00</td>\n      <td>59 ST</td>\n      <td>NQR456W</td>\n      <td>BMT</td>\n      <td>2020-03-07 19:00:00</td>\n      <td>19</td>\n      <td>Saturday</td>\n      <td>True</td>\n      <td>REGULAR</td>\n      <td>7403040</td>\n      <td>2512132</td>\n      <td>285</td>\n      <td>59</td>\n      <td>4.0</td>\n      <td>344</td>\n      <td>86.00</td>\n    </tr>\n    <tr>\n      <th>5</th>\n      <td>90191926F891F8C7</td>\n      <td>R051</td>\n      <td>02-00-00</td>\n      <td>59 ST</td>\n      <td>NQR456W</td>\n      <td>BMT</td>\n      <td>2020-03-07 23:00:00</td>\n      <td>23</td>\n      <td>Saturday</td>\n      <td>True</td>\n      <td>REGULAR</td>\n      <td>7403197</td>\n      <td>2512159</td>\n      <td>157</td>\n      <td>27</td>\n      <td>4.0</td>\n      <td>184</td>\n      <td>46.00</td>\n    </tr>\n    <tr>\n      <th>6</th>\n      <td>90191926F891F8C7</td>\n      <td>R051</td>\n      <td>02-00-00</td>\n      <td>59 ST</td>\n      <td>NQR456W</td>\n      <td>BMT</td>\n      <td>2020-03-08 04:00:00</td>\n      <td>4</td>\n      <td>Sunday</td>\n      <td>True</td>\n      <td>REGULAR</td>\n      <td>7403226</td>\n      <td>2512176</td>\n      <td>29</td>\n      <td>17</td>\n      <td>5.0</td>\n      <td>46</td>\n      <td>9.20</td>\n    </tr>\n    <tr>\n      <th>7</th>\n      <td>90191926F891F8C7</td>\n      <td>R051</td>\n      <td>02-00-00</td>\n      <td>59 ST</td>\n      <td>NQR456W</td>\n      <td>BMT</td>\n      <td>2020-03-08 08:00:00</td>\n      <td>8</td>\n      <td>Sunday</td>\n      <td>True</td>\n      <td>REGULAR</td>\n      <td>7403240</td>\n      <td>2512195</td>\n      <td>14</td>\n      <td>19</td>\n      <td>4.0</td>\n      <td>33</td>\n      <td>8.25</td>\n    </tr>\n    <tr>\n      <th>8</th>\n      <td>90191926F891F8C7</td>\n      <td>R051</td>\n      <td>02-00-00</td>\n      <td>59 ST</td>\n      <td>NQR456W</td>\n      <td>BMT</td>\n      <td>2020-03-08 12:00:00</td>\n      <td>12</td>\n      <td>Sunday</td>\n      <td>True</td>\n      <td>REGULAR</td>\n      <td>7403299</td>\n      <td>2512245</td>\n      <td>59</td>\n      <td>50</td>\n      <td>4.0</td>\n      <td>109</td>\n      <td>27.25</td>\n    </tr>\n    <tr>\n      <th>9</th>\n      <td>90191926F891F8C7</td>\n      <td>R051</td>\n      <td>02-00-00</td>\n      <td>59 ST</td>\n      <td>NQR456W</td>\n      <td>BMT</td>\n      <td>2020-03-08 16:00:00</td>\n      <td>16</td>\n      <td>Sunday</td>\n      <td>True</td>\n      <td>REGULAR</td>\n      <td>7403433</td>\n      <td>2512293</td>\n      <td>134</td>\n      <td>48</td>\n      <td>4.0</td>\n      <td>182</td>\n      <td>45.50</td>\n    </tr>\n    <tr>\n      <th>10</th>\n      <td>90191926F891F8C7</td>\n      <td>R051</td>\n      <td>02-00-00</td>\n      <td>59 ST</td>\n      <td>NQR456W</td>\n      <td>BMT</td>\n      <td>2020-03-08 20:00:00</td>\n      <td>20</td>\n      <td>Sunday</td>\n      <td>True</td>\n      <td>REGULAR</td>\n      <td>7403667</td>\n      <td>2512332</td>\n      <td>234</td>\n      <td>39</td>\n      <td>4.0</td>\n      <td>273</td>\n      <td>68.25</td>\n    </tr>\n    <tr>\n      <th>11</th>\n      <td>90191926F891F8C7</td>\n      <td>R051</td>\n      <td>02-00-00</td>\n      <td>59 ST</td>\n      <td>NQR456W</td>\n      <td>BMT</td>\n      <td>2020-03-09 00:00:00</td>\n      <td>0</td>\n      <td>Monday</td>\n      <td>False</td>\n      <td>REGULAR</td>\n      <td>7403756</td>\n      <td>2512351</td>\n      <td>89</td>\n      <td>19</td>\n      <td>4.0</td>\n      <td>108</td>\n      <td>27.00</td>\n    </tr>\n    <tr>\n      <th>12</th>\n      <td>90191926F891F8C7</td>\n      <td>R051</td>\n      <td>02-00-00</td>\n      <td>59 ST</td>\n      <td>NQR456W</td>\n      <td>BMT</td>\n      <td>2020-03-09 04:00:00</td>\n      <td>4</td>\n      <td>Monday</td>\n      <td>False</td>\n      <td>REGULAR</td>\n      <td>7403762</td>\n      <td>2512352</td>\n      <td>6</td>\n      <td>1</td>\n      <td>4.0</td>\n      <td>7</td>\n      <td>1.75</td>\n    </tr>\n    <tr>\n      <th>13</th>\n      <td>90191926F891F8C7</td>\n      <td>R051</td>\n      <td>02-00-00</td>\n      <td>59 ST</td>\n      <td>NQR456W</td>\n      <td>BMT</td>\n      <td>2020-03-09 08:00:00</td>\n      <td>8</td>\n      <td>Monday</td>\n      <td>False</td>\n      <td>REGULAR</td>\n      <td>7403784</td>\n      <td>2512463</td>\n      <td>22</td>\n      <td>111</td>\n      <td>4.0</td>\n      <td>133</td>\n      <td>33.25</td>\n    </tr>\n    <tr>\n      <th>14</th>\n      <td>90191926F891F8C7</td>\n      <td>R051</td>\n      <td>02-00-00</td>\n      <td>59 ST</td>\n      <td>NQR456W</td>\n      <td>BMT</td>\n      <td>2020-03-09 12:00:00</td>\n      <td>12</td>\n      <td>Monday</td>\n      <td>False</td>\n      <td>REGULAR</td>\n      <td>7403915</td>\n      <td>2512689</td>\n      <td>131</td>\n      <td>226</td>\n      <td>4.0</td>\n      <td>357</td>\n      <td>89.25</td>\n    </tr>\n    <tr>\n      <th>15</th>\n      <td>90191926F891F8C7</td>\n      <td>R051</td>\n      <td>02-00-00</td>\n      <td>59 ST</td>\n      <td>NQR456W</td>\n      <td>BMT</td>\n      <td>2020-03-09 16:00:00</td>\n      <td>16</td>\n      <td>Monday</td>\n      <td>False</td>\n      <td>REGULAR</td>\n      <td>7404153</td>\n      <td>2512730</td>\n      <td>238</td>\n      <td>41</td>\n      <td>4.0</td>\n      <td>279</td>\n      <td>69.75</td>\n    </tr>\n    <tr>\n      <th>16</th>\n      <td>90191926F891F8C7</td>\n      <td>R051</td>\n      <td>02-00-00</td>\n      <td>59 ST</td>\n      <td>NQR456W</td>\n      <td>BMT</td>\n      <td>2020-03-09 20:00:00</td>\n      <td>20</td>\n      <td>Monday</td>\n      <td>False</td>\n      <td>REGULAR</td>\n      <td>7404827</td>\n      <td>2512789</td>\n      <td>674</td>\n      <td>59</td>\n      <td>4.0</td>\n      <td>733</td>\n      <td>183.25</td>\n    </tr>\n    <tr>\n      <th>17</th>\n      <td>90191926F891F8C7</td>\n      <td>R051</td>\n      <td>02-00-00</td>\n      <td>59 ST</td>\n      <td>NQR456W</td>\n      <td>BMT</td>\n      <td>2020-03-10 00:00:00</td>\n      <td>0</td>\n      <td>Tuesday</td>\n      <td>False</td>\n      <td>REGULAR</td>\n      <td>7404958</td>\n      <td>2512810</td>\n      <td>131</td>\n      <td>21</td>\n      <td>4.0</td>\n      <td>152</td>\n      <td>38.00</td>\n    </tr>\n    <tr>\n      <th>19</th>\n      <td>90191926F891F8C7</td>\n      <td>R051</td>\n      <td>02-00-00</td>\n      <td>59 ST</td>\n      <td>NQR456W</td>\n      <td>BMT</td>\n      <td>2020-03-10 08:00:00</td>\n      <td>8</td>\n      <td>Tuesday</td>\n      <td>False</td>\n      <td>REGULAR</td>\n      <td>7404986</td>\n      <td>2512908</td>\n      <td>26</td>\n      <td>98</td>\n      <td>4.0</td>\n      <td>124</td>\n      <td>31.00</td>\n    </tr>\n    <tr>\n      <th>20</th>\n      <td>90191926F891F8C7</td>\n      <td>R051</td>\n      <td>02-00-00</td>\n      <td>59 ST</td>\n      <td>NQR456W</td>\n      <td>BMT</td>\n      <td>2020-03-10 12:00:00</td>\n      <td>12</td>\n      <td>Tuesday</td>\n      <td>False</td>\n      <td>REGULAR</td>\n      <td>7405086</td>\n      <td>2513146</td>\n      <td>100</td>\n      <td>238</td>\n      <td>4.0</td>\n      <td>338</td>\n      <td>84.50</td>\n    </tr>\n    <tr>\n      <th>21</th>\n      <td>90191926F891F8C7</td>\n      <td>R051</td>\n      <td>02-00-00</td>\n      <td>59 ST</td>\n      <td>NQR456W</td>\n      <td>BMT</td>\n      <td>2020-03-10 16:00:00</td>\n      <td>16</td>\n      <td>Tuesday</td>\n      <td>False</td>\n      <td>REGULAR</td>\n      <td>7405358</td>\n      <td>2513209</td>\n      <td>272</td>\n      <td>63</td>\n      <td>4.0</td>\n      <td>335</td>\n      <td>83.75</td>\n    </tr>\n  </tbody>\n</table>\n</div>"
     },
     "metadata": {},
     "execution_count": 28
    }
   ],
   "source": [
    "mta_data.head(20)"
   ]
  },
  {
   "cell_type": "code",
   "execution_count": 29,
   "metadata": {},
   "outputs": [
    {
     "output_type": "stream",
     "name": "stdout",
     "text": [
      "--------------Possible Duplicate Rows--------------\n"
     ]
    },
    {
     "output_type": "execute_result",
     "data": {
      "text/plain": [
       "                     TID  UNIT       SCP          STATION LINENAME DIVISION  \\\n",
       "151729  081CADC137B8554A  R194  00-00-00      BLEECKER ST      6DF      IRT   \n",
       "151731  081CADC137B8554A  R194  00-00-00      BLEECKER ST      6DF      IRT   \n",
       "115619  085E8E2F31111820  R549  00-01-04  NEWARK HW BMEBE        1      PTH   \n",
       "114785  085E8E2F31111820  R549  00-01-04  NEWARK HW BMEBE        1      PTH   \n",
       "114803  085E8E2F31111820  R549  00-01-04  NEWARK HW BMEBE        1      PTH   \n",
       "...                  ...   ...       ...              ...      ...      ...   \n",
       "96030   FD7E05AB4863CA8C  R020  01-06-01   47-50 STS ROCK     BDFM      IND   \n",
       "96031   FD7E05AB4863CA8C  R020  01-06-01   47-50 STS ROCK     BDFM      IND   \n",
       "96040   FD7E05AB4863CA8C  R020  01-06-01   47-50 STS ROCK     BDFM      IND   \n",
       "121658  FFA87F8C5782C55C  R542  00-00-02  TWENTY THIRD ST        1      PTH   \n",
       "120808  FFA87F8C5782C55C  R542  00-00-02  TWENTY THIRD ST        1      PTH   \n",
       "\n",
       "                  DATETIME  HOUR       DoW  WEEKEND     DESC  ENTRIES   EXITS  \\\n",
       "151729 2020-03-09 12:00:00    12    Monday    False  REGULAR   536805  173160   \n",
       "151731 2020-03-09 12:01:47    12    Monday    False  REGULAR   536805  173160   \n",
       "115619 2019-12-28 03:04:20     3  Saturday     True  REGULAR      304  174783   \n",
       "114785 2020-01-11 03:04:20     3  Saturday     True  REGULAR      304  184812   \n",
       "114803 2020-01-14 06:40:20     6   Tuesday    False  REGULAR      307  186301   \n",
       "...                    ...   ...       ...      ...      ...      ...     ...   \n",
       "96030  2020-02-08 19:00:00    19  Saturday     True  REGULAR   589895      38   \n",
       "96031  2020-02-08 23:00:00    23  Saturday     True  REGULAR   589914      43   \n",
       "96040  2020-02-10 11:00:00    11    Monday    False  REGULAR   590033     544   \n",
       "121658 2020-01-02 09:51:07     9  Thursday    False  REGULAR    98269   69469   \n",
       "120808 2020-03-29 01:29:55     1    Sunday     True  REGULAR    98269    2213   \n",
       "\n",
       "        ENTRYDIFF  EXITDIFF    DURATION  TOTAL_TRAFFIC  AVG_TRAFFIC  \n",
       "151729          1         2    0.015000              3   200.000000  \n",
       "151731          1         2    0.022500              3   133.333333  \n",
       "115619        113      2989 -163.313611           3102   -18.994130  \n",
       "114785        113       186 -163.222500            299    -1.831855  \n",
       "114803          2        19    4.200000             21     5.000000  \n",
       "...           ...       ...         ...            ...          ...  \n",
       "96030          43        11    4.000000             54    13.500000  \n",
       "96031          19         5    4.000000             24     6.000000  \n",
       "96040          41       461    4.000000            502   125.500000  \n",
       "121658        228         2    4.200000            230    54.761905  \n",
       "120808          3         2    4.200000              5     1.190476  \n",
       "\n",
       "[538 rows x 18 columns]"
      ],
      "text/html": "<div>\n<style scoped>\n    .dataframe tbody tr th:only-of-type {\n        vertical-align: middle;\n    }\n\n    .dataframe tbody tr th {\n        vertical-align: top;\n    }\n\n    .dataframe thead th {\n        text-align: right;\n    }\n</style>\n<table border=\"1\" class=\"dataframe\">\n  <thead>\n    <tr style=\"text-align: right;\">\n      <th></th>\n      <th>TID</th>\n      <th>UNIT</th>\n      <th>SCP</th>\n      <th>STATION</th>\n      <th>LINENAME</th>\n      <th>DIVISION</th>\n      <th>DATETIME</th>\n      <th>HOUR</th>\n      <th>DoW</th>\n      <th>WEEKEND</th>\n      <th>DESC</th>\n      <th>ENTRIES</th>\n      <th>EXITS</th>\n      <th>ENTRYDIFF</th>\n      <th>EXITDIFF</th>\n      <th>DURATION</th>\n      <th>TOTAL_TRAFFIC</th>\n      <th>AVG_TRAFFIC</th>\n    </tr>\n  </thead>\n  <tbody>\n    <tr>\n      <th>151729</th>\n      <td>081CADC137B8554A</td>\n      <td>R194</td>\n      <td>00-00-00</td>\n      <td>BLEECKER ST</td>\n      <td>6DF</td>\n      <td>IRT</td>\n      <td>2020-03-09 12:00:00</td>\n      <td>12</td>\n      <td>Monday</td>\n      <td>False</td>\n      <td>REGULAR</td>\n      <td>536805</td>\n      <td>173160</td>\n      <td>1</td>\n      <td>2</td>\n      <td>0.015000</td>\n      <td>3</td>\n      <td>200.000000</td>\n    </tr>\n    <tr>\n      <th>151731</th>\n      <td>081CADC137B8554A</td>\n      <td>R194</td>\n      <td>00-00-00</td>\n      <td>BLEECKER ST</td>\n      <td>6DF</td>\n      <td>IRT</td>\n      <td>2020-03-09 12:01:47</td>\n      <td>12</td>\n      <td>Monday</td>\n      <td>False</td>\n      <td>REGULAR</td>\n      <td>536805</td>\n      <td>173160</td>\n      <td>1</td>\n      <td>2</td>\n      <td>0.022500</td>\n      <td>3</td>\n      <td>133.333333</td>\n    </tr>\n    <tr>\n      <th>115619</th>\n      <td>085E8E2F31111820</td>\n      <td>R549</td>\n      <td>00-01-04</td>\n      <td>NEWARK HW BMEBE</td>\n      <td>1</td>\n      <td>PTH</td>\n      <td>2019-12-28 03:04:20</td>\n      <td>3</td>\n      <td>Saturday</td>\n      <td>True</td>\n      <td>REGULAR</td>\n      <td>304</td>\n      <td>174783</td>\n      <td>113</td>\n      <td>2989</td>\n      <td>-163.313611</td>\n      <td>3102</td>\n      <td>-18.994130</td>\n    </tr>\n    <tr>\n      <th>114785</th>\n      <td>085E8E2F31111820</td>\n      <td>R549</td>\n      <td>00-01-04</td>\n      <td>NEWARK HW BMEBE</td>\n      <td>1</td>\n      <td>PTH</td>\n      <td>2020-01-11 03:04:20</td>\n      <td>3</td>\n      <td>Saturday</td>\n      <td>True</td>\n      <td>REGULAR</td>\n      <td>304</td>\n      <td>184812</td>\n      <td>113</td>\n      <td>186</td>\n      <td>-163.222500</td>\n      <td>299</td>\n      <td>-1.831855</td>\n    </tr>\n    <tr>\n      <th>114803</th>\n      <td>085E8E2F31111820</td>\n      <td>R549</td>\n      <td>00-01-04</td>\n      <td>NEWARK HW BMEBE</td>\n      <td>1</td>\n      <td>PTH</td>\n      <td>2020-01-14 06:40:20</td>\n      <td>6</td>\n      <td>Tuesday</td>\n      <td>False</td>\n      <td>REGULAR</td>\n      <td>307</td>\n      <td>186301</td>\n      <td>2</td>\n      <td>19</td>\n      <td>4.200000</td>\n      <td>21</td>\n      <td>5.000000</td>\n    </tr>\n    <tr>\n      <th>...</th>\n      <td>...</td>\n      <td>...</td>\n      <td>...</td>\n      <td>...</td>\n      <td>...</td>\n      <td>...</td>\n      <td>...</td>\n      <td>...</td>\n      <td>...</td>\n      <td>...</td>\n      <td>...</td>\n      <td>...</td>\n      <td>...</td>\n      <td>...</td>\n      <td>...</td>\n      <td>...</td>\n      <td>...</td>\n      <td>...</td>\n    </tr>\n    <tr>\n      <th>96030</th>\n      <td>FD7E05AB4863CA8C</td>\n      <td>R020</td>\n      <td>01-06-01</td>\n      <td>47-50 STS ROCK</td>\n      <td>BDFM</td>\n      <td>IND</td>\n      <td>2020-02-08 19:00:00</td>\n      <td>19</td>\n      <td>Saturday</td>\n      <td>True</td>\n      <td>REGULAR</td>\n      <td>589895</td>\n      <td>38</td>\n      <td>43</td>\n      <td>11</td>\n      <td>4.000000</td>\n      <td>54</td>\n      <td>13.500000</td>\n    </tr>\n    <tr>\n      <th>96031</th>\n      <td>FD7E05AB4863CA8C</td>\n      <td>R020</td>\n      <td>01-06-01</td>\n      <td>47-50 STS ROCK</td>\n      <td>BDFM</td>\n      <td>IND</td>\n      <td>2020-02-08 23:00:00</td>\n      <td>23</td>\n      <td>Saturday</td>\n      <td>True</td>\n      <td>REGULAR</td>\n      <td>589914</td>\n      <td>43</td>\n      <td>19</td>\n      <td>5</td>\n      <td>4.000000</td>\n      <td>24</td>\n      <td>6.000000</td>\n    </tr>\n    <tr>\n      <th>96040</th>\n      <td>FD7E05AB4863CA8C</td>\n      <td>R020</td>\n      <td>01-06-01</td>\n      <td>47-50 STS ROCK</td>\n      <td>BDFM</td>\n      <td>IND</td>\n      <td>2020-02-10 11:00:00</td>\n      <td>11</td>\n      <td>Monday</td>\n      <td>False</td>\n      <td>REGULAR</td>\n      <td>590033</td>\n      <td>544</td>\n      <td>41</td>\n      <td>461</td>\n      <td>4.000000</td>\n      <td>502</td>\n      <td>125.500000</td>\n    </tr>\n    <tr>\n      <th>121658</th>\n      <td>FFA87F8C5782C55C</td>\n      <td>R542</td>\n      <td>00-00-02</td>\n      <td>TWENTY THIRD ST</td>\n      <td>1</td>\n      <td>PTH</td>\n      <td>2020-01-02 09:51:07</td>\n      <td>9</td>\n      <td>Thursday</td>\n      <td>False</td>\n      <td>REGULAR</td>\n      <td>98269</td>\n      <td>69469</td>\n      <td>228</td>\n      <td>2</td>\n      <td>4.200000</td>\n      <td>230</td>\n      <td>54.761905</td>\n    </tr>\n    <tr>\n      <th>120808</th>\n      <td>FFA87F8C5782C55C</td>\n      <td>R542</td>\n      <td>00-00-02</td>\n      <td>TWENTY THIRD ST</td>\n      <td>1</td>\n      <td>PTH</td>\n      <td>2020-03-29 01:29:55</td>\n      <td>1</td>\n      <td>Sunday</td>\n      <td>True</td>\n      <td>REGULAR</td>\n      <td>98269</td>\n      <td>2213</td>\n      <td>3</td>\n      <td>2</td>\n      <td>4.200000</td>\n      <td>5</td>\n      <td>1.190476</td>\n    </tr>\n  </tbody>\n</table>\n<p>538 rows × 18 columns</p>\n</div>"
     },
     "metadata": {},
     "execution_count": 29
    }
   ],
   "source": [
    "dupes = eda.identify_duplicates(mta_data,'TID', 'ENTRIES')\n",
    "dupes.sort_values(by=['TID','DATETIME'], ascending=True)"
   ]
  },
  {
   "cell_type": "code",
   "execution_count": 30,
   "metadata": {},
   "outputs": [
    {
     "output_type": "execute_result",
     "data": {
      "text/plain": [
       "            HOUR       ENTRIES         EXITS  ENTRYDIFF   EXITDIFF   DURATION  \\\n",
       "count  2541967.0     2541967.0     2541967.0  2541967.0  2541967.0  2541967.0   \n",
       "mean        11.8    29585631.7    21736481.3      145.0      118.9        4.0   \n",
       "std          6.8   171079289.9   140144674.1      227.2      213.3        1.8   \n",
       "min          0.0           1.0           1.0        1.0        1.0     -166.9   \n",
       "25%          7.0      580064.0      356776.5       14.0       13.0        4.0   \n",
       "50%         12.0     2625455.0     1599251.0       56.0       44.0        4.0   \n",
       "75%         17.0     7036433.5     5032425.0      183.0      132.0        4.0   \n",
       "max         23.0  2116079989.0  2038505334.0     9874.0     9940.0      117.0   \n",
       "\n",
       "      TOTAL_TRAFFIC AVG_TRAFFIC  \n",
       "count     2541967.0   2541967.0  \n",
       "mean          263.9        66.0  \n",
       "std           356.8        87.2  \n",
       "min             2.0     -1680.9  \n",
       "25%            37.0         9.5  \n",
       "50%           124.0        31.2  \n",
       "75%           355.0        89.2  \n",
       "max         19282.0      2571.4  "
      ],
      "text/html": "<div>\n<style scoped>\n    .dataframe tbody tr th:only-of-type {\n        vertical-align: middle;\n    }\n\n    .dataframe tbody tr th {\n        vertical-align: top;\n    }\n\n    .dataframe thead th {\n        text-align: right;\n    }\n</style>\n<table border=\"1\" class=\"dataframe\">\n  <thead>\n    <tr style=\"text-align: right;\">\n      <th></th>\n      <th>HOUR</th>\n      <th>ENTRIES</th>\n      <th>EXITS</th>\n      <th>ENTRYDIFF</th>\n      <th>EXITDIFF</th>\n      <th>DURATION</th>\n      <th>TOTAL_TRAFFIC</th>\n      <th>AVG_TRAFFIC</th>\n    </tr>\n  </thead>\n  <tbody>\n    <tr>\n      <th>count</th>\n      <td>2541967.0</td>\n      <td>2541967.0</td>\n      <td>2541967.0</td>\n      <td>2541967.0</td>\n      <td>2541967.0</td>\n      <td>2541967.0</td>\n      <td>2541967.0</td>\n      <td>2541967.0</td>\n    </tr>\n    <tr>\n      <th>mean</th>\n      <td>11.8</td>\n      <td>29585631.7</td>\n      <td>21736481.3</td>\n      <td>145.0</td>\n      <td>118.9</td>\n      <td>4.0</td>\n      <td>263.9</td>\n      <td>66.0</td>\n    </tr>\n    <tr>\n      <th>std</th>\n      <td>6.8</td>\n      <td>171079289.9</td>\n      <td>140144674.1</td>\n      <td>227.2</td>\n      <td>213.3</td>\n      <td>1.8</td>\n      <td>356.8</td>\n      <td>87.2</td>\n    </tr>\n    <tr>\n      <th>min</th>\n      <td>0.0</td>\n      <td>1.0</td>\n      <td>1.0</td>\n      <td>1.0</td>\n      <td>1.0</td>\n      <td>-166.9</td>\n      <td>2.0</td>\n      <td>-1680.9</td>\n    </tr>\n    <tr>\n      <th>25%</th>\n      <td>7.0</td>\n      <td>580064.0</td>\n      <td>356776.5</td>\n      <td>14.0</td>\n      <td>13.0</td>\n      <td>4.0</td>\n      <td>37.0</td>\n      <td>9.5</td>\n    </tr>\n    <tr>\n      <th>50%</th>\n      <td>12.0</td>\n      <td>2625455.0</td>\n      <td>1599251.0</td>\n      <td>56.0</td>\n      <td>44.0</td>\n      <td>4.0</td>\n      <td>124.0</td>\n      <td>31.2</td>\n    </tr>\n    <tr>\n      <th>75%</th>\n      <td>17.0</td>\n      <td>7036433.5</td>\n      <td>5032425.0</td>\n      <td>183.0</td>\n      <td>132.0</td>\n      <td>4.0</td>\n      <td>355.0</td>\n      <td>89.2</td>\n    </tr>\n    <tr>\n      <th>max</th>\n      <td>23.0</td>\n      <td>2116079989.0</td>\n      <td>2038505334.0</td>\n      <td>9874.0</td>\n      <td>9940.0</td>\n      <td>117.0</td>\n      <td>19282.0</td>\n      <td>2571.4</td>\n    </tr>\n  </tbody>\n</table>\n</div>"
     },
     "metadata": {},
     "execution_count": 30
    }
   ],
   "source": [
    "mta_data.describe().apply(lambda s: s.apply('{0:.1f}'.format))"
   ]
  }
 ]
}