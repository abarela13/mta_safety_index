{
 "metadata": {
  "language_info": {
   "codemirror_mode": {
    "name": "ipython",
    "version": 3
   },
   "file_extension": ".py",
   "mimetype": "text/x-python",
   "name": "python",
   "nbconvert_exporter": "python",
   "pygments_lexer": "ipython3",
   "version": "3.8.5"
  },
  "orig_nbformat": 2,
  "kernelspec": {
   "name": "python3",
   "display_name": "Python 3",
   "language": "python"
  }
 },
 "nbformat": 4,
 "nbformat_minor": 2,
 "cells": [
  {
   "cell_type": "code",
   "execution_count": 1,
   "metadata": {},
   "outputs": [],
   "source": [
    "import mta_functions as mta\n",
    "import pandas as pd\n",
    "import eda"
   ]
  },
  {
   "cell_type": "code",
   "execution_count": 2,
   "metadata": {},
   "outputs": [],
   "source": [
    "# Create dataframe from unprocessed directory files\n",
    "mta_data = mta.df_from_directory('../data/turnstiles/processing')"
   ]
  },
  {
   "cell_type": "code",
   "execution_count": 3,
   "metadata": {},
   "outputs": [],
   "source": [
    "# Create concat string for turnstile\n",
    "mta_data['TID'] = mta.concat_columns(mta_data, ['C/A', 'UNIT', 'SCP'])"
   ]
  },
  {
   "cell_type": "code",
   "execution_count": 4,
   "metadata": {},
   "outputs": [],
   "source": [
    "# Create Turnstile ID for each turnstile\n",
    "mta_data['TID'] = mta_data.apply(lambda x: mta.create_hashed_column(x['TID'], 16), axis = 1)"
   ]
  },
  {
   "cell_type": "code",
   "execution_count": 5,
   "metadata": {},
   "outputs": [],
   "source": [
    "# Create concat string for entries\n",
    "mta_data['UID_string'] = mta.concat_columns(mta_data, ['TID', 'DATE', 'TIME'])"
   ]
  },
  {
   "cell_type": "code",
   "execution_count": 6,
   "metadata": {},
   "outputs": [],
   "source": [
    "# Convert entry string to hash\n",
    "mta_data['UID'] = mta_data.apply(lambda x: mta.create_hashed_column(x['UID_string'], 16), axis = 1)"
   ]
  },
  {
   "cell_type": "code",
   "execution_count": 7,
   "metadata": {},
   "outputs": [],
   "source": [
    "# Create DateTime column\n",
    "mta_data['DATETIME'] = pd.to_datetime(mta_data.DATE + ' ' + mta_data.TIME)"
   ]
  },
  {
   "cell_type": "code",
   "execution_count": 8,
   "metadata": {},
   "outputs": [],
   "source": [
    "#  Fix EXITS column name\n",
    "mta_data.columns = [column.strip() for column in mta_data.columns]"
   ]
  },
  {
   "cell_type": "code",
   "execution_count": 9,
   "metadata": {},
   "outputs": [],
   "source": [
    "# Reorganize Columns\n",
    "mta_data = mta_data[['UID','TID','C/A','UNIT','SCP','STATION','LINENAME','DIVISION','DATETIME','DESC','ENTRIES','EXITS']]"
   ]
  },
  {
   "cell_type": "code",
   "execution_count": 10,
   "metadata": {},
   "outputs": [],
   "source": [
    "# mta_data.loc[mta_data['DESC'] == 'RECOVR AUD'].index\n",
    "\n",
    "# idx = mta_data.index.iloc(row_index)\n",
    "# mta_data.iloc[idx - 1 : idx + 1]\n",
    "\n",
    "# list(mta_data[mta_data.DESC == 'RECOVR AUD'].ind)\n",
    "\n",
    "# mta_data.index."
   ]
  },
  {
   "cell_type": "code",
   "execution_count": 11,
   "metadata": {},
   "outputs": [
    {
     "output_type": "execute_result",
     "data": {
      "text/plain": [
       "            ENTRIES         EXITS\n",
       "count     2685526.0     2685526.0\n",
       "mean     43287735.3    35459098.8\n",
       "std     220113331.9   199571930.5\n",
       "min             0.0           0.0\n",
       "25%        311581.0      138808.0\n",
       "50%       1884030.0     1090119.0\n",
       "75%       6504447.2     4428336.0\n",
       "max    2128786445.0  2123350952.0"
      ],
      "text/html": "<div>\n<style scoped>\n    .dataframe tbody tr th:only-of-type {\n        vertical-align: middle;\n    }\n\n    .dataframe tbody tr th {\n        vertical-align: top;\n    }\n\n    .dataframe thead th {\n        text-align: right;\n    }\n</style>\n<table border=\"1\" class=\"dataframe\">\n  <thead>\n    <tr style=\"text-align: right;\">\n      <th></th>\n      <th>ENTRIES</th>\n      <th>EXITS</th>\n    </tr>\n  </thead>\n  <tbody>\n    <tr>\n      <th>count</th>\n      <td>2685526.0</td>\n      <td>2685526.0</td>\n    </tr>\n    <tr>\n      <th>mean</th>\n      <td>43287735.3</td>\n      <td>35459098.8</td>\n    </tr>\n    <tr>\n      <th>std</th>\n      <td>220113331.9</td>\n      <td>199571930.5</td>\n    </tr>\n    <tr>\n      <th>min</th>\n      <td>0.0</td>\n      <td>0.0</td>\n    </tr>\n    <tr>\n      <th>25%</th>\n      <td>311581.0</td>\n      <td>138808.0</td>\n    </tr>\n    <tr>\n      <th>50%</th>\n      <td>1884030.0</td>\n      <td>1090119.0</td>\n    </tr>\n    <tr>\n      <th>75%</th>\n      <td>6504447.2</td>\n      <td>4428336.0</td>\n    </tr>\n    <tr>\n      <th>max</th>\n      <td>2128786445.0</td>\n      <td>2123350952.0</td>\n    </tr>\n  </tbody>\n</table>\n</div>"
     },
     "metadata": {},
     "execution_count": 11
    }
   ],
   "source": [
    "mta_data.describe().apply(lambda s: s.apply('{0:.1f}'.format))"
   ]
  },
  {
   "cell_type": "code",
   "execution_count": 12,
   "metadata": {},
   "outputs": [
    {
     "output_type": "stream",
     "name": "stdout",
     "text": [
      "------------------Rows with Nulls------------------\n"
     ]
    },
    {
     "output_type": "execute_result",
     "data": {
      "text/plain": [
       "Empty DataFrame\n",
       "Columns: [UID, TID, C/A, UNIT, SCP, STATION, LINENAME, DIVISION, DATETIME, DESC, ENTRIES, EXITS]\n",
       "Index: []"
      ],
      "text/html": "<div>\n<style scoped>\n    .dataframe tbody tr th:only-of-type {\n        vertical-align: middle;\n    }\n\n    .dataframe tbody tr th {\n        vertical-align: top;\n    }\n\n    .dataframe thead th {\n        text-align: right;\n    }\n</style>\n<table border=\"1\" class=\"dataframe\">\n  <thead>\n    <tr style=\"text-align: right;\">\n      <th></th>\n      <th>UID</th>\n      <th>TID</th>\n      <th>C/A</th>\n      <th>UNIT</th>\n      <th>SCP</th>\n      <th>STATION</th>\n      <th>LINENAME</th>\n      <th>DIVISION</th>\n      <th>DATETIME</th>\n      <th>DESC</th>\n      <th>ENTRIES</th>\n      <th>EXITS</th>\n    </tr>\n  </thead>\n  <tbody>\n  </tbody>\n</table>\n</div>"
     },
     "metadata": {},
     "execution_count": 12
    }
   ],
   "source": [
    "eda.identify_nulls(mta_data)"
   ]
  },
  {
   "cell_type": "code",
   "execution_count": 13,
   "metadata": {},
   "outputs": [
    {
     "output_type": "stream",
     "name": "stdout",
     "text": [
      "--------------Possible Duplicate Rows--------------\n"
     ]
    },
    {
     "output_type": "execute_result",
     "data": {
      "text/plain": [
       "                    UID               TID    C/A  UNIT       SCP     STATION  \\\n",
       "66191  29AD8A00DDD06798  65E5535DFAF1ECD5  N120A  R153  01-00-00    UTICA AV   \n",
       "66192  29AD8A00DDD06798  65E5535DFAF1ECD5  N120A  R153  01-00-00    UTICA AV   \n",
       "32400  78B40D7CD2F90B1A  892D72F2533CCDC3   H009  R235  00-03-00  BEDFORD AV   \n",
       "32401  78B40D7CD2F90B1A  892D72F2533CCDC3   H009  R235  00-03-00  BEDFORD AV   \n",
       "40878  7B2476EFE2586ECF  12BF50FC3BC814CD   J009  R378  00-00-01   MYRTLE AV   \n",
       "40879  7B2476EFE2586ECF  12BF50FC3BC814CD   J009  R378  00-00-01   MYRTLE AV   \n",
       "\n",
       "      LINENAME DIVISION            DATETIME        DESC   ENTRIES     EXITS  \n",
       "66191       AC      IND 2020-04-17 05:00:00     REGULAR   3377210   2331552  \n",
       "66192       AC      IND 2020-04-17 05:00:00  RECOVR AUD   3377209   2331552  \n",
       "32400        L      BMT 2020-03-22 12:00:00     REGULAR  17126296  22672798  \n",
       "32401        L      BMT 2020-03-22 12:00:00  RECOVR AUD  19676995  30044802  \n",
       "40878      JMZ      BMT 2020-05-27 05:00:00     REGULAR   3047247   2109623  \n",
       "40879      JMZ      BMT 2020-05-27 05:00:00  RECOVR AUD   3047246   2109623  "
      ],
      "text/html": "<div>\n<style scoped>\n    .dataframe tbody tr th:only-of-type {\n        vertical-align: middle;\n    }\n\n    .dataframe tbody tr th {\n        vertical-align: top;\n    }\n\n    .dataframe thead th {\n        text-align: right;\n    }\n</style>\n<table border=\"1\" class=\"dataframe\">\n  <thead>\n    <tr style=\"text-align: right;\">\n      <th></th>\n      <th>UID</th>\n      <th>TID</th>\n      <th>C/A</th>\n      <th>UNIT</th>\n      <th>SCP</th>\n      <th>STATION</th>\n      <th>LINENAME</th>\n      <th>DIVISION</th>\n      <th>DATETIME</th>\n      <th>DESC</th>\n      <th>ENTRIES</th>\n      <th>EXITS</th>\n    </tr>\n  </thead>\n  <tbody>\n    <tr>\n      <th>66191</th>\n      <td>29AD8A00DDD06798</td>\n      <td>65E5535DFAF1ECD5</td>\n      <td>N120A</td>\n      <td>R153</td>\n      <td>01-00-00</td>\n      <td>UTICA AV</td>\n      <td>AC</td>\n      <td>IND</td>\n      <td>2020-04-17 05:00:00</td>\n      <td>REGULAR</td>\n      <td>3377210</td>\n      <td>2331552</td>\n    </tr>\n    <tr>\n      <th>66192</th>\n      <td>29AD8A00DDD06798</td>\n      <td>65E5535DFAF1ECD5</td>\n      <td>N120A</td>\n      <td>R153</td>\n      <td>01-00-00</td>\n      <td>UTICA AV</td>\n      <td>AC</td>\n      <td>IND</td>\n      <td>2020-04-17 05:00:00</td>\n      <td>RECOVR AUD</td>\n      <td>3377209</td>\n      <td>2331552</td>\n    </tr>\n    <tr>\n      <th>32400</th>\n      <td>78B40D7CD2F90B1A</td>\n      <td>892D72F2533CCDC3</td>\n      <td>H009</td>\n      <td>R235</td>\n      <td>00-03-00</td>\n      <td>BEDFORD AV</td>\n      <td>L</td>\n      <td>BMT</td>\n      <td>2020-03-22 12:00:00</td>\n      <td>REGULAR</td>\n      <td>17126296</td>\n      <td>22672798</td>\n    </tr>\n    <tr>\n      <th>32401</th>\n      <td>78B40D7CD2F90B1A</td>\n      <td>892D72F2533CCDC3</td>\n      <td>H009</td>\n      <td>R235</td>\n      <td>00-03-00</td>\n      <td>BEDFORD AV</td>\n      <td>L</td>\n      <td>BMT</td>\n      <td>2020-03-22 12:00:00</td>\n      <td>RECOVR AUD</td>\n      <td>19676995</td>\n      <td>30044802</td>\n    </tr>\n    <tr>\n      <th>40878</th>\n      <td>7B2476EFE2586ECF</td>\n      <td>12BF50FC3BC814CD</td>\n      <td>J009</td>\n      <td>R378</td>\n      <td>00-00-01</td>\n      <td>MYRTLE AV</td>\n      <td>JMZ</td>\n      <td>BMT</td>\n      <td>2020-05-27 05:00:00</td>\n      <td>REGULAR</td>\n      <td>3047247</td>\n      <td>2109623</td>\n    </tr>\n    <tr>\n      <th>40879</th>\n      <td>7B2476EFE2586ECF</td>\n      <td>12BF50FC3BC814CD</td>\n      <td>J009</td>\n      <td>R378</td>\n      <td>00-00-01</td>\n      <td>MYRTLE AV</td>\n      <td>JMZ</td>\n      <td>BMT</td>\n      <td>2020-05-27 05:00:00</td>\n      <td>RECOVR AUD</td>\n      <td>3047246</td>\n      <td>2109623</td>\n    </tr>\n  </tbody>\n</table>\n</div>"
     },
     "metadata": {},
     "execution_count": 13
    }
   ],
   "source": [
    "eda.identify_duplicates(mta_data, 'UID', 'UNIT')"
   ]
  },
  {
   "cell_type": "code",
   "execution_count": 14,
   "metadata": {},
   "outputs": [
    {
     "output_type": "execute_result",
     "data": {
      "text/plain": [
       "                    UID               TID   C/A  UNIT       SCP     STATION  \\\n",
       "32400  78B40D7CD2F90B1A  892D72F2533CCDC3  H009  R235  00-03-00  BEDFORD AV   \n",
       "32401  78B40D7CD2F90B1A  892D72F2533CCDC3  H009  R235  00-03-00  BEDFORD AV   \n",
       "\n",
       "      LINENAME DIVISION            DATETIME        DESC   ENTRIES     EXITS  \n",
       "32400        L      BMT 2020-03-22 12:00:00     REGULAR  17126296  22672798  \n",
       "32401        L      BMT 2020-03-22 12:00:00  RECOVR AUD  19676995  30044802  "
      ],
      "text/html": "<div>\n<style scoped>\n    .dataframe tbody tr th:only-of-type {\n        vertical-align: middle;\n    }\n\n    .dataframe tbody tr th {\n        vertical-align: top;\n    }\n\n    .dataframe thead th {\n        text-align: right;\n    }\n</style>\n<table border=\"1\" class=\"dataframe\">\n  <thead>\n    <tr style=\"text-align: right;\">\n      <th></th>\n      <th>UID</th>\n      <th>TID</th>\n      <th>C/A</th>\n      <th>UNIT</th>\n      <th>SCP</th>\n      <th>STATION</th>\n      <th>LINENAME</th>\n      <th>DIVISION</th>\n      <th>DATETIME</th>\n      <th>DESC</th>\n      <th>ENTRIES</th>\n      <th>EXITS</th>\n    </tr>\n  </thead>\n  <tbody>\n    <tr>\n      <th>32400</th>\n      <td>78B40D7CD2F90B1A</td>\n      <td>892D72F2533CCDC3</td>\n      <td>H009</td>\n      <td>R235</td>\n      <td>00-03-00</td>\n      <td>BEDFORD AV</td>\n      <td>L</td>\n      <td>BMT</td>\n      <td>2020-03-22 12:00:00</td>\n      <td>REGULAR</td>\n      <td>17126296</td>\n      <td>22672798</td>\n    </tr>\n    <tr>\n      <th>32401</th>\n      <td>78B40D7CD2F90B1A</td>\n      <td>892D72F2533CCDC3</td>\n      <td>H009</td>\n      <td>R235</td>\n      <td>00-03-00</td>\n      <td>BEDFORD AV</td>\n      <td>L</td>\n      <td>BMT</td>\n      <td>2020-03-22 12:00:00</td>\n      <td>RECOVR AUD</td>\n      <td>19676995</td>\n      <td>30044802</td>\n    </tr>\n  </tbody>\n</table>\n</div>"
     },
     "metadata": {},
     "execution_count": 14
    }
   ],
   "source": [
    "mta_data[mta_data.UID == '78B40D7CD2F90B1A']"
   ]
  },
  {
   "cell_type": "code",
   "execution_count": 15,
   "metadata": {},
   "outputs": [],
   "source": [
    "# mta_data.sort_values([\"UID\", \"DESC\"], inplace=True, ascending=False)\n",
    "# mta_data.drop_duplicates(subset=[\"UID\"], inplace=True, keep='first')"
   ]
  },
  {
   "cell_type": "code",
   "execution_count": 16,
   "metadata": {},
   "outputs": [],
   "source": [
    "# get names of indexes for which\n",
    "# column Age has value 21\n",
    "mta_data.drop(mta_data[mta_data['DESC'] == 'RECOVR AUD'].index, inplace = True)"
   ]
  },
  {
   "cell_type": "code",
   "execution_count": 17,
   "metadata": {},
   "outputs": [],
   "source": [
    "# Create Weekday from newly create DateTime column\n",
    "mta_data['DoW'] = mta_data['DATETIME'].dt.day_name()"
   ]
  },
  {
   "cell_type": "code",
   "execution_count": 18,
   "metadata": {},
   "outputs": [],
   "source": [
    "# Identify Daytime\n",
    "mta_data['WEEKEND'] = mta_data['DoW'].apply(lambda x: True if (x == 'Saturday' or x == 'Sunday') else False)"
   ]
  },
  {
   "cell_type": "code",
   "execution_count": 19,
   "metadata": {},
   "outputs": [],
   "source": [
    "# Create Time of Day\n",
    "mta_data['HOUR'] = mta_data['DATETIME'].dt.hour"
   ]
  },
  {
   "cell_type": "code",
   "execution_count": null,
   "metadata": {},
   "outputs": [],
   "source": []
  },
  {
   "cell_type": "code",
   "execution_count": 20,
   "metadata": {},
   "outputs": [],
   "source": [
    "# Daily Counts by Turnstile\n",
    "mta_data['ENTRYDIFF'] = mta_data['ENTRIES'].diff()\n",
    "mta_data['EXITDIFF'] = mta_data['EXITS'].diff()"
   ]
  },
  {
   "cell_type": "code",
   "execution_count": 21,
   "metadata": {},
   "outputs": [],
   "source": [
    "mta_data['DURATION'] = mta_data.DATETIME.diff().apply(lambda x: x.total_seconds()/3600)"
   ]
  },
  {
   "cell_type": "code",
   "execution_count": 22,
   "metadata": {},
   "outputs": [],
   "source": [
    "# Drop Rows without changes\n",
    "mta_data.dropna(subset=['ENTRYDIFF', 'EXITDIFF'], inplace=True)"
   ]
  },
  {
   "cell_type": "code",
   "execution_count": 23,
   "metadata": {},
   "outputs": [],
   "source": [
    "# Drop First Entry Per Turnstile\n",
    "# mta_data = mta_data[mta_data.DATETIME >= mta_data.DATETIME.dt.day.min() + pd.DateOffset(days=1)]"
   ]
  },
  {
   "cell_type": "code",
   "execution_count": 24,
   "metadata": {},
   "outputs": [],
   "source": [
    "# Normalize floats to int values\n",
    "mta_data['ENTRYDIFF'] = mta_data['ENTRYDIFF'].astype(int)\n",
    "mta_data['EXITDIFF'] = mta_data['EXITDIFF'].astype(int)\n",
    "mta_data['TOTAL_TRAFFIC'] = mta_data['ENTRYDIFF'] + mta_data['EXITDIFF']"
   ]
  },
  {
   "cell_type": "code",
   "execution_count": 25,
   "metadata": {},
   "outputs": [],
   "source": [
    "mta_data['AVG_TRAFFIC'] = mta_data['TOTAL_TRAFFIC'] / mta_data['DURATION']"
   ]
  },
  {
   "cell_type": "code",
   "execution_count": 26,
   "metadata": {},
   "outputs": [],
   "source": [
    "# Drop ENTRYDIFF AND EXITDIFF Rows with extreme values\n",
    "mta_data = mta_data[mta_data.ENTRYDIFF <= 10000]\n",
    "mta_data = mta_data[mta_data.ENTRYDIFF > 0]\n",
    "\n",
    "mta_data = mta_data[mta_data.EXITDIFF <= 10000]\n",
    "mta_data = mta_data[mta_data.EXITDIFF > 0]"
   ]
  },
  {
   "cell_type": "code",
   "execution_count": 27,
   "metadata": {},
   "outputs": [],
   "source": [
    "# Restructure columns\n",
    "columns_order = ['TID','UNIT','SCP','STATION','LINENAME','DIVISION','DATETIME','HOUR','DoW','WEEKEND','DESC','ENTRIES','EXITS','ENTRYDIFF','EXITDIFF','DURATION','TOTAL_TRAFFIC','AVG_TRAFFIC']\n",
    "mta_data = mta_data[columns_order]"
   ]
  },
  {
   "cell_type": "code",
   "execution_count": 28,
   "metadata": {},
   "outputs": [
    {
     "output_type": "execute_result",
     "data": {
      "text/plain": [
       "                 TID  UNIT       SCP STATION LINENAME DIVISION  \\\n",
       "1   90191926F891F8C7  R051  02-00-00   59 ST  NQR456W      BMT   \n",
       "2   90191926F891F8C7  R051  02-00-00   59 ST  NQR456W      BMT   \n",
       "3   90191926F891F8C7  R051  02-00-00   59 ST  NQR456W      BMT   \n",
       "4   90191926F891F8C7  R051  02-00-00   59 ST  NQR456W      BMT   \n",
       "5   90191926F891F8C7  R051  02-00-00   59 ST  NQR456W      BMT   \n",
       "6   90191926F891F8C7  R051  02-00-00   59 ST  NQR456W      BMT   \n",
       "14  90191926F891F8C7  R051  02-00-00   59 ST  NQR456W      BMT   \n",
       "15  90191926F891F8C7  R051  02-00-00   59 ST  NQR456W      BMT   \n",
       "16  90191926F891F8C7  R051  02-00-00   59 ST  NQR456W      BMT   \n",
       "17  90191926F891F8C7  R051  02-00-00   59 ST  NQR456W      BMT   \n",
       "18  90191926F891F8C7  R051  02-00-00   59 ST  NQR456W      BMT   \n",
       "19  90191926F891F8C7  R051  02-00-00   59 ST  NQR456W      BMT   \n",
       "20  90191926F891F8C7  R051  02-00-00   59 ST  NQR456W      BMT   \n",
       "21  90191926F891F8C7  R051  02-00-00   59 ST  NQR456W      BMT   \n",
       "22  90191926F891F8C7  R051  02-00-00   59 ST  NQR456W      BMT   \n",
       "23  90191926F891F8C7  R051  02-00-00   59 ST  NQR456W      BMT   \n",
       "24  90191926F891F8C7  R051  02-00-00   59 ST  NQR456W      BMT   \n",
       "25  90191926F891F8C7  R051  02-00-00   59 ST  NQR456W      BMT   \n",
       "26  90191926F891F8C7  R051  02-00-00   59 ST  NQR456W      BMT   \n",
       "27  90191926F891F8C7  R051  02-00-00   59 ST  NQR456W      BMT   \n",
       "\n",
       "              DATETIME  HOUR        DoW  WEEKEND     DESC  ENTRIES    EXITS  \\\n",
       "1  2020-04-18 04:00:00     4   Saturday     True  REGULAR  7414754  2517635   \n",
       "2  2020-04-18 08:00:00     8   Saturday     True  REGULAR  7414756  2517643   \n",
       "3  2020-04-18 12:00:00    12   Saturday     True  REGULAR  7414765  2517651   \n",
       "4  2020-04-18 16:00:00    16   Saturday     True  REGULAR  7414781  2517662   \n",
       "5  2020-04-18 20:00:00    20   Saturday     True  REGULAR  7414813  2517670   \n",
       "6  2020-04-19 00:00:00     0     Sunday     True  REGULAR  7414835  2517678   \n",
       "14 2020-04-20 08:00:00     8     Monday    False  REGULAR  7414914  2517730   \n",
       "15 2020-04-20 12:00:00    12     Monday    False  REGULAR  7414929  2517748   \n",
       "16 2020-04-20 16:00:00    16     Monday    False  REGULAR  7414963  2517760   \n",
       "17 2020-04-20 20:00:00    20     Monday    False  REGULAR  7415007  2517770   \n",
       "18 2020-04-21 00:00:00     0    Tuesday    False  REGULAR  7415026  2517778   \n",
       "19 2020-04-21 04:00:00     4    Tuesday    False  REGULAR  7415027  2517779   \n",
       "20 2020-04-21 08:00:00     8    Tuesday    False  REGULAR  7415033  2517789   \n",
       "21 2020-04-21 12:00:00    12    Tuesday    False  REGULAR  7415042  2517809   \n",
       "22 2020-04-21 16:00:00    16    Tuesday    False  REGULAR  7415071  2517826   \n",
       "23 2020-04-21 20:00:00    20    Tuesday    False  REGULAR  7415111  2517832   \n",
       "24 2020-04-22 00:00:00     0  Wednesday    False  REGULAR  7415127  2517838   \n",
       "25 2020-04-22 08:00:00     8  Wednesday    False  REGULAR  7415134  2517855   \n",
       "26 2020-04-22 12:00:00    12  Wednesday    False  REGULAR  7415152  2517879   \n",
       "27 2020-04-22 16:00:00    16  Wednesday    False  REGULAR  7415186  2517893   \n",
       "\n",
       "    ENTRYDIFF  EXITDIFF  DURATION  TOTAL_TRAFFIC  AVG_TRAFFIC  \n",
       "1           1         1       4.0              2      0.50000  \n",
       "2           2         8       4.0             10      2.50000  \n",
       "3           9         8       4.0             17      4.25000  \n",
       "4          16        11       4.0             27      6.75000  \n",
       "5          32         8       4.0             40     10.00000  \n",
       "6          22         8       4.0             30      7.50000  \n",
       "14         79        52      32.0            131      4.09375  \n",
       "15         15        18       4.0             33      8.25000  \n",
       "16         34        12       4.0             46     11.50000  \n",
       "17         44        10       4.0             54     13.50000  \n",
       "18         19         8       4.0             27      6.75000  \n",
       "19          1         1       4.0              2      0.50000  \n",
       "20          6        10       4.0             16      4.00000  \n",
       "21          9        20       4.0             29      7.25000  \n",
       "22         29        17       4.0             46     11.50000  \n",
       "23         40         6       4.0             46     11.50000  \n",
       "24         16         6       4.0             22      5.50000  \n",
       "25          7        17       8.0             24      3.00000  \n",
       "26         18        24       4.0             42     10.50000  \n",
       "27         34        14       4.0             48     12.00000  "
      ],
      "text/html": "<div>\n<style scoped>\n    .dataframe tbody tr th:only-of-type {\n        vertical-align: middle;\n    }\n\n    .dataframe tbody tr th {\n        vertical-align: top;\n    }\n\n    .dataframe thead th {\n        text-align: right;\n    }\n</style>\n<table border=\"1\" class=\"dataframe\">\n  <thead>\n    <tr style=\"text-align: right;\">\n      <th></th>\n      <th>TID</th>\n      <th>UNIT</th>\n      <th>SCP</th>\n      <th>STATION</th>\n      <th>LINENAME</th>\n      <th>DIVISION</th>\n      <th>DATETIME</th>\n      <th>HOUR</th>\n      <th>DoW</th>\n      <th>WEEKEND</th>\n      <th>DESC</th>\n      <th>ENTRIES</th>\n      <th>EXITS</th>\n      <th>ENTRYDIFF</th>\n      <th>EXITDIFF</th>\n      <th>DURATION</th>\n      <th>TOTAL_TRAFFIC</th>\n      <th>AVG_TRAFFIC</th>\n    </tr>\n  </thead>\n  <tbody>\n    <tr>\n      <th>1</th>\n      <td>90191926F891F8C7</td>\n      <td>R051</td>\n      <td>02-00-00</td>\n      <td>59 ST</td>\n      <td>NQR456W</td>\n      <td>BMT</td>\n      <td>2020-04-18 04:00:00</td>\n      <td>4</td>\n      <td>Saturday</td>\n      <td>True</td>\n      <td>REGULAR</td>\n      <td>7414754</td>\n      <td>2517635</td>\n      <td>1</td>\n      <td>1</td>\n      <td>4.0</td>\n      <td>2</td>\n      <td>0.50000</td>\n    </tr>\n    <tr>\n      <th>2</th>\n      <td>90191926F891F8C7</td>\n      <td>R051</td>\n      <td>02-00-00</td>\n      <td>59 ST</td>\n      <td>NQR456W</td>\n      <td>BMT</td>\n      <td>2020-04-18 08:00:00</td>\n      <td>8</td>\n      <td>Saturday</td>\n      <td>True</td>\n      <td>REGULAR</td>\n      <td>7414756</td>\n      <td>2517643</td>\n      <td>2</td>\n      <td>8</td>\n      <td>4.0</td>\n      <td>10</td>\n      <td>2.50000</td>\n    </tr>\n    <tr>\n      <th>3</th>\n      <td>90191926F891F8C7</td>\n      <td>R051</td>\n      <td>02-00-00</td>\n      <td>59 ST</td>\n      <td>NQR456W</td>\n      <td>BMT</td>\n      <td>2020-04-18 12:00:00</td>\n      <td>12</td>\n      <td>Saturday</td>\n      <td>True</td>\n      <td>REGULAR</td>\n      <td>7414765</td>\n      <td>2517651</td>\n      <td>9</td>\n      <td>8</td>\n      <td>4.0</td>\n      <td>17</td>\n      <td>4.25000</td>\n    </tr>\n    <tr>\n      <th>4</th>\n      <td>90191926F891F8C7</td>\n      <td>R051</td>\n      <td>02-00-00</td>\n      <td>59 ST</td>\n      <td>NQR456W</td>\n      <td>BMT</td>\n      <td>2020-04-18 16:00:00</td>\n      <td>16</td>\n      <td>Saturday</td>\n      <td>True</td>\n      <td>REGULAR</td>\n      <td>7414781</td>\n      <td>2517662</td>\n      <td>16</td>\n      <td>11</td>\n      <td>4.0</td>\n      <td>27</td>\n      <td>6.75000</td>\n    </tr>\n    <tr>\n      <th>5</th>\n      <td>90191926F891F8C7</td>\n      <td>R051</td>\n      <td>02-00-00</td>\n      <td>59 ST</td>\n      <td>NQR456W</td>\n      <td>BMT</td>\n      <td>2020-04-18 20:00:00</td>\n      <td>20</td>\n      <td>Saturday</td>\n      <td>True</td>\n      <td>REGULAR</td>\n      <td>7414813</td>\n      <td>2517670</td>\n      <td>32</td>\n      <td>8</td>\n      <td>4.0</td>\n      <td>40</td>\n      <td>10.00000</td>\n    </tr>\n    <tr>\n      <th>6</th>\n      <td>90191926F891F8C7</td>\n      <td>R051</td>\n      <td>02-00-00</td>\n      <td>59 ST</td>\n      <td>NQR456W</td>\n      <td>BMT</td>\n      <td>2020-04-19 00:00:00</td>\n      <td>0</td>\n      <td>Sunday</td>\n      <td>True</td>\n      <td>REGULAR</td>\n      <td>7414835</td>\n      <td>2517678</td>\n      <td>22</td>\n      <td>8</td>\n      <td>4.0</td>\n      <td>30</td>\n      <td>7.50000</td>\n    </tr>\n    <tr>\n      <th>14</th>\n      <td>90191926F891F8C7</td>\n      <td>R051</td>\n      <td>02-00-00</td>\n      <td>59 ST</td>\n      <td>NQR456W</td>\n      <td>BMT</td>\n      <td>2020-04-20 08:00:00</td>\n      <td>8</td>\n      <td>Monday</td>\n      <td>False</td>\n      <td>REGULAR</td>\n      <td>7414914</td>\n      <td>2517730</td>\n      <td>79</td>\n      <td>52</td>\n      <td>32.0</td>\n      <td>131</td>\n      <td>4.09375</td>\n    </tr>\n    <tr>\n      <th>15</th>\n      <td>90191926F891F8C7</td>\n      <td>R051</td>\n      <td>02-00-00</td>\n      <td>59 ST</td>\n      <td>NQR456W</td>\n      <td>BMT</td>\n      <td>2020-04-20 12:00:00</td>\n      <td>12</td>\n      <td>Monday</td>\n      <td>False</td>\n      <td>REGULAR</td>\n      <td>7414929</td>\n      <td>2517748</td>\n      <td>15</td>\n      <td>18</td>\n      <td>4.0</td>\n      <td>33</td>\n      <td>8.25000</td>\n    </tr>\n    <tr>\n      <th>16</th>\n      <td>90191926F891F8C7</td>\n      <td>R051</td>\n      <td>02-00-00</td>\n      <td>59 ST</td>\n      <td>NQR456W</td>\n      <td>BMT</td>\n      <td>2020-04-20 16:00:00</td>\n      <td>16</td>\n      <td>Monday</td>\n      <td>False</td>\n      <td>REGULAR</td>\n      <td>7414963</td>\n      <td>2517760</td>\n      <td>34</td>\n      <td>12</td>\n      <td>4.0</td>\n      <td>46</td>\n      <td>11.50000</td>\n    </tr>\n    <tr>\n      <th>17</th>\n      <td>90191926F891F8C7</td>\n      <td>R051</td>\n      <td>02-00-00</td>\n      <td>59 ST</td>\n      <td>NQR456W</td>\n      <td>BMT</td>\n      <td>2020-04-20 20:00:00</td>\n      <td>20</td>\n      <td>Monday</td>\n      <td>False</td>\n      <td>REGULAR</td>\n      <td>7415007</td>\n      <td>2517770</td>\n      <td>44</td>\n      <td>10</td>\n      <td>4.0</td>\n      <td>54</td>\n      <td>13.50000</td>\n    </tr>\n    <tr>\n      <th>18</th>\n      <td>90191926F891F8C7</td>\n      <td>R051</td>\n      <td>02-00-00</td>\n      <td>59 ST</td>\n      <td>NQR456W</td>\n      <td>BMT</td>\n      <td>2020-04-21 00:00:00</td>\n      <td>0</td>\n      <td>Tuesday</td>\n      <td>False</td>\n      <td>REGULAR</td>\n      <td>7415026</td>\n      <td>2517778</td>\n      <td>19</td>\n      <td>8</td>\n      <td>4.0</td>\n      <td>27</td>\n      <td>6.75000</td>\n    </tr>\n    <tr>\n      <th>19</th>\n      <td>90191926F891F8C7</td>\n      <td>R051</td>\n      <td>02-00-00</td>\n      <td>59 ST</td>\n      <td>NQR456W</td>\n      <td>BMT</td>\n      <td>2020-04-21 04:00:00</td>\n      <td>4</td>\n      <td>Tuesday</td>\n      <td>False</td>\n      <td>REGULAR</td>\n      <td>7415027</td>\n      <td>2517779</td>\n      <td>1</td>\n      <td>1</td>\n      <td>4.0</td>\n      <td>2</td>\n      <td>0.50000</td>\n    </tr>\n    <tr>\n      <th>20</th>\n      <td>90191926F891F8C7</td>\n      <td>R051</td>\n      <td>02-00-00</td>\n      <td>59 ST</td>\n      <td>NQR456W</td>\n      <td>BMT</td>\n      <td>2020-04-21 08:00:00</td>\n      <td>8</td>\n      <td>Tuesday</td>\n      <td>False</td>\n      <td>REGULAR</td>\n      <td>7415033</td>\n      <td>2517789</td>\n      <td>6</td>\n      <td>10</td>\n      <td>4.0</td>\n      <td>16</td>\n      <td>4.00000</td>\n    </tr>\n    <tr>\n      <th>21</th>\n      <td>90191926F891F8C7</td>\n      <td>R051</td>\n      <td>02-00-00</td>\n      <td>59 ST</td>\n      <td>NQR456W</td>\n      <td>BMT</td>\n      <td>2020-04-21 12:00:00</td>\n      <td>12</td>\n      <td>Tuesday</td>\n      <td>False</td>\n      <td>REGULAR</td>\n      <td>7415042</td>\n      <td>2517809</td>\n      <td>9</td>\n      <td>20</td>\n      <td>4.0</td>\n      <td>29</td>\n      <td>7.25000</td>\n    </tr>\n    <tr>\n      <th>22</th>\n      <td>90191926F891F8C7</td>\n      <td>R051</td>\n      <td>02-00-00</td>\n      <td>59 ST</td>\n      <td>NQR456W</td>\n      <td>BMT</td>\n      <td>2020-04-21 16:00:00</td>\n      <td>16</td>\n      <td>Tuesday</td>\n      <td>False</td>\n      <td>REGULAR</td>\n      <td>7415071</td>\n      <td>2517826</td>\n      <td>29</td>\n      <td>17</td>\n      <td>4.0</td>\n      <td>46</td>\n      <td>11.50000</td>\n    </tr>\n    <tr>\n      <th>23</th>\n      <td>90191926F891F8C7</td>\n      <td>R051</td>\n      <td>02-00-00</td>\n      <td>59 ST</td>\n      <td>NQR456W</td>\n      <td>BMT</td>\n      <td>2020-04-21 20:00:00</td>\n      <td>20</td>\n      <td>Tuesday</td>\n      <td>False</td>\n      <td>REGULAR</td>\n      <td>7415111</td>\n      <td>2517832</td>\n      <td>40</td>\n      <td>6</td>\n      <td>4.0</td>\n      <td>46</td>\n      <td>11.50000</td>\n    </tr>\n    <tr>\n      <th>24</th>\n      <td>90191926F891F8C7</td>\n      <td>R051</td>\n      <td>02-00-00</td>\n      <td>59 ST</td>\n      <td>NQR456W</td>\n      <td>BMT</td>\n      <td>2020-04-22 00:00:00</td>\n      <td>0</td>\n      <td>Wednesday</td>\n      <td>False</td>\n      <td>REGULAR</td>\n      <td>7415127</td>\n      <td>2517838</td>\n      <td>16</td>\n      <td>6</td>\n      <td>4.0</td>\n      <td>22</td>\n      <td>5.50000</td>\n    </tr>\n    <tr>\n      <th>25</th>\n      <td>90191926F891F8C7</td>\n      <td>R051</td>\n      <td>02-00-00</td>\n      <td>59 ST</td>\n      <td>NQR456W</td>\n      <td>BMT</td>\n      <td>2020-04-22 08:00:00</td>\n      <td>8</td>\n      <td>Wednesday</td>\n      <td>False</td>\n      <td>REGULAR</td>\n      <td>7415134</td>\n      <td>2517855</td>\n      <td>7</td>\n      <td>17</td>\n      <td>8.0</td>\n      <td>24</td>\n      <td>3.00000</td>\n    </tr>\n    <tr>\n      <th>26</th>\n      <td>90191926F891F8C7</td>\n      <td>R051</td>\n      <td>02-00-00</td>\n      <td>59 ST</td>\n      <td>NQR456W</td>\n      <td>BMT</td>\n      <td>2020-04-22 12:00:00</td>\n      <td>12</td>\n      <td>Wednesday</td>\n      <td>False</td>\n      <td>REGULAR</td>\n      <td>7415152</td>\n      <td>2517879</td>\n      <td>18</td>\n      <td>24</td>\n      <td>4.0</td>\n      <td>42</td>\n      <td>10.50000</td>\n    </tr>\n    <tr>\n      <th>27</th>\n      <td>90191926F891F8C7</td>\n      <td>R051</td>\n      <td>02-00-00</td>\n      <td>59 ST</td>\n      <td>NQR456W</td>\n      <td>BMT</td>\n      <td>2020-04-22 16:00:00</td>\n      <td>16</td>\n      <td>Wednesday</td>\n      <td>False</td>\n      <td>REGULAR</td>\n      <td>7415186</td>\n      <td>2517893</td>\n      <td>34</td>\n      <td>14</td>\n      <td>4.0</td>\n      <td>48</td>\n      <td>12.00000</td>\n    </tr>\n  </tbody>\n</table>\n</div>"
     },
     "metadata": {},
     "execution_count": 28
    }
   ],
   "source": [
    "mta_data.head(20)"
   ]
  },
  {
   "cell_type": "code",
   "execution_count": 29,
   "metadata": {},
   "outputs": [
    {
     "output_type": "stream",
     "name": "stdout",
     "text": [
      "--------------Possible Duplicate Rows--------------\n"
     ]
    },
    {
     "output_type": "execute_result",
     "data": {
      "text/plain": [
       "                     TID  UNIT       SCP          STATION LINENAME DIVISION  \\\n",
       "63719   01453FB67505010F  R127  00-02-03  JAY ST-METROTEC      ACF      IND   \n",
       "64257   01453FB67505010F  R127  00-02-03  JAY ST-METROTEC      ACF      IND   \n",
       "32669   059237EB346C6C86  R248  01-00-04             1 AV        L      BMT   \n",
       "32688   059237EB346C6C86  R248  01-00-04             1 AV        L      BMT   \n",
       "33078   059237EB346C6C86  R248  01-00-04             1 AV        L      BMT   \n",
       "...                  ...   ...       ...              ...      ...      ...   \n",
       "118101  EDEDF0762A583962  R552  00-01-01   JOURNAL SQUARE        1      PTH   \n",
       "118110  EDEDF0762A583962  R552  00-01-01   JOURNAL SQUARE        1      PTH   \n",
       "116937  EDEDF0762A583962  R552  00-01-01   JOURNAL SQUARE        1      PTH   \n",
       "117594  EDEDF0762A583962  R552  00-01-01   JOURNAL SQUARE        1      PTH   \n",
       "119991  EDEDF0762A583962  R552  00-01-01   JOURNAL SQUARE        1      PTH   \n",
       "\n",
       "                  DATETIME  HOUR        DoW  WEEKEND     DESC  ENTRIES  EXITS  \\\n",
       "63719  2020-05-08 20:00:00    20     Friday    False  REGULAR     9799  12103   \n",
       "64257  2020-05-09 00:00:00     0   Saturday     True  REGULAR     9799  12117   \n",
       "32669  2020-04-30 12:00:00    12   Thursday    False  REGULAR       28     50   \n",
       "32688  2020-05-06 16:00:00    16  Wednesday    False  REGULAR      936    244   \n",
       "33078  2020-05-13 08:00:00     8  Wednesday    False  REGULAR       28     11   \n",
       "...                    ...   ...        ...      ...      ...      ...    ...   \n",
       "118101 2020-03-04 01:33:57     1  Wednesday    False  REGULAR    18386  45305   \n",
       "118110 2020-03-05 15:21:57    15   Thursday    False  REGULAR    20542  48581   \n",
       "116937 2020-05-06 19:15:27    19  Wednesday    False  REGULAR    16991  35820   \n",
       "117594 2020-05-13 23:27:27    23  Wednesday    False  REGULAR    18386  37801   \n",
       "119991 2020-05-25 16:51:27    16     Monday    False  REGULAR    20542  41703   \n",
       "\n",
       "        ENTRYDIFF  EXITDIFF  DURATION  TOTAL_TRAFFIC  AVG_TRAFFIC  \n",
       "63719          17        37       4.0             54    13.500000  \n",
       "64257        1789      6796    -164.0           8585   -52.347561  \n",
       "32669           5        30       4.0             35     8.750000  \n",
       "32688          61        10       4.0             71    17.750000  \n",
       "33078          15         7       4.0             22     5.500000  \n",
       "...           ...       ...       ...            ...          ...  \n",
       "118101         38       341       4.2            379    90.238095  \n",
       "118110        169       261       4.2            430   102.380952  \n",
       "116937         33       156       4.2            189    45.000000  \n",
       "117594         26        55       4.2             81    19.285714  \n",
       "119991         14        77       4.2             91    21.666667  \n",
       "\n",
       "[249 rows x 18 columns]"
      ],
      "text/html": "<div>\n<style scoped>\n    .dataframe tbody tr th:only-of-type {\n        vertical-align: middle;\n    }\n\n    .dataframe tbody tr th {\n        vertical-align: top;\n    }\n\n    .dataframe thead th {\n        text-align: right;\n    }\n</style>\n<table border=\"1\" class=\"dataframe\">\n  <thead>\n    <tr style=\"text-align: right;\">\n      <th></th>\n      <th>TID</th>\n      <th>UNIT</th>\n      <th>SCP</th>\n      <th>STATION</th>\n      <th>LINENAME</th>\n      <th>DIVISION</th>\n      <th>DATETIME</th>\n      <th>HOUR</th>\n      <th>DoW</th>\n      <th>WEEKEND</th>\n      <th>DESC</th>\n      <th>ENTRIES</th>\n      <th>EXITS</th>\n      <th>ENTRYDIFF</th>\n      <th>EXITDIFF</th>\n      <th>DURATION</th>\n      <th>TOTAL_TRAFFIC</th>\n      <th>AVG_TRAFFIC</th>\n    </tr>\n  </thead>\n  <tbody>\n    <tr>\n      <th>63719</th>\n      <td>01453FB67505010F</td>\n      <td>R127</td>\n      <td>00-02-03</td>\n      <td>JAY ST-METROTEC</td>\n      <td>ACF</td>\n      <td>IND</td>\n      <td>2020-05-08 20:00:00</td>\n      <td>20</td>\n      <td>Friday</td>\n      <td>False</td>\n      <td>REGULAR</td>\n      <td>9799</td>\n      <td>12103</td>\n      <td>17</td>\n      <td>37</td>\n      <td>4.0</td>\n      <td>54</td>\n      <td>13.500000</td>\n    </tr>\n    <tr>\n      <th>64257</th>\n      <td>01453FB67505010F</td>\n      <td>R127</td>\n      <td>00-02-03</td>\n      <td>JAY ST-METROTEC</td>\n      <td>ACF</td>\n      <td>IND</td>\n      <td>2020-05-09 00:00:00</td>\n      <td>0</td>\n      <td>Saturday</td>\n      <td>True</td>\n      <td>REGULAR</td>\n      <td>9799</td>\n      <td>12117</td>\n      <td>1789</td>\n      <td>6796</td>\n      <td>-164.0</td>\n      <td>8585</td>\n      <td>-52.347561</td>\n    </tr>\n    <tr>\n      <th>32669</th>\n      <td>059237EB346C6C86</td>\n      <td>R248</td>\n      <td>01-00-04</td>\n      <td>1 AV</td>\n      <td>L</td>\n      <td>BMT</td>\n      <td>2020-04-30 12:00:00</td>\n      <td>12</td>\n      <td>Thursday</td>\n      <td>False</td>\n      <td>REGULAR</td>\n      <td>28</td>\n      <td>50</td>\n      <td>5</td>\n      <td>30</td>\n      <td>4.0</td>\n      <td>35</td>\n      <td>8.750000</td>\n    </tr>\n    <tr>\n      <th>32688</th>\n      <td>059237EB346C6C86</td>\n      <td>R248</td>\n      <td>01-00-04</td>\n      <td>1 AV</td>\n      <td>L</td>\n      <td>BMT</td>\n      <td>2020-05-06 16:00:00</td>\n      <td>16</td>\n      <td>Wednesday</td>\n      <td>False</td>\n      <td>REGULAR</td>\n      <td>936</td>\n      <td>244</td>\n      <td>61</td>\n      <td>10</td>\n      <td>4.0</td>\n      <td>71</td>\n      <td>17.750000</td>\n    </tr>\n    <tr>\n      <th>33078</th>\n      <td>059237EB346C6C86</td>\n      <td>R248</td>\n      <td>01-00-04</td>\n      <td>1 AV</td>\n      <td>L</td>\n      <td>BMT</td>\n      <td>2020-05-13 08:00:00</td>\n      <td>8</td>\n      <td>Wednesday</td>\n      <td>False</td>\n      <td>REGULAR</td>\n      <td>28</td>\n      <td>11</td>\n      <td>15</td>\n      <td>7</td>\n      <td>4.0</td>\n      <td>22</td>\n      <td>5.500000</td>\n    </tr>\n    <tr>\n      <th>...</th>\n      <td>...</td>\n      <td>...</td>\n      <td>...</td>\n      <td>...</td>\n      <td>...</td>\n      <td>...</td>\n      <td>...</td>\n      <td>...</td>\n      <td>...</td>\n      <td>...</td>\n      <td>...</td>\n      <td>...</td>\n      <td>...</td>\n      <td>...</td>\n      <td>...</td>\n      <td>...</td>\n      <td>...</td>\n      <td>...</td>\n    </tr>\n    <tr>\n      <th>118101</th>\n      <td>EDEDF0762A583962</td>\n      <td>R552</td>\n      <td>00-01-01</td>\n      <td>JOURNAL SQUARE</td>\n      <td>1</td>\n      <td>PTH</td>\n      <td>2020-03-04 01:33:57</td>\n      <td>1</td>\n      <td>Wednesday</td>\n      <td>False</td>\n      <td>REGULAR</td>\n      <td>18386</td>\n      <td>45305</td>\n      <td>38</td>\n      <td>341</td>\n      <td>4.2</td>\n      <td>379</td>\n      <td>90.238095</td>\n    </tr>\n    <tr>\n      <th>118110</th>\n      <td>EDEDF0762A583962</td>\n      <td>R552</td>\n      <td>00-01-01</td>\n      <td>JOURNAL SQUARE</td>\n      <td>1</td>\n      <td>PTH</td>\n      <td>2020-03-05 15:21:57</td>\n      <td>15</td>\n      <td>Thursday</td>\n      <td>False</td>\n      <td>REGULAR</td>\n      <td>20542</td>\n      <td>48581</td>\n      <td>169</td>\n      <td>261</td>\n      <td>4.2</td>\n      <td>430</td>\n      <td>102.380952</td>\n    </tr>\n    <tr>\n      <th>116937</th>\n      <td>EDEDF0762A583962</td>\n      <td>R552</td>\n      <td>00-01-01</td>\n      <td>JOURNAL SQUARE</td>\n      <td>1</td>\n      <td>PTH</td>\n      <td>2020-05-06 19:15:27</td>\n      <td>19</td>\n      <td>Wednesday</td>\n      <td>False</td>\n      <td>REGULAR</td>\n      <td>16991</td>\n      <td>35820</td>\n      <td>33</td>\n      <td>156</td>\n      <td>4.2</td>\n      <td>189</td>\n      <td>45.000000</td>\n    </tr>\n    <tr>\n      <th>117594</th>\n      <td>EDEDF0762A583962</td>\n      <td>R552</td>\n      <td>00-01-01</td>\n      <td>JOURNAL SQUARE</td>\n      <td>1</td>\n      <td>PTH</td>\n      <td>2020-05-13 23:27:27</td>\n      <td>23</td>\n      <td>Wednesday</td>\n      <td>False</td>\n      <td>REGULAR</td>\n      <td>18386</td>\n      <td>37801</td>\n      <td>26</td>\n      <td>55</td>\n      <td>4.2</td>\n      <td>81</td>\n      <td>19.285714</td>\n    </tr>\n    <tr>\n      <th>119991</th>\n      <td>EDEDF0762A583962</td>\n      <td>R552</td>\n      <td>00-01-01</td>\n      <td>JOURNAL SQUARE</td>\n      <td>1</td>\n      <td>PTH</td>\n      <td>2020-05-25 16:51:27</td>\n      <td>16</td>\n      <td>Monday</td>\n      <td>False</td>\n      <td>REGULAR</td>\n      <td>20542</td>\n      <td>41703</td>\n      <td>14</td>\n      <td>77</td>\n      <td>4.2</td>\n      <td>91</td>\n      <td>21.666667</td>\n    </tr>\n  </tbody>\n</table>\n<p>249 rows × 18 columns</p>\n</div>"
     },
     "metadata": {},
     "execution_count": 29
    }
   ],
   "source": [
    "dupes = eda.identify_duplicates(mta_data,'TID', 'ENTRIES')\n",
    "dupes.sort_values(by=['TID','DATETIME'], ascending=True)"
   ]
  },
  {
   "cell_type": "code",
   "execution_count": 30,
   "metadata": {},
   "outputs": [
    {
     "output_type": "execute_result",
     "data": {
      "text/plain": [
       "            HOUR       ENTRIES         EXITS  ENTRYDIFF   EXITDIFF   DURATION  \\\n",
       "count  1822446.0     1822446.0     1822446.0  1822446.0  1822446.0  1822446.0   \n",
       "mean        11.4    30650222.4    22487494.9       57.0       51.0        4.2   \n",
       "std          6.8   174436261.0   141945588.7      136.0      127.5        2.7   \n",
       "min          0.0           1.0           1.0        1.0        1.0     -167.4   \n",
       "25%          5.0      613749.2      382103.2        6.0        7.0        4.0   \n",
       "50%         12.0     2761760.0     1659641.5       18.0       17.0        4.0   \n",
       "75%         17.0     7164900.8     5145809.0       50.0       46.0        4.0   \n",
       "max         23.0  2116081237.0  2038513102.0     9801.0     9940.0      148.0   \n",
       "\n",
       "      TOTAL_TRAFFIC AVG_TRAFFIC  \n",
       "count     1822446.0   1822446.0  \n",
       "mean          108.1        25.8  \n",
       "std           226.7        47.8  \n",
       "min             2.0     -1680.9  \n",
       "25%            17.0         4.0  \n",
       "50%            41.0        10.0  \n",
       "75%           101.0        24.8  \n",
       "max         19282.0      1603.0  "
      ],
      "text/html": "<div>\n<style scoped>\n    .dataframe tbody tr th:only-of-type {\n        vertical-align: middle;\n    }\n\n    .dataframe tbody tr th {\n        vertical-align: top;\n    }\n\n    .dataframe thead th {\n        text-align: right;\n    }\n</style>\n<table border=\"1\" class=\"dataframe\">\n  <thead>\n    <tr style=\"text-align: right;\">\n      <th></th>\n      <th>HOUR</th>\n      <th>ENTRIES</th>\n      <th>EXITS</th>\n      <th>ENTRYDIFF</th>\n      <th>EXITDIFF</th>\n      <th>DURATION</th>\n      <th>TOTAL_TRAFFIC</th>\n      <th>AVG_TRAFFIC</th>\n    </tr>\n  </thead>\n  <tbody>\n    <tr>\n      <th>count</th>\n      <td>1822446.0</td>\n      <td>1822446.0</td>\n      <td>1822446.0</td>\n      <td>1822446.0</td>\n      <td>1822446.0</td>\n      <td>1822446.0</td>\n      <td>1822446.0</td>\n      <td>1822446.0</td>\n    </tr>\n    <tr>\n      <th>mean</th>\n      <td>11.4</td>\n      <td>30650222.4</td>\n      <td>22487494.9</td>\n      <td>57.0</td>\n      <td>51.0</td>\n      <td>4.2</td>\n      <td>108.1</td>\n      <td>25.8</td>\n    </tr>\n    <tr>\n      <th>std</th>\n      <td>6.8</td>\n      <td>174436261.0</td>\n      <td>141945588.7</td>\n      <td>136.0</td>\n      <td>127.5</td>\n      <td>2.7</td>\n      <td>226.7</td>\n      <td>47.8</td>\n    </tr>\n    <tr>\n      <th>min</th>\n      <td>0.0</td>\n      <td>1.0</td>\n      <td>1.0</td>\n      <td>1.0</td>\n      <td>1.0</td>\n      <td>-167.4</td>\n      <td>2.0</td>\n      <td>-1680.9</td>\n    </tr>\n    <tr>\n      <th>25%</th>\n      <td>5.0</td>\n      <td>613749.2</td>\n      <td>382103.2</td>\n      <td>6.0</td>\n      <td>7.0</td>\n      <td>4.0</td>\n      <td>17.0</td>\n      <td>4.0</td>\n    </tr>\n    <tr>\n      <th>50%</th>\n      <td>12.0</td>\n      <td>2761760.0</td>\n      <td>1659641.5</td>\n      <td>18.0</td>\n      <td>17.0</td>\n      <td>4.0</td>\n      <td>41.0</td>\n      <td>10.0</td>\n    </tr>\n    <tr>\n      <th>75%</th>\n      <td>17.0</td>\n      <td>7164900.8</td>\n      <td>5145809.0</td>\n      <td>50.0</td>\n      <td>46.0</td>\n      <td>4.0</td>\n      <td>101.0</td>\n      <td>24.8</td>\n    </tr>\n    <tr>\n      <th>max</th>\n      <td>23.0</td>\n      <td>2116081237.0</td>\n      <td>2038513102.0</td>\n      <td>9801.0</td>\n      <td>9940.0</td>\n      <td>148.0</td>\n      <td>19282.0</td>\n      <td>1603.0</td>\n    </tr>\n  </tbody>\n</table>\n</div>"
     },
     "metadata": {},
     "execution_count": 30
    }
   ],
   "source": [
    "mta_data.describe().apply(lambda s: s.apply('{0:.1f}'.format))"
   ]
  },
  {
   "cell_type": "code",
   "execution_count": 31,
   "metadata": {},
   "outputs": [
    {
     "output_type": "error",
     "ename": "Exception",
     "evalue": "Pause",
     "traceback": [
      "\u001b[0;31m---------------------------------------------------------------------------\u001b[0m",
      "\u001b[0;31mException\u001b[0m                                 Traceback (most recent call last)",
      "\u001b[0;32m<ipython-input-31-a4762432c484>\u001b[0m in \u001b[0;36m<module>\u001b[0;34m\u001b[0m\n\u001b[0;32m----> 1\u001b[0;31m \u001b[0;32mraise\u001b[0m \u001b[0mException\u001b[0m\u001b[0;34m(\u001b[0m\u001b[0;34m'Pause'\u001b[0m\u001b[0;34m)\u001b[0m\u001b[0;34m\u001b[0m\u001b[0;34m\u001b[0m\u001b[0m\n\u001b[0m",
      "\u001b[0;31mException\u001b[0m: Pause"
     ]
    }
   ],
   "source": [
    "raise Exception('Pause')"
   ]
  },
  {
   "source": [
    "### Weekly Averages by Station"
   ],
   "cell_type": "markdown",
   "metadata": {}
  },
  {
   "cell_type": "code",
   "execution_count": null,
   "metadata": {},
   "outputs": [],
   "source": [
    "top_traffic_stations_weekday_average = top_traffic_stations_df.groupby(['STATION','DoW'], as_index=False).TOTAL_TRAFFIC.mean().sort_values('TOTAL_TRAFFIC', ascending=False)"
   ]
  },
  {
   "cell_type": "code",
   "execution_count": null,
   "metadata": {},
   "outputs": [],
   "source": [
    "# Sort by weekday\n",
    "weekdays = ['Sunday', 'Monday', 'Tuesday', 'Wednesday', 'Thursday', 'Friday', 'Saturday']\n",
    "wc = pd.CategoricalDtype(categories=weekdays, ordered=True)\n",
    "top_traffic_stations_weekday_average['DoW'] = top_traffic_stations_weekday_average['DoW'].astype(wc)"
   ]
  },
  {
   "cell_type": "code",
   "execution_count": null,
   "metadata": {},
   "outputs": [],
   "source": [
    "top_stations_weekday_averages_wide = top_traffic_stations_weekday_average.pivot(\"DoW\", \"STATION\", \"TOTAL_TRAFFIC\")"
   ]
  },
  {
   "cell_type": "code",
   "execution_count": null,
   "metadata": {},
   "outputs": [],
   "source": [
    "top_stations_weekly_averages = sns.lineplot(data=top_traffic_stations_weekday_average, linewidth = 3, x=\"DoW\", y=\"TOTAL_TRAFFIC\", hue=\"STATION\")\n",
    "top_stations_weekly_averages.legend(fontsize='14')\n",
    "sns.set(rc={'figure.figsize':(12,6)})\n",
    "# top_stations_weekly_averages.get_figure().savefig('../viz/top_stations_weekly_averages.svg', format='svg')"
   ]
  },
  {
   "source": [
    "### Line Plots for select Stations"
   ],
   "cell_type": "markdown",
   "metadata": {}
  },
  {
   "cell_type": "code",
   "execution_count": null,
   "metadata": {},
   "outputs": [],
   "source": [
    "hourlyLinePlots(mta_data, '34 ST-PENN STA')"
   ]
  },
  {
   "cell_type": "code",
   "execution_count": null,
   "metadata": {},
   "outputs": [],
   "source": []
  }
 ]
}