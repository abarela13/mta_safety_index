{
 "metadata": {
  "language_info": {
   "codemirror_mode": {
    "name": "ipython",
    "version": 3
   },
   "file_extension": ".py",
   "mimetype": "text/x-python",
   "name": "python",
   "nbconvert_exporter": "python",
   "pygments_lexer": "ipython3",
   "version": "3.8.5"
  },
  "orig_nbformat": 2,
  "kernelspec": {
   "name": "python3",
   "display_name": "Python 3",
   "language": "python"
  }
 },
 "nbformat": 4,
 "nbformat_minor": 2,
 "cells": [
  {
   "cell_type": "code",
   "execution_count": 1,
   "metadata": {},
   "outputs": [],
   "source": [
    "import mta_functions as mta\n",
    "import pandas as pd\n",
    "import eda"
   ]
  },
  {
   "cell_type": "code",
   "execution_count": 2,
   "metadata": {},
   "outputs": [],
   "source": [
    "# Create dataframe from unprocessed directory files\n",
    "mta_data = mta.df_from_directory('../data/turnstiles/processing')"
   ]
  },
  {
   "cell_type": "code",
   "execution_count": 3,
   "metadata": {},
   "outputs": [],
   "source": [
    "# Create concat string for turnstile\n",
    "mta_data['TID'] = mta.concat_columns(mta_data, ['C/A', 'UNIT', 'SCP'])"
   ]
  },
  {
   "cell_type": "code",
   "execution_count": 4,
   "metadata": {},
   "outputs": [],
   "source": [
    "# Create Turnstile ID for each turnstile\n",
    "mta_data['TID'] = mta_data.apply(lambda x: mta.create_hashed_column(x['TID'], 16), axis = 1)"
   ]
  },
  {
   "cell_type": "code",
   "execution_count": 5,
   "metadata": {},
   "outputs": [],
   "source": [
    "# Create concat string for entries\n",
    "mta_data['UID_string'] = mta.concat_columns(mta_data, ['TID', 'DATE', 'TIME'])"
   ]
  },
  {
   "cell_type": "code",
   "execution_count": 6,
   "metadata": {},
   "outputs": [],
   "source": [
    "# Convert entry string to hash\n",
    "mta_data['UID'] = mta_data.apply(lambda x: mta.create_hashed_column(x['UID_string'], 16), axis = 1)"
   ]
  },
  {
   "cell_type": "code",
   "execution_count": 7,
   "metadata": {},
   "outputs": [],
   "source": [
    "# Create DateTime column\n",
    "mta_data['DATETIME'] = pd.to_datetime(mta_data.DATE + ' ' + mta_data.TIME)"
   ]
  },
  {
   "cell_type": "code",
   "execution_count": 8,
   "metadata": {},
   "outputs": [],
   "source": [
    "#  Fix EXITS column name\n",
    "mta_data.columns = [column.strip() for column in mta_data.columns]"
   ]
  },
  {
   "cell_type": "code",
   "execution_count": 9,
   "metadata": {},
   "outputs": [],
   "source": [
    "# Reorganize Columns\n",
    "mta_data = mta_data[['UID','TID','C/A','UNIT','SCP','STATION','LINENAME','DIVISION','DATETIME','DESC','ENTRIES','EXITS']]"
   ]
  },
  {
   "cell_type": "code",
   "execution_count": 10,
   "metadata": {},
   "outputs": [],
   "source": [
    "# mta_data.loc[mta_data['DESC'] == 'RECOVR AUD'].index\n",
    "\n",
    "# idx = mta_data.index.iloc(row_index)\n",
    "# mta_data.iloc[idx - 1 : idx + 1]\n",
    "\n",
    "# list(mta_data[mta_data.DESC == 'RECOVR AUD'].ind)\n",
    "\n",
    "# mta_data.index."
   ]
  },
  {
   "cell_type": "code",
   "execution_count": 11,
   "metadata": {},
   "outputs": [
    {
     "output_type": "execute_result",
     "data": {
      "text/plain": [
       "            ENTRIES         EXITS\n",
       "count     3295462.0     3295462.0\n",
       "mean     42830005.3    35090932.2\n",
       "std     218833245.6   198751684.2\n",
       "min             0.0           0.0\n",
       "25%        317884.0      141535.2\n",
       "50%       1921470.0     1124620.0\n",
       "75%       6572069.0     4477027.0\n",
       "max    2128895656.0  2123501742.0"
      ],
      "text/html": "<div>\n<style scoped>\n    .dataframe tbody tr th:only-of-type {\n        vertical-align: middle;\n    }\n\n    .dataframe tbody tr th {\n        vertical-align: top;\n    }\n\n    .dataframe thead th {\n        text-align: right;\n    }\n</style>\n<table border=\"1\" class=\"dataframe\">\n  <thead>\n    <tr style=\"text-align: right;\">\n      <th></th>\n      <th>ENTRIES</th>\n      <th>EXITS</th>\n    </tr>\n  </thead>\n  <tbody>\n    <tr>\n      <th>count</th>\n      <td>3295462.0</td>\n      <td>3295462.0</td>\n    </tr>\n    <tr>\n      <th>mean</th>\n      <td>42830005.3</td>\n      <td>35090932.2</td>\n    </tr>\n    <tr>\n      <th>std</th>\n      <td>218833245.6</td>\n      <td>198751684.2</td>\n    </tr>\n    <tr>\n      <th>min</th>\n      <td>0.0</td>\n      <td>0.0</td>\n    </tr>\n    <tr>\n      <th>25%</th>\n      <td>317884.0</td>\n      <td>141535.2</td>\n    </tr>\n    <tr>\n      <th>50%</th>\n      <td>1921470.0</td>\n      <td>1124620.0</td>\n    </tr>\n    <tr>\n      <th>75%</th>\n      <td>6572069.0</td>\n      <td>4477027.0</td>\n    </tr>\n    <tr>\n      <th>max</th>\n      <td>2128895656.0</td>\n      <td>2123501742.0</td>\n    </tr>\n  </tbody>\n</table>\n</div>"
     },
     "metadata": {},
     "execution_count": 11
    }
   ],
   "source": [
    "mta_data.describe().apply(lambda s: s.apply('{0:.1f}'.format))"
   ]
  },
  {
   "cell_type": "code",
   "execution_count": 12,
   "metadata": {},
   "outputs": [
    {
     "output_type": "stream",
     "name": "stdout",
     "text": [
      "------------------Rows with Nulls------------------\n"
     ]
    },
    {
     "output_type": "execute_result",
     "data": {
      "text/plain": [
       "Empty DataFrame\n",
       "Columns: [UID, TID, C/A, UNIT, SCP, STATION, LINENAME, DIVISION, DATETIME, DESC, ENTRIES, EXITS]\n",
       "Index: []"
      ],
      "text/html": "<div>\n<style scoped>\n    .dataframe tbody tr th:only-of-type {\n        vertical-align: middle;\n    }\n\n    .dataframe tbody tr th {\n        vertical-align: top;\n    }\n\n    .dataframe thead th {\n        text-align: right;\n    }\n</style>\n<table border=\"1\" class=\"dataframe\">\n  <thead>\n    <tr style=\"text-align: right;\">\n      <th></th>\n      <th>UID</th>\n      <th>TID</th>\n      <th>C/A</th>\n      <th>UNIT</th>\n      <th>SCP</th>\n      <th>STATION</th>\n      <th>LINENAME</th>\n      <th>DIVISION</th>\n      <th>DATETIME</th>\n      <th>DESC</th>\n      <th>ENTRIES</th>\n      <th>EXITS</th>\n    </tr>\n  </thead>\n  <tbody>\n  </tbody>\n</table>\n</div>"
     },
     "metadata": {},
     "execution_count": 12
    }
   ],
   "source": [
    "eda.identify_nulls(mta_data)"
   ]
  },
  {
   "cell_type": "code",
   "execution_count": 13,
   "metadata": {},
   "outputs": [
    {
     "output_type": "stream",
     "name": "stdout",
     "text": [
      "--------------Possible Duplicate Rows--------------\n"
     ]
    },
    {
     "output_type": "execute_result",
     "data": {
      "text/plain": [
       "                     UID               TID   C/A  UNIT       SCP  \\\n",
       "184505  024E4A629B63F671  B4CD039EDBAFDB6A  R514  R094  00-05-00   \n",
       "184506  024E4A629B63F671  B4CD039EDBAFDB6A  R514  R094  00-05-00   \n",
       "184515  0922F21EDC911A87  B4CD039EDBAFDB6A  R514  R094  00-05-00   \n",
       "184516  0922F21EDC911A87  B4CD039EDBAFDB6A  R514  R094  00-05-00   \n",
       "184499  0A2E91A008B6CEC5  B4CD039EDBAFDB6A  R514  R094  00-05-00   \n",
       "...                  ...               ...   ...   ...       ...   \n",
       "184492  F72F8DE19515A966  B4CD039EDBAFDB6A  R514  R094  00-05-00   \n",
       "184503  F8C9004FC73D9CD3  B4CD039EDBAFDB6A  R514  R094  00-05-00   \n",
       "184504  F8C9004FC73D9CD3  B4CD039EDBAFDB6A  R514  R094  00-05-00   \n",
       "184483  FB3B3F0E08207E89  B4CD039EDBAFDB6A  R514  R094  00-05-00   \n",
       "184484  FB3B3F0E08207E89  B4CD039EDBAFDB6A  R514  R094  00-05-00   \n",
       "\n",
       "             STATION LINENAME DIVISION            DATETIME        DESC  \\\n",
       "184505  ASTORIA BLVD      NQW      BMT 2020-01-21 07:00:00     REGULAR   \n",
       "184506  ASTORIA BLVD      NQW      BMT 2020-01-21 07:00:00  RECOVR AUD   \n",
       "184515  ASTORIA BLVD      NQW      BMT 2020-01-22 03:00:00     REGULAR   \n",
       "184516  ASTORIA BLVD      NQW      BMT 2020-01-22 03:00:00  RECOVR AUD   \n",
       "184499  ASTORIA BLVD      NQW      BMT 2020-01-20 19:00:00     REGULAR   \n",
       "...              ...      ...      ...                 ...         ...   \n",
       "184492  ASTORIA BLVD      NQW      BMT 2020-01-20 03:00:00  RECOVR AUD   \n",
       "184503  ASTORIA BLVD      NQW      BMT 2020-01-21 03:00:00     REGULAR   \n",
       "184504  ASTORIA BLVD      NQW      BMT 2020-01-21 03:00:00  RECOVR AUD   \n",
       "184483  ASTORIA BLVD      NQW      BMT 2020-01-19 11:00:00     REGULAR   \n",
       "184484  ASTORIA BLVD      NQW      BMT 2020-01-19 11:00:00  RECOVR AUD   \n",
       "\n",
       "        ENTRIES  EXITS  \n",
       "184505       17      0  \n",
       "184506       15      0  \n",
       "184515       15      0  \n",
       "184516       17      0  \n",
       "184499       17      0  \n",
       "...         ...    ...  \n",
       "184492       15      0  \n",
       "184503       17      0  \n",
       "184504       15      0  \n",
       "184483       15      0  \n",
       "184484       16      0  \n",
       "\n",
       "[64 rows x 12 columns]"
      ],
      "text/html": "<div>\n<style scoped>\n    .dataframe tbody tr th:only-of-type {\n        vertical-align: middle;\n    }\n\n    .dataframe tbody tr th {\n        vertical-align: top;\n    }\n\n    .dataframe thead th {\n        text-align: right;\n    }\n</style>\n<table border=\"1\" class=\"dataframe\">\n  <thead>\n    <tr style=\"text-align: right;\">\n      <th></th>\n      <th>UID</th>\n      <th>TID</th>\n      <th>C/A</th>\n      <th>UNIT</th>\n      <th>SCP</th>\n      <th>STATION</th>\n      <th>LINENAME</th>\n      <th>DIVISION</th>\n      <th>DATETIME</th>\n      <th>DESC</th>\n      <th>ENTRIES</th>\n      <th>EXITS</th>\n    </tr>\n  </thead>\n  <tbody>\n    <tr>\n      <th>184505</th>\n      <td>024E4A629B63F671</td>\n      <td>B4CD039EDBAFDB6A</td>\n      <td>R514</td>\n      <td>R094</td>\n      <td>00-05-00</td>\n      <td>ASTORIA BLVD</td>\n      <td>NQW</td>\n      <td>BMT</td>\n      <td>2020-01-21 07:00:00</td>\n      <td>REGULAR</td>\n      <td>17</td>\n      <td>0</td>\n    </tr>\n    <tr>\n      <th>184506</th>\n      <td>024E4A629B63F671</td>\n      <td>B4CD039EDBAFDB6A</td>\n      <td>R514</td>\n      <td>R094</td>\n      <td>00-05-00</td>\n      <td>ASTORIA BLVD</td>\n      <td>NQW</td>\n      <td>BMT</td>\n      <td>2020-01-21 07:00:00</td>\n      <td>RECOVR AUD</td>\n      <td>15</td>\n      <td>0</td>\n    </tr>\n    <tr>\n      <th>184515</th>\n      <td>0922F21EDC911A87</td>\n      <td>B4CD039EDBAFDB6A</td>\n      <td>R514</td>\n      <td>R094</td>\n      <td>00-05-00</td>\n      <td>ASTORIA BLVD</td>\n      <td>NQW</td>\n      <td>BMT</td>\n      <td>2020-01-22 03:00:00</td>\n      <td>REGULAR</td>\n      <td>15</td>\n      <td>0</td>\n    </tr>\n    <tr>\n      <th>184516</th>\n      <td>0922F21EDC911A87</td>\n      <td>B4CD039EDBAFDB6A</td>\n      <td>R514</td>\n      <td>R094</td>\n      <td>00-05-00</td>\n      <td>ASTORIA BLVD</td>\n      <td>NQW</td>\n      <td>BMT</td>\n      <td>2020-01-22 03:00:00</td>\n      <td>RECOVR AUD</td>\n      <td>17</td>\n      <td>0</td>\n    </tr>\n    <tr>\n      <th>184499</th>\n      <td>0A2E91A008B6CEC5</td>\n      <td>B4CD039EDBAFDB6A</td>\n      <td>R514</td>\n      <td>R094</td>\n      <td>00-05-00</td>\n      <td>ASTORIA BLVD</td>\n      <td>NQW</td>\n      <td>BMT</td>\n      <td>2020-01-20 19:00:00</td>\n      <td>REGULAR</td>\n      <td>17</td>\n      <td>0</td>\n    </tr>\n    <tr>\n      <th>...</th>\n      <td>...</td>\n      <td>...</td>\n      <td>...</td>\n      <td>...</td>\n      <td>...</td>\n      <td>...</td>\n      <td>...</td>\n      <td>...</td>\n      <td>...</td>\n      <td>...</td>\n      <td>...</td>\n      <td>...</td>\n    </tr>\n    <tr>\n      <th>184492</th>\n      <td>F72F8DE19515A966</td>\n      <td>B4CD039EDBAFDB6A</td>\n      <td>R514</td>\n      <td>R094</td>\n      <td>00-05-00</td>\n      <td>ASTORIA BLVD</td>\n      <td>NQW</td>\n      <td>BMT</td>\n      <td>2020-01-20 03:00:00</td>\n      <td>RECOVR AUD</td>\n      <td>15</td>\n      <td>0</td>\n    </tr>\n    <tr>\n      <th>184503</th>\n      <td>F8C9004FC73D9CD3</td>\n      <td>B4CD039EDBAFDB6A</td>\n      <td>R514</td>\n      <td>R094</td>\n      <td>00-05-00</td>\n      <td>ASTORIA BLVD</td>\n      <td>NQW</td>\n      <td>BMT</td>\n      <td>2020-01-21 03:00:00</td>\n      <td>REGULAR</td>\n      <td>17</td>\n      <td>0</td>\n    </tr>\n    <tr>\n      <th>184504</th>\n      <td>F8C9004FC73D9CD3</td>\n      <td>B4CD039EDBAFDB6A</td>\n      <td>R514</td>\n      <td>R094</td>\n      <td>00-05-00</td>\n      <td>ASTORIA BLVD</td>\n      <td>NQW</td>\n      <td>BMT</td>\n      <td>2020-01-21 03:00:00</td>\n      <td>RECOVR AUD</td>\n      <td>15</td>\n      <td>0</td>\n    </tr>\n    <tr>\n      <th>184483</th>\n      <td>FB3B3F0E08207E89</td>\n      <td>B4CD039EDBAFDB6A</td>\n      <td>R514</td>\n      <td>R094</td>\n      <td>00-05-00</td>\n      <td>ASTORIA BLVD</td>\n      <td>NQW</td>\n      <td>BMT</td>\n      <td>2020-01-19 11:00:00</td>\n      <td>REGULAR</td>\n      <td>15</td>\n      <td>0</td>\n    </tr>\n    <tr>\n      <th>184484</th>\n      <td>FB3B3F0E08207E89</td>\n      <td>B4CD039EDBAFDB6A</td>\n      <td>R514</td>\n      <td>R094</td>\n      <td>00-05-00</td>\n      <td>ASTORIA BLVD</td>\n      <td>NQW</td>\n      <td>BMT</td>\n      <td>2020-01-19 11:00:00</td>\n      <td>RECOVR AUD</td>\n      <td>16</td>\n      <td>0</td>\n    </tr>\n  </tbody>\n</table>\n<p>64 rows × 12 columns</p>\n</div>"
     },
     "metadata": {},
     "execution_count": 13
    }
   ],
   "source": [
    "eda.identify_duplicates(mta_data, 'UID', 'UNIT')"
   ]
  },
  {
   "cell_type": "code",
   "execution_count": 14,
   "metadata": {},
   "outputs": [
    {
     "output_type": "execute_result",
     "data": {
      "text/plain": [
       "                    UID               TID   C/A  UNIT       SCP     STATION  \\\n",
       "32400  78B40D7CD2F90B1A  892D72F2533CCDC3  H009  R235  00-03-00  BEDFORD AV   \n",
       "32401  78B40D7CD2F90B1A  892D72F2533CCDC3  H009  R235  00-03-00  BEDFORD AV   \n",
       "\n",
       "      LINENAME DIVISION            DATETIME        DESC   ENTRIES     EXITS  \n",
       "32400        L      BMT 2020-03-22 12:00:00     REGULAR  17126296  22672798  \n",
       "32401        L      BMT 2020-03-22 12:00:00  RECOVR AUD  19676995  30044802  "
      ],
      "text/html": "<div>\n<style scoped>\n    .dataframe tbody tr th:only-of-type {\n        vertical-align: middle;\n    }\n\n    .dataframe tbody tr th {\n        vertical-align: top;\n    }\n\n    .dataframe thead th {\n        text-align: right;\n    }\n</style>\n<table border=\"1\" class=\"dataframe\">\n  <thead>\n    <tr style=\"text-align: right;\">\n      <th></th>\n      <th>UID</th>\n      <th>TID</th>\n      <th>C/A</th>\n      <th>UNIT</th>\n      <th>SCP</th>\n      <th>STATION</th>\n      <th>LINENAME</th>\n      <th>DIVISION</th>\n      <th>DATETIME</th>\n      <th>DESC</th>\n      <th>ENTRIES</th>\n      <th>EXITS</th>\n    </tr>\n  </thead>\n  <tbody>\n    <tr>\n      <th>32400</th>\n      <td>78B40D7CD2F90B1A</td>\n      <td>892D72F2533CCDC3</td>\n      <td>H009</td>\n      <td>R235</td>\n      <td>00-03-00</td>\n      <td>BEDFORD AV</td>\n      <td>L</td>\n      <td>BMT</td>\n      <td>2020-03-22 12:00:00</td>\n      <td>REGULAR</td>\n      <td>17126296</td>\n      <td>22672798</td>\n    </tr>\n    <tr>\n      <th>32401</th>\n      <td>78B40D7CD2F90B1A</td>\n      <td>892D72F2533CCDC3</td>\n      <td>H009</td>\n      <td>R235</td>\n      <td>00-03-00</td>\n      <td>BEDFORD AV</td>\n      <td>L</td>\n      <td>BMT</td>\n      <td>2020-03-22 12:00:00</td>\n      <td>RECOVR AUD</td>\n      <td>19676995</td>\n      <td>30044802</td>\n    </tr>\n  </tbody>\n</table>\n</div>"
     },
     "metadata": {},
     "execution_count": 14
    }
   ],
   "source": [
    "mta_data[mta_data.UID == '78B40D7CD2F90B1A']"
   ]
  },
  {
   "cell_type": "code",
   "execution_count": 15,
   "metadata": {},
   "outputs": [],
   "source": [
    "# mta_data.sort_values([\"UID\", \"DESC\"], inplace=True, ascending=False)\n",
    "# mta_data.drop_duplicates(subset=[\"UID\"], inplace=True, keep='first')"
   ]
  },
  {
   "cell_type": "code",
   "execution_count": 16,
   "metadata": {},
   "outputs": [],
   "source": [
    "# get names of indexes for which\n",
    "# column Age has value 21\n",
    "mta_data.drop(mta_data[mta_data['DESC'] == 'RECOVR AUD'].index, inplace = True)"
   ]
  },
  {
   "cell_type": "code",
   "execution_count": 17,
   "metadata": {},
   "outputs": [],
   "source": [
    "# Create Weekday from newly create DateTime column\n",
    "mta_data['DoW'] = mta_data['DATETIME'].dt.day_name()"
   ]
  },
  {
   "cell_type": "code",
   "execution_count": 18,
   "metadata": {},
   "outputs": [],
   "source": [
    "# Identify Daytime\n",
    "mta_data['WEEKEND'] = mta_data['DoW'].apply(lambda x: True if (x == 'Saturday' or x == 'Sunday') else False)"
   ]
  },
  {
   "cell_type": "code",
   "execution_count": 19,
   "metadata": {},
   "outputs": [],
   "source": [
    "# Create Time of Day\n",
    "mta_data['HOUR'] = mta_data['DATETIME'].dt.hour"
   ]
  },
  {
   "cell_type": "code",
   "execution_count": null,
   "metadata": {},
   "outputs": [],
   "source": []
  },
  {
   "cell_type": "code",
   "execution_count": 20,
   "metadata": {},
   "outputs": [],
   "source": [
    "# Daily Counts by Turnstile\n",
    "mta_data['ENTRYDIFF'] = mta_data['ENTRIES'].diff()\n",
    "mta_data['EXITDIFF'] = mta_data['EXITS'].diff()"
   ]
  },
  {
   "cell_type": "code",
   "execution_count": 21,
   "metadata": {},
   "outputs": [],
   "source": [
    "mta_data['DURATION'] = mta_data.DATETIME.diff().apply(lambda x: x.total_seconds()/3600)"
   ]
  },
  {
   "cell_type": "code",
   "execution_count": 22,
   "metadata": {},
   "outputs": [],
   "source": [
    "# Drop Rows without changes\n",
    "mta_data.dropna(subset=['ENTRYDIFF', 'EXITDIFF'], inplace=True)"
   ]
  },
  {
   "cell_type": "code",
   "execution_count": 23,
   "metadata": {},
   "outputs": [],
   "source": [
    "# Drop First Entry Per Turnstile\n",
    "# mta_data = mta_data[mta_data.DATETIME >= mta_data.DATETIME.dt.day.min() + pd.DateOffset(days=1)]"
   ]
  },
  {
   "cell_type": "code",
   "execution_count": 24,
   "metadata": {},
   "outputs": [],
   "source": [
    "# Normalize floats to int values\n",
    "mta_data['ENTRYDIFF'] = mta_data['ENTRYDIFF'].astype(int)\n",
    "mta_data['EXITDIFF'] = mta_data['EXITDIFF'].astype(int)\n",
    "mta_data['TOTAL_TRAFFIC'] = mta_data['ENTRYDIFF'] + mta_data['EXITDIFF']"
   ]
  },
  {
   "cell_type": "code",
   "execution_count": 25,
   "metadata": {},
   "outputs": [],
   "source": [
    "mta_data['AVG_TRAFFIC'] = mta_data['TOTAL_TRAFFIC'] / mta_data['DURATION']"
   ]
  },
  {
   "cell_type": "code",
   "execution_count": 26,
   "metadata": {},
   "outputs": [],
   "source": [
    "# Drop ENTRYDIFF AND EXITDIFF Rows with extreme values\n",
    "mta_data = mta_data[mta_data.ENTRYDIFF <= 10000]\n",
    "mta_data = mta_data[mta_data.ENTRYDIFF > 0]\n",
    "\n",
    "mta_data = mta_data[mta_data.EXITDIFF <= 10000]\n",
    "mta_data = mta_data[mta_data.EXITDIFF > 0]"
   ]
  },
  {
   "cell_type": "code",
   "execution_count": 27,
   "metadata": {},
   "outputs": [],
   "source": [
    "# Restructure columns\n",
    "columns_order = ['TID','UNIT','SCP','STATION','LINENAME','DIVISION','DATETIME','HOUR','DoW','WEEKEND','DESC','ENTRIES','EXITS','ENTRYDIFF','EXITDIFF','DURATION','TOTAL_TRAFFIC','AVG_TRAFFIC']\n",
    "mta_data = mta_data[columns_order]"
   ]
  },
  {
   "cell_type": "code",
   "execution_count": 28,
   "metadata": {},
   "outputs": [
    {
     "output_type": "execute_result",
     "data": {
      "text/plain": [
       "                 TID  UNIT       SCP STATION LINENAME DIVISION  \\\n",
       "5   90191926F891F8C7  R051  02-00-00   59 ST  NQR456W      BMT   \n",
       "6   90191926F891F8C7  R051  02-00-00   59 ST  NQR456W      BMT   \n",
       "7   90191926F891F8C7  R051  02-00-00   59 ST  NQR456W      BMT   \n",
       "8   90191926F891F8C7  R051  02-00-00   59 ST  NQR456W      BMT   \n",
       "10  90191926F891F8C7  R051  02-00-00   59 ST  NQR456W      BMT   \n",
       "11  90191926F891F8C7  R051  02-00-00   59 ST  NQR456W      BMT   \n",
       "12  90191926F891F8C7  R051  02-00-00   59 ST  NQR456W      BMT   \n",
       "13  90191926F891F8C7  R051  02-00-00   59 ST  NQR456W      BMT   \n",
       "14  90191926F891F8C7  R051  02-00-00   59 ST  NQR456W      BMT   \n",
       "15  90191926F891F8C7  R051  02-00-00   59 ST  NQR456W      BMT   \n",
       "16  90191926F891F8C7  R051  02-00-00   59 ST  NQR456W      BMT   \n",
       "17  90191926F891F8C7  R051  02-00-00   59 ST  NQR456W      BMT   \n",
       "20  90191926F891F8C7  R051  02-00-00   59 ST  NQR456W      BMT   \n",
       "21  90191926F891F8C7  R051  02-00-00   59 ST  NQR456W      BMT   \n",
       "22  90191926F891F8C7  R051  02-00-00   59 ST  NQR456W      BMT   \n",
       "23  90191926F891F8C7  R051  02-00-00   59 ST  NQR456W      BMT   \n",
       "24  90191926F891F8C7  R051  02-00-00   59 ST  NQR456W      BMT   \n",
       "25  90191926F891F8C7  R051  02-00-00   59 ST  NQR456W      BMT   \n",
       "26  90191926F891F8C7  R051  02-00-00   59 ST  NQR456W      BMT   \n",
       "27  90191926F891F8C7  R051  02-00-00   59 ST  NQR456W      BMT   \n",
       "\n",
       "              DATETIME  HOUR        DoW  WEEKEND     DESC  ENTRIES    EXITS  \\\n",
       "5  2020-03-07 23:00:00    23   Saturday     True  REGULAR  7403197  2512159   \n",
       "6  2020-03-08 04:00:00     4     Sunday     True  REGULAR  7403226  2512176   \n",
       "7  2020-03-08 08:00:00     8     Sunday     True  REGULAR  7403240  2512195   \n",
       "8  2020-03-08 12:00:00    12     Sunday     True  REGULAR  7403299  2512245   \n",
       "10 2020-03-08 20:00:00    20     Sunday     True  REGULAR  7403667  2512332   \n",
       "11 2020-03-09 00:00:00     0     Monday    False  REGULAR  7403756  2512351   \n",
       "12 2020-03-09 04:00:00     4     Monday    False  REGULAR  7403762  2512352   \n",
       "13 2020-03-09 08:00:00     8     Monday    False  REGULAR  7403784  2512463   \n",
       "14 2020-03-09 12:00:00    12     Monday    False  REGULAR  7403915  2512689   \n",
       "15 2020-03-09 16:00:00    16     Monday    False  REGULAR  7404153  2512730   \n",
       "16 2020-03-09 20:00:00    20     Monday    False  REGULAR  7404827  2512789   \n",
       "17 2020-03-10 00:00:00     0    Tuesday    False  REGULAR  7404958  2512810   \n",
       "20 2020-03-10 12:00:00    12    Tuesday    False  REGULAR  7405086  2513146   \n",
       "21 2020-03-10 16:00:00    16    Tuesday    False  REGULAR  7405358  2513209   \n",
       "22 2020-03-10 20:00:00    20    Tuesday    False  REGULAR  7405970  2513248   \n",
       "23 2020-03-11 00:00:00     0  Wednesday    False  REGULAR  7406143  2513276   \n",
       "24 2020-03-11 04:00:00     4  Wednesday    False  REGULAR  7406154  2513279   \n",
       "25 2020-03-11 08:00:00     8  Wednesday    False  REGULAR  7406178  2513396   \n",
       "26 2020-03-11 12:00:00    12  Wednesday    False  REGULAR  7406275  2513626   \n",
       "27 2020-03-11 16:00:00    16  Wednesday    False  REGULAR  7406502  2513689   \n",
       "\n",
       "    ENTRYDIFF  EXITDIFF  DURATION  TOTAL_TRAFFIC  AVG_TRAFFIC  \n",
       "5         157        27       4.0            184    46.000000  \n",
       "6          29        17       5.0             46     9.200000  \n",
       "7          14        19       4.0             33     8.250000  \n",
       "8          59        50       4.0            109    27.250000  \n",
       "10        368        87       8.0            455    56.875000  \n",
       "11         89        19       4.0            108    27.000000  \n",
       "12          6         1       4.0              7     1.750000  \n",
       "13         22       111       4.0            133    33.250000  \n",
       "14        131       226       4.0            357    89.250000  \n",
       "15        238        41       4.0            279    69.750000  \n",
       "16        674        59       4.0            733   183.250000  \n",
       "17        131        21       4.0            152    38.000000  \n",
       "20        128       336      12.0            464    38.666667  \n",
       "21        272        63       4.0            335    83.750000  \n",
       "22        612        39       4.0            651   162.750000  \n",
       "23        173        28       4.0            201    50.250000  \n",
       "24         11         3       4.0             14     3.500000  \n",
       "25         24       117       4.0            141    35.250000  \n",
       "26         97       230       4.0            327    81.750000  \n",
       "27        227        63       4.0            290    72.500000  "
      ],
      "text/html": "<div>\n<style scoped>\n    .dataframe tbody tr th:only-of-type {\n        vertical-align: middle;\n    }\n\n    .dataframe tbody tr th {\n        vertical-align: top;\n    }\n\n    .dataframe thead th {\n        text-align: right;\n    }\n</style>\n<table border=\"1\" class=\"dataframe\">\n  <thead>\n    <tr style=\"text-align: right;\">\n      <th></th>\n      <th>TID</th>\n      <th>UNIT</th>\n      <th>SCP</th>\n      <th>STATION</th>\n      <th>LINENAME</th>\n      <th>DIVISION</th>\n      <th>DATETIME</th>\n      <th>HOUR</th>\n      <th>DoW</th>\n      <th>WEEKEND</th>\n      <th>DESC</th>\n      <th>ENTRIES</th>\n      <th>EXITS</th>\n      <th>ENTRYDIFF</th>\n      <th>EXITDIFF</th>\n      <th>DURATION</th>\n      <th>TOTAL_TRAFFIC</th>\n      <th>AVG_TRAFFIC</th>\n    </tr>\n  </thead>\n  <tbody>\n    <tr>\n      <th>5</th>\n      <td>90191926F891F8C7</td>\n      <td>R051</td>\n      <td>02-00-00</td>\n      <td>59 ST</td>\n      <td>NQR456W</td>\n      <td>BMT</td>\n      <td>2020-03-07 23:00:00</td>\n      <td>23</td>\n      <td>Saturday</td>\n      <td>True</td>\n      <td>REGULAR</td>\n      <td>7403197</td>\n      <td>2512159</td>\n      <td>157</td>\n      <td>27</td>\n      <td>4.0</td>\n      <td>184</td>\n      <td>46.000000</td>\n    </tr>\n    <tr>\n      <th>6</th>\n      <td>90191926F891F8C7</td>\n      <td>R051</td>\n      <td>02-00-00</td>\n      <td>59 ST</td>\n      <td>NQR456W</td>\n      <td>BMT</td>\n      <td>2020-03-08 04:00:00</td>\n      <td>4</td>\n      <td>Sunday</td>\n      <td>True</td>\n      <td>REGULAR</td>\n      <td>7403226</td>\n      <td>2512176</td>\n      <td>29</td>\n      <td>17</td>\n      <td>5.0</td>\n      <td>46</td>\n      <td>9.200000</td>\n    </tr>\n    <tr>\n      <th>7</th>\n      <td>90191926F891F8C7</td>\n      <td>R051</td>\n      <td>02-00-00</td>\n      <td>59 ST</td>\n      <td>NQR456W</td>\n      <td>BMT</td>\n      <td>2020-03-08 08:00:00</td>\n      <td>8</td>\n      <td>Sunday</td>\n      <td>True</td>\n      <td>REGULAR</td>\n      <td>7403240</td>\n      <td>2512195</td>\n      <td>14</td>\n      <td>19</td>\n      <td>4.0</td>\n      <td>33</td>\n      <td>8.250000</td>\n    </tr>\n    <tr>\n      <th>8</th>\n      <td>90191926F891F8C7</td>\n      <td>R051</td>\n      <td>02-00-00</td>\n      <td>59 ST</td>\n      <td>NQR456W</td>\n      <td>BMT</td>\n      <td>2020-03-08 12:00:00</td>\n      <td>12</td>\n      <td>Sunday</td>\n      <td>True</td>\n      <td>REGULAR</td>\n      <td>7403299</td>\n      <td>2512245</td>\n      <td>59</td>\n      <td>50</td>\n      <td>4.0</td>\n      <td>109</td>\n      <td>27.250000</td>\n    </tr>\n    <tr>\n      <th>10</th>\n      <td>90191926F891F8C7</td>\n      <td>R051</td>\n      <td>02-00-00</td>\n      <td>59 ST</td>\n      <td>NQR456W</td>\n      <td>BMT</td>\n      <td>2020-03-08 20:00:00</td>\n      <td>20</td>\n      <td>Sunday</td>\n      <td>True</td>\n      <td>REGULAR</td>\n      <td>7403667</td>\n      <td>2512332</td>\n      <td>368</td>\n      <td>87</td>\n      <td>8.0</td>\n      <td>455</td>\n      <td>56.875000</td>\n    </tr>\n    <tr>\n      <th>11</th>\n      <td>90191926F891F8C7</td>\n      <td>R051</td>\n      <td>02-00-00</td>\n      <td>59 ST</td>\n      <td>NQR456W</td>\n      <td>BMT</td>\n      <td>2020-03-09 00:00:00</td>\n      <td>0</td>\n      <td>Monday</td>\n      <td>False</td>\n      <td>REGULAR</td>\n      <td>7403756</td>\n      <td>2512351</td>\n      <td>89</td>\n      <td>19</td>\n      <td>4.0</td>\n      <td>108</td>\n      <td>27.000000</td>\n    </tr>\n    <tr>\n      <th>12</th>\n      <td>90191926F891F8C7</td>\n      <td>R051</td>\n      <td>02-00-00</td>\n      <td>59 ST</td>\n      <td>NQR456W</td>\n      <td>BMT</td>\n      <td>2020-03-09 04:00:00</td>\n      <td>4</td>\n      <td>Monday</td>\n      <td>False</td>\n      <td>REGULAR</td>\n      <td>7403762</td>\n      <td>2512352</td>\n      <td>6</td>\n      <td>1</td>\n      <td>4.0</td>\n      <td>7</td>\n      <td>1.750000</td>\n    </tr>\n    <tr>\n      <th>13</th>\n      <td>90191926F891F8C7</td>\n      <td>R051</td>\n      <td>02-00-00</td>\n      <td>59 ST</td>\n      <td>NQR456W</td>\n      <td>BMT</td>\n      <td>2020-03-09 08:00:00</td>\n      <td>8</td>\n      <td>Monday</td>\n      <td>False</td>\n      <td>REGULAR</td>\n      <td>7403784</td>\n      <td>2512463</td>\n      <td>22</td>\n      <td>111</td>\n      <td>4.0</td>\n      <td>133</td>\n      <td>33.250000</td>\n    </tr>\n    <tr>\n      <th>14</th>\n      <td>90191926F891F8C7</td>\n      <td>R051</td>\n      <td>02-00-00</td>\n      <td>59 ST</td>\n      <td>NQR456W</td>\n      <td>BMT</td>\n      <td>2020-03-09 12:00:00</td>\n      <td>12</td>\n      <td>Monday</td>\n      <td>False</td>\n      <td>REGULAR</td>\n      <td>7403915</td>\n      <td>2512689</td>\n      <td>131</td>\n      <td>226</td>\n      <td>4.0</td>\n      <td>357</td>\n      <td>89.250000</td>\n    </tr>\n    <tr>\n      <th>15</th>\n      <td>90191926F891F8C7</td>\n      <td>R051</td>\n      <td>02-00-00</td>\n      <td>59 ST</td>\n      <td>NQR456W</td>\n      <td>BMT</td>\n      <td>2020-03-09 16:00:00</td>\n      <td>16</td>\n      <td>Monday</td>\n      <td>False</td>\n      <td>REGULAR</td>\n      <td>7404153</td>\n      <td>2512730</td>\n      <td>238</td>\n      <td>41</td>\n      <td>4.0</td>\n      <td>279</td>\n      <td>69.750000</td>\n    </tr>\n    <tr>\n      <th>16</th>\n      <td>90191926F891F8C7</td>\n      <td>R051</td>\n      <td>02-00-00</td>\n      <td>59 ST</td>\n      <td>NQR456W</td>\n      <td>BMT</td>\n      <td>2020-03-09 20:00:00</td>\n      <td>20</td>\n      <td>Monday</td>\n      <td>False</td>\n      <td>REGULAR</td>\n      <td>7404827</td>\n      <td>2512789</td>\n      <td>674</td>\n      <td>59</td>\n      <td>4.0</td>\n      <td>733</td>\n      <td>183.250000</td>\n    </tr>\n    <tr>\n      <th>17</th>\n      <td>90191926F891F8C7</td>\n      <td>R051</td>\n      <td>02-00-00</td>\n      <td>59 ST</td>\n      <td>NQR456W</td>\n      <td>BMT</td>\n      <td>2020-03-10 00:00:00</td>\n      <td>0</td>\n      <td>Tuesday</td>\n      <td>False</td>\n      <td>REGULAR</td>\n      <td>7404958</td>\n      <td>2512810</td>\n      <td>131</td>\n      <td>21</td>\n      <td>4.0</td>\n      <td>152</td>\n      <td>38.000000</td>\n    </tr>\n    <tr>\n      <th>20</th>\n      <td>90191926F891F8C7</td>\n      <td>R051</td>\n      <td>02-00-00</td>\n      <td>59 ST</td>\n      <td>NQR456W</td>\n      <td>BMT</td>\n      <td>2020-03-10 12:00:00</td>\n      <td>12</td>\n      <td>Tuesday</td>\n      <td>False</td>\n      <td>REGULAR</td>\n      <td>7405086</td>\n      <td>2513146</td>\n      <td>128</td>\n      <td>336</td>\n      <td>12.0</td>\n      <td>464</td>\n      <td>38.666667</td>\n    </tr>\n    <tr>\n      <th>21</th>\n      <td>90191926F891F8C7</td>\n      <td>R051</td>\n      <td>02-00-00</td>\n      <td>59 ST</td>\n      <td>NQR456W</td>\n      <td>BMT</td>\n      <td>2020-03-10 16:00:00</td>\n      <td>16</td>\n      <td>Tuesday</td>\n      <td>False</td>\n      <td>REGULAR</td>\n      <td>7405358</td>\n      <td>2513209</td>\n      <td>272</td>\n      <td>63</td>\n      <td>4.0</td>\n      <td>335</td>\n      <td>83.750000</td>\n    </tr>\n    <tr>\n      <th>22</th>\n      <td>90191926F891F8C7</td>\n      <td>R051</td>\n      <td>02-00-00</td>\n      <td>59 ST</td>\n      <td>NQR456W</td>\n      <td>BMT</td>\n      <td>2020-03-10 20:00:00</td>\n      <td>20</td>\n      <td>Tuesday</td>\n      <td>False</td>\n      <td>REGULAR</td>\n      <td>7405970</td>\n      <td>2513248</td>\n      <td>612</td>\n      <td>39</td>\n      <td>4.0</td>\n      <td>651</td>\n      <td>162.750000</td>\n    </tr>\n    <tr>\n      <th>23</th>\n      <td>90191926F891F8C7</td>\n      <td>R051</td>\n      <td>02-00-00</td>\n      <td>59 ST</td>\n      <td>NQR456W</td>\n      <td>BMT</td>\n      <td>2020-03-11 00:00:00</td>\n      <td>0</td>\n      <td>Wednesday</td>\n      <td>False</td>\n      <td>REGULAR</td>\n      <td>7406143</td>\n      <td>2513276</td>\n      <td>173</td>\n      <td>28</td>\n      <td>4.0</td>\n      <td>201</td>\n      <td>50.250000</td>\n    </tr>\n    <tr>\n      <th>24</th>\n      <td>90191926F891F8C7</td>\n      <td>R051</td>\n      <td>02-00-00</td>\n      <td>59 ST</td>\n      <td>NQR456W</td>\n      <td>BMT</td>\n      <td>2020-03-11 04:00:00</td>\n      <td>4</td>\n      <td>Wednesday</td>\n      <td>False</td>\n      <td>REGULAR</td>\n      <td>7406154</td>\n      <td>2513279</td>\n      <td>11</td>\n      <td>3</td>\n      <td>4.0</td>\n      <td>14</td>\n      <td>3.500000</td>\n    </tr>\n    <tr>\n      <th>25</th>\n      <td>90191926F891F8C7</td>\n      <td>R051</td>\n      <td>02-00-00</td>\n      <td>59 ST</td>\n      <td>NQR456W</td>\n      <td>BMT</td>\n      <td>2020-03-11 08:00:00</td>\n      <td>8</td>\n      <td>Wednesday</td>\n      <td>False</td>\n      <td>REGULAR</td>\n      <td>7406178</td>\n      <td>2513396</td>\n      <td>24</td>\n      <td>117</td>\n      <td>4.0</td>\n      <td>141</td>\n      <td>35.250000</td>\n    </tr>\n    <tr>\n      <th>26</th>\n      <td>90191926F891F8C7</td>\n      <td>R051</td>\n      <td>02-00-00</td>\n      <td>59 ST</td>\n      <td>NQR456W</td>\n      <td>BMT</td>\n      <td>2020-03-11 12:00:00</td>\n      <td>12</td>\n      <td>Wednesday</td>\n      <td>False</td>\n      <td>REGULAR</td>\n      <td>7406275</td>\n      <td>2513626</td>\n      <td>97</td>\n      <td>230</td>\n      <td>4.0</td>\n      <td>327</td>\n      <td>81.750000</td>\n    </tr>\n    <tr>\n      <th>27</th>\n      <td>90191926F891F8C7</td>\n      <td>R051</td>\n      <td>02-00-00</td>\n      <td>59 ST</td>\n      <td>NQR456W</td>\n      <td>BMT</td>\n      <td>2020-03-11 16:00:00</td>\n      <td>16</td>\n      <td>Wednesday</td>\n      <td>False</td>\n      <td>REGULAR</td>\n      <td>7406502</td>\n      <td>2513689</td>\n      <td>227</td>\n      <td>63</td>\n      <td>4.0</td>\n      <td>290</td>\n      <td>72.500000</td>\n    </tr>\n  </tbody>\n</table>\n</div>"
     },
     "metadata": {},
     "execution_count": 28
    }
   ],
   "source": [
    "mta_data.head(20)"
   ]
  },
  {
   "cell_type": "code",
   "execution_count": 29,
   "metadata": {},
   "outputs": [
    {
     "output_type": "stream",
     "name": "stdout",
     "text": [
      "--------------Possible Duplicate Rows--------------\n"
     ]
    },
    {
     "output_type": "execute_result",
     "data": {
      "text/plain": [
       "                     TID  UNIT       SCP          STATION LINENAME DIVISION  \\\n",
       "151729  081CADC137B8554A  R194  00-00-00      BLEECKER ST      6DF      IRT   \n",
       "151731  081CADC137B8554A  R194  00-00-00      BLEECKER ST      6DF      IRT   \n",
       "115619  085E8E2F31111820  R549  00-01-04  NEWARK HW BMEBE        1      PTH   \n",
       "114785  085E8E2F31111820  R549  00-01-04  NEWARK HW BMEBE        1      PTH   \n",
       "114803  085E8E2F31111820  R549  00-01-04  NEWARK HW BMEBE        1      PTH   \n",
       "...                  ...   ...       ...              ...      ...      ...   \n",
       "96030   FD7E05AB4863CA8C  R020  01-06-01   47-50 STS ROCK     BDFM      IND   \n",
       "96031   FD7E05AB4863CA8C  R020  01-06-01   47-50 STS ROCK     BDFM      IND   \n",
       "96040   FD7E05AB4863CA8C  R020  01-06-01   47-50 STS ROCK     BDFM      IND   \n",
       "121658  FFA87F8C5782C55C  R542  00-00-02  TWENTY THIRD ST        1      PTH   \n",
       "120808  FFA87F8C5782C55C  R542  00-00-02  TWENTY THIRD ST        1      PTH   \n",
       "\n",
       "                  DATETIME  HOUR       DoW  WEEKEND     DESC  ENTRIES   EXITS  \\\n",
       "151729 2020-03-09 12:00:00    12    Monday    False  REGULAR   536805  173160   \n",
       "151731 2020-03-09 12:01:47    12    Monday    False  REGULAR   536805  173160   \n",
       "115619 2019-12-28 03:04:20     3  Saturday     True  REGULAR      304  174783   \n",
       "114785 2020-01-11 03:04:20     3  Saturday     True  REGULAR      304  184812   \n",
       "114803 2020-01-14 06:40:20     6   Tuesday    False  REGULAR      307  186301   \n",
       "...                    ...   ...       ...      ...      ...      ...     ...   \n",
       "96030  2020-02-08 19:00:00    19  Saturday     True  REGULAR   589895      38   \n",
       "96031  2020-02-08 23:00:00    23  Saturday     True  REGULAR   589914      43   \n",
       "96040  2020-02-10 11:00:00    11    Monday    False  REGULAR   590033     544   \n",
       "121658 2020-01-02 09:51:07     9  Thursday    False  REGULAR    98269   69469   \n",
       "120808 2020-03-29 01:29:55     1    Sunday     True  REGULAR    98269    2213   \n",
       "\n",
       "        ENTRYDIFF  EXITDIFF    DURATION  TOTAL_TRAFFIC  AVG_TRAFFIC  \n",
       "151729          1         2    0.015000              3   200.000000  \n",
       "151731          1         2    0.022500              3   133.333333  \n",
       "115619        113      2989 -163.313611           3102   -18.994130  \n",
       "114785        113       186 -163.222500            299    -1.831855  \n",
       "114803          2        19    4.200000             21     5.000000  \n",
       "...           ...       ...         ...            ...          ...  \n",
       "96030          43        11    4.000000             54    13.500000  \n",
       "96031          19         5    4.000000             24     6.000000  \n",
       "96040          41       461    4.000000            502   125.500000  \n",
       "121658        228         2    4.200000            230    54.761905  \n",
       "120808          3         2    4.200000              5     1.190476  \n",
       "\n",
       "[527 rows x 18 columns]"
      ],
      "text/html": "<div>\n<style scoped>\n    .dataframe tbody tr th:only-of-type {\n        vertical-align: middle;\n    }\n\n    .dataframe tbody tr th {\n        vertical-align: top;\n    }\n\n    .dataframe thead th {\n        text-align: right;\n    }\n</style>\n<table border=\"1\" class=\"dataframe\">\n  <thead>\n    <tr style=\"text-align: right;\">\n      <th></th>\n      <th>TID</th>\n      <th>UNIT</th>\n      <th>SCP</th>\n      <th>STATION</th>\n      <th>LINENAME</th>\n      <th>DIVISION</th>\n      <th>DATETIME</th>\n      <th>HOUR</th>\n      <th>DoW</th>\n      <th>WEEKEND</th>\n      <th>DESC</th>\n      <th>ENTRIES</th>\n      <th>EXITS</th>\n      <th>ENTRYDIFF</th>\n      <th>EXITDIFF</th>\n      <th>DURATION</th>\n      <th>TOTAL_TRAFFIC</th>\n      <th>AVG_TRAFFIC</th>\n    </tr>\n  </thead>\n  <tbody>\n    <tr>\n      <th>151729</th>\n      <td>081CADC137B8554A</td>\n      <td>R194</td>\n      <td>00-00-00</td>\n      <td>BLEECKER ST</td>\n      <td>6DF</td>\n      <td>IRT</td>\n      <td>2020-03-09 12:00:00</td>\n      <td>12</td>\n      <td>Monday</td>\n      <td>False</td>\n      <td>REGULAR</td>\n      <td>536805</td>\n      <td>173160</td>\n      <td>1</td>\n      <td>2</td>\n      <td>0.015000</td>\n      <td>3</td>\n      <td>200.000000</td>\n    </tr>\n    <tr>\n      <th>151731</th>\n      <td>081CADC137B8554A</td>\n      <td>R194</td>\n      <td>00-00-00</td>\n      <td>BLEECKER ST</td>\n      <td>6DF</td>\n      <td>IRT</td>\n      <td>2020-03-09 12:01:47</td>\n      <td>12</td>\n      <td>Monday</td>\n      <td>False</td>\n      <td>REGULAR</td>\n      <td>536805</td>\n      <td>173160</td>\n      <td>1</td>\n      <td>2</td>\n      <td>0.022500</td>\n      <td>3</td>\n      <td>133.333333</td>\n    </tr>\n    <tr>\n      <th>115619</th>\n      <td>085E8E2F31111820</td>\n      <td>R549</td>\n      <td>00-01-04</td>\n      <td>NEWARK HW BMEBE</td>\n      <td>1</td>\n      <td>PTH</td>\n      <td>2019-12-28 03:04:20</td>\n      <td>3</td>\n      <td>Saturday</td>\n      <td>True</td>\n      <td>REGULAR</td>\n      <td>304</td>\n      <td>174783</td>\n      <td>113</td>\n      <td>2989</td>\n      <td>-163.313611</td>\n      <td>3102</td>\n      <td>-18.994130</td>\n    </tr>\n    <tr>\n      <th>114785</th>\n      <td>085E8E2F31111820</td>\n      <td>R549</td>\n      <td>00-01-04</td>\n      <td>NEWARK HW BMEBE</td>\n      <td>1</td>\n      <td>PTH</td>\n      <td>2020-01-11 03:04:20</td>\n      <td>3</td>\n      <td>Saturday</td>\n      <td>True</td>\n      <td>REGULAR</td>\n      <td>304</td>\n      <td>184812</td>\n      <td>113</td>\n      <td>186</td>\n      <td>-163.222500</td>\n      <td>299</td>\n      <td>-1.831855</td>\n    </tr>\n    <tr>\n      <th>114803</th>\n      <td>085E8E2F31111820</td>\n      <td>R549</td>\n      <td>00-01-04</td>\n      <td>NEWARK HW BMEBE</td>\n      <td>1</td>\n      <td>PTH</td>\n      <td>2020-01-14 06:40:20</td>\n      <td>6</td>\n      <td>Tuesday</td>\n      <td>False</td>\n      <td>REGULAR</td>\n      <td>307</td>\n      <td>186301</td>\n      <td>2</td>\n      <td>19</td>\n      <td>4.200000</td>\n      <td>21</td>\n      <td>5.000000</td>\n    </tr>\n    <tr>\n      <th>...</th>\n      <td>...</td>\n      <td>...</td>\n      <td>...</td>\n      <td>...</td>\n      <td>...</td>\n      <td>...</td>\n      <td>...</td>\n      <td>...</td>\n      <td>...</td>\n      <td>...</td>\n      <td>...</td>\n      <td>...</td>\n      <td>...</td>\n      <td>...</td>\n      <td>...</td>\n      <td>...</td>\n      <td>...</td>\n      <td>...</td>\n    </tr>\n    <tr>\n      <th>96030</th>\n      <td>FD7E05AB4863CA8C</td>\n      <td>R020</td>\n      <td>01-06-01</td>\n      <td>47-50 STS ROCK</td>\n      <td>BDFM</td>\n      <td>IND</td>\n      <td>2020-02-08 19:00:00</td>\n      <td>19</td>\n      <td>Saturday</td>\n      <td>True</td>\n      <td>REGULAR</td>\n      <td>589895</td>\n      <td>38</td>\n      <td>43</td>\n      <td>11</td>\n      <td>4.000000</td>\n      <td>54</td>\n      <td>13.500000</td>\n    </tr>\n    <tr>\n      <th>96031</th>\n      <td>FD7E05AB4863CA8C</td>\n      <td>R020</td>\n      <td>01-06-01</td>\n      <td>47-50 STS ROCK</td>\n      <td>BDFM</td>\n      <td>IND</td>\n      <td>2020-02-08 23:00:00</td>\n      <td>23</td>\n      <td>Saturday</td>\n      <td>True</td>\n      <td>REGULAR</td>\n      <td>589914</td>\n      <td>43</td>\n      <td>19</td>\n      <td>5</td>\n      <td>4.000000</td>\n      <td>24</td>\n      <td>6.000000</td>\n    </tr>\n    <tr>\n      <th>96040</th>\n      <td>FD7E05AB4863CA8C</td>\n      <td>R020</td>\n      <td>01-06-01</td>\n      <td>47-50 STS ROCK</td>\n      <td>BDFM</td>\n      <td>IND</td>\n      <td>2020-02-10 11:00:00</td>\n      <td>11</td>\n      <td>Monday</td>\n      <td>False</td>\n      <td>REGULAR</td>\n      <td>590033</td>\n      <td>544</td>\n      <td>41</td>\n      <td>461</td>\n      <td>4.000000</td>\n      <td>502</td>\n      <td>125.500000</td>\n    </tr>\n    <tr>\n      <th>121658</th>\n      <td>FFA87F8C5782C55C</td>\n      <td>R542</td>\n      <td>00-00-02</td>\n      <td>TWENTY THIRD ST</td>\n      <td>1</td>\n      <td>PTH</td>\n      <td>2020-01-02 09:51:07</td>\n      <td>9</td>\n      <td>Thursday</td>\n      <td>False</td>\n      <td>REGULAR</td>\n      <td>98269</td>\n      <td>69469</td>\n      <td>228</td>\n      <td>2</td>\n      <td>4.200000</td>\n      <td>230</td>\n      <td>54.761905</td>\n    </tr>\n    <tr>\n      <th>120808</th>\n      <td>FFA87F8C5782C55C</td>\n      <td>R542</td>\n      <td>00-00-02</td>\n      <td>TWENTY THIRD ST</td>\n      <td>1</td>\n      <td>PTH</td>\n      <td>2020-03-29 01:29:55</td>\n      <td>1</td>\n      <td>Sunday</td>\n      <td>True</td>\n      <td>REGULAR</td>\n      <td>98269</td>\n      <td>2213</td>\n      <td>3</td>\n      <td>2</td>\n      <td>4.200000</td>\n      <td>5</td>\n      <td>1.190476</td>\n    </tr>\n  </tbody>\n</table>\n<p>527 rows × 18 columns</p>\n</div>"
     },
     "metadata": {},
     "execution_count": 29
    }
   ],
   "source": [
    "dupes = eda.identify_duplicates(mta_data,'TID', 'ENTRIES')\n",
    "dupes.sort_values(by=['TID','DATETIME'], ascending=True)"
   ]
  },
  {
   "cell_type": "code",
   "execution_count": 30,
   "metadata": {},
   "outputs": [
    {
     "output_type": "execute_result",
     "data": {
      "text/plain": [
       "            HOUR       ENTRIES         EXITS  ENTRYDIFF   EXITDIFF   DURATION  \\\n",
       "count  2380517.0     2380517.0     2380517.0  2380517.0  2380517.0  2380517.0   \n",
       "mean        11.8    29224350.2    21401154.4      153.2      125.5        4.2   \n",
       "std          6.8   169592003.0   138851891.5      252.8      236.5        2.8   \n",
       "min          0.0           1.0           1.0        1.0        1.0     -166.9   \n",
       "25%          7.0      579408.0      354455.0       15.0       13.0        4.0   \n",
       "50%         12.0     2619817.0     1594970.0       58.0       45.0        4.0   \n",
       "75%         17.0     7028238.0     5021985.0      190.0      137.0        4.0   \n",
       "max         23.0  2116079989.0  2038505334.0     9832.0     9949.0      148.0   \n",
       "\n",
       "      TOTAL_TRAFFIC AVG_TRAFFIC  \n",
       "count     2380517.0   2380517.0  \n",
       "mean          278.8        66.0  \n",
       "std           403.8        86.8  \n",
       "min             2.0     -1680.9  \n",
       "25%            38.0         9.5  \n",
       "50%           129.0        31.5  \n",
       "75%           368.0        89.5  \n",
       "max         19282.0      2290.9  "
      ],
      "text/html": "<div>\n<style scoped>\n    .dataframe tbody tr th:only-of-type {\n        vertical-align: middle;\n    }\n\n    .dataframe tbody tr th {\n        vertical-align: top;\n    }\n\n    .dataframe thead th {\n        text-align: right;\n    }\n</style>\n<table border=\"1\" class=\"dataframe\">\n  <thead>\n    <tr style=\"text-align: right;\">\n      <th></th>\n      <th>HOUR</th>\n      <th>ENTRIES</th>\n      <th>EXITS</th>\n      <th>ENTRYDIFF</th>\n      <th>EXITDIFF</th>\n      <th>DURATION</th>\n      <th>TOTAL_TRAFFIC</th>\n      <th>AVG_TRAFFIC</th>\n    </tr>\n  </thead>\n  <tbody>\n    <tr>\n      <th>count</th>\n      <td>2380517.0</td>\n      <td>2380517.0</td>\n      <td>2380517.0</td>\n      <td>2380517.0</td>\n      <td>2380517.0</td>\n      <td>2380517.0</td>\n      <td>2380517.0</td>\n      <td>2380517.0</td>\n    </tr>\n    <tr>\n      <th>mean</th>\n      <td>11.8</td>\n      <td>29224350.2</td>\n      <td>21401154.4</td>\n      <td>153.2</td>\n      <td>125.5</td>\n      <td>4.2</td>\n      <td>278.8</td>\n      <td>66.0</td>\n    </tr>\n    <tr>\n      <th>std</th>\n      <td>6.8</td>\n      <td>169592003.0</td>\n      <td>138851891.5</td>\n      <td>252.8</td>\n      <td>236.5</td>\n      <td>2.8</td>\n      <td>403.8</td>\n      <td>86.8</td>\n    </tr>\n    <tr>\n      <th>min</th>\n      <td>0.0</td>\n      <td>1.0</td>\n      <td>1.0</td>\n      <td>1.0</td>\n      <td>1.0</td>\n      <td>-166.9</td>\n      <td>2.0</td>\n      <td>-1680.9</td>\n    </tr>\n    <tr>\n      <th>25%</th>\n      <td>7.0</td>\n      <td>579408.0</td>\n      <td>354455.0</td>\n      <td>15.0</td>\n      <td>13.0</td>\n      <td>4.0</td>\n      <td>38.0</td>\n      <td>9.5</td>\n    </tr>\n    <tr>\n      <th>50%</th>\n      <td>12.0</td>\n      <td>2619817.0</td>\n      <td>1594970.0</td>\n      <td>58.0</td>\n      <td>45.0</td>\n      <td>4.0</td>\n      <td>129.0</td>\n      <td>31.5</td>\n    </tr>\n    <tr>\n      <th>75%</th>\n      <td>17.0</td>\n      <td>7028238.0</td>\n      <td>5021985.0</td>\n      <td>190.0</td>\n      <td>137.0</td>\n      <td>4.0</td>\n      <td>368.0</td>\n      <td>89.5</td>\n    </tr>\n    <tr>\n      <th>max</th>\n      <td>23.0</td>\n      <td>2116079989.0</td>\n      <td>2038505334.0</td>\n      <td>9832.0</td>\n      <td>9949.0</td>\n      <td>148.0</td>\n      <td>19282.0</td>\n      <td>2290.9</td>\n    </tr>\n  </tbody>\n</table>\n</div>"
     },
     "metadata": {},
     "execution_count": 30
    }
   ],
   "source": [
    "mta_data.describe().apply(lambda s: s.apply('{0:.1f}'.format))"
   ]
  }
 ]
}