{
 "metadata": {
  "language_info": {
   "codemirror_mode": {
    "name": "ipython",
    "version": 3
   },
   "file_extension": ".py",
   "mimetype": "text/x-python",
   "name": "python",
   "nbconvert_exporter": "python",
   "pygments_lexer": "ipython3",
   "version": "3.8.6"
  },
  "orig_nbformat": 2,
  "kernelspec": {
   "name": "python386jvsc74a57bd0e583136a3f54abb5329ac7c861fbbb0ea5afda1ce79984455fa000b60ac3fad7",
   "display_name": "Python 3.8.6 64-bit ('metis': conda)"
  }
 },
 "nbformat": 4,
 "nbformat_minor": 2,
 "cells": [
  {
   "cell_type": "code",
   "execution_count": 1,
   "metadata": {},
   "outputs": [],
   "source": [
    "from sqlalchemy import create_engine\n",
    "import mta_functions as mta\n",
    "import pandas as pd\n",
    "import numpy as np"
   ]
  },
  {
   "source": [
    "# DB Preprocessing"
   ],
   "cell_type": "markdown",
   "metadata": {}
  },
  {
   "cell_type": "code",
   "execution_count": 2,
   "metadata": {},
   "outputs": [],
   "source": [
    "# Pull data if necessary\n",
    "mta.download_files(16, '2020-01-04')"
   ]
  },
  {
   "cell_type": "code",
   "execution_count": 3,
   "metadata": {},
   "outputs": [],
   "source": [
    "# Create dataframe from unprocessed directory files\n",
    "mta_data = mta.df_from_directory('../data/turnstiles/processing')"
   ]
  },
  {
   "cell_type": "code",
   "execution_count": 4,
   "metadata": {},
   "outputs": [],
   "source": [
    "# Create hash for each entry\n",
    "# mta_data.set_index(pd.util.hash_pandas_object(mta_data), drop=False, inplace=True)\n",
    "\n",
    "# Create concat string for entries\n",
    "mta_data['UID'] = mta.concat_columns(mta_data, ['C/A', 'UNIT', 'SCP', 'STATION', 'LINENAME', 'DIVISION', 'DATE', 'TIME', 'DESC'])"
   ]
  },
  {
   "cell_type": "code",
   "execution_count": 5,
   "metadata": {},
   "outputs": [],
   "source": [
    "# Convert entry string to hash\n",
    "mta_data['UID'] = mta_data.apply(lambda x: mta.create_hashed_column(x['UID'], 16), axis = 1)"
   ]
  },
  {
   "cell_type": "code",
   "execution_count": 6,
   "metadata": {},
   "outputs": [],
   "source": [
    "# Create concat string for turnstile\n",
    "mta_data['TID'] = mta.concat_columns(mta_data, ['C/A', 'UNIT', 'SCP'])"
   ]
  },
  {
   "cell_type": "code",
   "execution_count": 7,
   "metadata": {},
   "outputs": [],
   "source": [
    "# Create Turnstile ID for each turnstile\n",
    "mta_data['TID'] = mta_data.apply(lambda x: mta.create_hashed_column(x['TID'], 16), axis = 1)"
   ]
  },
  {
   "cell_type": "code",
   "execution_count": 8,
   "metadata": {},
   "outputs": [],
   "source": [
    "# Create DateTime column\n",
    "mta_data['DATETIME'] = pd.to_datetime(mta_data.DATE + ' ' + mta_data.TIME)"
   ]
  },
  {
   "cell_type": "code",
   "execution_count": 9,
   "metadata": {},
   "outputs": [],
   "source": [
    "#  Fix EXITS column name\n",
    "mta_data.columns = [column.strip() for column in mta_data.columns]"
   ]
  },
  {
   "cell_type": "code",
   "execution_count": 10,
   "metadata": {},
   "outputs": [],
   "source": [
    "# Reorganize Columns\n",
    "mta_data = mta_data[['UID','TID','C/A','UNIT','SCP','STATION','LINENAME','DIVISION','DATETIME', 'DESC','ENTRIES','EXITS']]"
   ]
  },
  {
   "cell_type": "code",
   "execution_count": 11,
   "metadata": {},
   "outputs": [
    {
     "output_type": "execute_result",
     "data": {
      "text/plain": [
       "                     UID               TID    C/A  UNIT       SCP  \\\n",
       "0       9A2F381911EE6F7A  90191926F891F8C7   A002  R051  02-00-00   \n",
       "1       7FB9FB3796D02C5D  90191926F891F8C7   A002  R051  02-00-00   \n",
       "2       03DB69A90A1751AB  90191926F891F8C7   A002  R051  02-00-00   \n",
       "3       A51ABAC63D9013B1  90191926F891F8C7   A002  R051  02-00-00   \n",
       "4       B1EBC5155669839F  90191926F891F8C7   A002  R051  02-00-00   \n",
       "...                  ...               ...    ...   ...       ...   \n",
       "205616  F96EEC002D2D5CEC  B1A51961660208B4  TRAM2  R469  00-05-01   \n",
       "205617  6CAC93A8AE5EB49F  B1A51961660208B4  TRAM2  R469  00-05-01   \n",
       "205618  FD149E9B7C4238FB  B1A51961660208B4  TRAM2  R469  00-05-01   \n",
       "205619  E39BF10EA18411A6  B1A51961660208B4  TRAM2  R469  00-05-01   \n",
       "205620  7A476175B0ABC365  B1A51961660208B4  TRAM2  R469  00-05-01   \n",
       "\n",
       "              STATION LINENAME DIVISION            DATETIME     DESC  ENTRIES  \\\n",
       "0               59 ST  NQR456W      BMT 2020-03-07 03:00:00  REGULAR  7402469   \n",
       "1               59 ST  NQR456W      BMT 2020-03-07 07:00:00  REGULAR  7402480   \n",
       "2               59 ST  NQR456W      BMT 2020-03-07 11:00:00  REGULAR  7402559   \n",
       "3               59 ST  NQR456W      BMT 2020-03-07 15:00:00  REGULAR  7402755   \n",
       "4               59 ST  NQR456W      BMT 2020-03-07 19:00:00  REGULAR  7403040   \n",
       "...               ...      ...      ...                 ...      ...      ...   \n",
       "205616  RIT-ROOSEVELT        R      RIT 2020-01-17 04:00:00  REGULAR     5554   \n",
       "205617  RIT-ROOSEVELT        R      RIT 2020-01-17 08:00:00  REGULAR     5554   \n",
       "205618  RIT-ROOSEVELT        R      RIT 2020-01-17 12:00:00  REGULAR     5554   \n",
       "205619  RIT-ROOSEVELT        R      RIT 2020-01-17 16:00:00  REGULAR     5554   \n",
       "205620  RIT-ROOSEVELT        R      RIT 2020-01-17 20:00:00  REGULAR     5554   \n",
       "\n",
       "          EXITS  \n",
       "0       2511926  \n",
       "1       2511937  \n",
       "2       2512022  \n",
       "3       2512073  \n",
       "4       2512132  \n",
       "...         ...  \n",
       "205616      420  \n",
       "205617      420  \n",
       "205618      420  \n",
       "205619      420  \n",
       "205620      420  \n",
       "\n",
       "[3295462 rows x 12 columns]"
      ],
      "text/html": "<div>\n<style scoped>\n    .dataframe tbody tr th:only-of-type {\n        vertical-align: middle;\n    }\n\n    .dataframe tbody tr th {\n        vertical-align: top;\n    }\n\n    .dataframe thead th {\n        text-align: right;\n    }\n</style>\n<table border=\"1\" class=\"dataframe\">\n  <thead>\n    <tr style=\"text-align: right;\">\n      <th></th>\n      <th>UID</th>\n      <th>TID</th>\n      <th>C/A</th>\n      <th>UNIT</th>\n      <th>SCP</th>\n      <th>STATION</th>\n      <th>LINENAME</th>\n      <th>DIVISION</th>\n      <th>DATETIME</th>\n      <th>DESC</th>\n      <th>ENTRIES</th>\n      <th>EXITS</th>\n    </tr>\n  </thead>\n  <tbody>\n    <tr>\n      <th>0</th>\n      <td>9A2F381911EE6F7A</td>\n      <td>90191926F891F8C7</td>\n      <td>A002</td>\n      <td>R051</td>\n      <td>02-00-00</td>\n      <td>59 ST</td>\n      <td>NQR456W</td>\n      <td>BMT</td>\n      <td>2020-03-07 03:00:00</td>\n      <td>REGULAR</td>\n      <td>7402469</td>\n      <td>2511926</td>\n    </tr>\n    <tr>\n      <th>1</th>\n      <td>7FB9FB3796D02C5D</td>\n      <td>90191926F891F8C7</td>\n      <td>A002</td>\n      <td>R051</td>\n      <td>02-00-00</td>\n      <td>59 ST</td>\n      <td>NQR456W</td>\n      <td>BMT</td>\n      <td>2020-03-07 07:00:00</td>\n      <td>REGULAR</td>\n      <td>7402480</td>\n      <td>2511937</td>\n    </tr>\n    <tr>\n      <th>2</th>\n      <td>03DB69A90A1751AB</td>\n      <td>90191926F891F8C7</td>\n      <td>A002</td>\n      <td>R051</td>\n      <td>02-00-00</td>\n      <td>59 ST</td>\n      <td>NQR456W</td>\n      <td>BMT</td>\n      <td>2020-03-07 11:00:00</td>\n      <td>REGULAR</td>\n      <td>7402559</td>\n      <td>2512022</td>\n    </tr>\n    <tr>\n      <th>3</th>\n      <td>A51ABAC63D9013B1</td>\n      <td>90191926F891F8C7</td>\n      <td>A002</td>\n      <td>R051</td>\n      <td>02-00-00</td>\n      <td>59 ST</td>\n      <td>NQR456W</td>\n      <td>BMT</td>\n      <td>2020-03-07 15:00:00</td>\n      <td>REGULAR</td>\n      <td>7402755</td>\n      <td>2512073</td>\n    </tr>\n    <tr>\n      <th>4</th>\n      <td>B1EBC5155669839F</td>\n      <td>90191926F891F8C7</td>\n      <td>A002</td>\n      <td>R051</td>\n      <td>02-00-00</td>\n      <td>59 ST</td>\n      <td>NQR456W</td>\n      <td>BMT</td>\n      <td>2020-03-07 19:00:00</td>\n      <td>REGULAR</td>\n      <td>7403040</td>\n      <td>2512132</td>\n    </tr>\n    <tr>\n      <th>...</th>\n      <td>...</td>\n      <td>...</td>\n      <td>...</td>\n      <td>...</td>\n      <td>...</td>\n      <td>...</td>\n      <td>...</td>\n      <td>...</td>\n      <td>...</td>\n      <td>...</td>\n      <td>...</td>\n      <td>...</td>\n    </tr>\n    <tr>\n      <th>205616</th>\n      <td>F96EEC002D2D5CEC</td>\n      <td>B1A51961660208B4</td>\n      <td>TRAM2</td>\n      <td>R469</td>\n      <td>00-05-01</td>\n      <td>RIT-ROOSEVELT</td>\n      <td>R</td>\n      <td>RIT</td>\n      <td>2020-01-17 04:00:00</td>\n      <td>REGULAR</td>\n      <td>5554</td>\n      <td>420</td>\n    </tr>\n    <tr>\n      <th>205617</th>\n      <td>6CAC93A8AE5EB49F</td>\n      <td>B1A51961660208B4</td>\n      <td>TRAM2</td>\n      <td>R469</td>\n      <td>00-05-01</td>\n      <td>RIT-ROOSEVELT</td>\n      <td>R</td>\n      <td>RIT</td>\n      <td>2020-01-17 08:00:00</td>\n      <td>REGULAR</td>\n      <td>5554</td>\n      <td>420</td>\n    </tr>\n    <tr>\n      <th>205618</th>\n      <td>FD149E9B7C4238FB</td>\n      <td>B1A51961660208B4</td>\n      <td>TRAM2</td>\n      <td>R469</td>\n      <td>00-05-01</td>\n      <td>RIT-ROOSEVELT</td>\n      <td>R</td>\n      <td>RIT</td>\n      <td>2020-01-17 12:00:00</td>\n      <td>REGULAR</td>\n      <td>5554</td>\n      <td>420</td>\n    </tr>\n    <tr>\n      <th>205619</th>\n      <td>E39BF10EA18411A6</td>\n      <td>B1A51961660208B4</td>\n      <td>TRAM2</td>\n      <td>R469</td>\n      <td>00-05-01</td>\n      <td>RIT-ROOSEVELT</td>\n      <td>R</td>\n      <td>RIT</td>\n      <td>2020-01-17 16:00:00</td>\n      <td>REGULAR</td>\n      <td>5554</td>\n      <td>420</td>\n    </tr>\n    <tr>\n      <th>205620</th>\n      <td>7A476175B0ABC365</td>\n      <td>B1A51961660208B4</td>\n      <td>TRAM2</td>\n      <td>R469</td>\n      <td>00-05-01</td>\n      <td>RIT-ROOSEVELT</td>\n      <td>R</td>\n      <td>RIT</td>\n      <td>2020-01-17 20:00:00</td>\n      <td>REGULAR</td>\n      <td>5554</td>\n      <td>420</td>\n    </tr>\n  </tbody>\n</table>\n<p>3295462 rows × 12 columns</p>\n</div>"
     },
     "metadata": {},
     "execution_count": 11
    }
   ],
   "source": [
    "mta_data"
   ]
  },
  {
   "source": [
    "# Table Creation"
   ],
   "cell_type": "markdown",
   "metadata": {}
  },
  {
   "source": [
    "## Division table"
   ],
   "cell_type": "markdown",
   "metadata": {}
  },
  {
   "cell_type": "code",
   "execution_count": 12,
   "metadata": {},
   "outputs": [],
   "source": [
    "# Create dataframe for divisions\n",
    "division_df = mta_data['DIVISION'].drop_duplicates().reset_index(drop=True)"
   ]
  },
  {
   "cell_type": "code",
   "execution_count": 13,
   "metadata": {},
   "outputs": [],
   "source": [
    "# Create dictionary from dataframe\n",
    "division_dict = division_df.to_dict()"
   ]
  },
  {
   "cell_type": "code",
   "execution_count": 14,
   "metadata": {},
   "outputs": [],
   "source": [
    "# Create/append table and values\n",
    "mta.df_append_to_table(division_df, 'divisions')"
   ]
  },
  {
   "cell_type": "code",
   "execution_count": 15,
   "metadata": {},
   "outputs": [],
   "source": [
    "# Reassign df from updated table data\n",
    "division_df = mta.df_from_table('divisions').reset_index(drop=True)"
   ]
  },
  {
   "cell_type": "code",
   "execution_count": 16,
   "metadata": {},
   "outputs": [
    {
     "output_type": "execute_result",
     "data": {
      "text/plain": [
       "   index DIVISION\n",
       "0      0      BMT\n",
       "1      1      IND\n",
       "2      2      PTH\n",
       "3      3      IRT\n",
       "4      4      SRT\n",
       "5      5      RIT"
      ],
      "text/html": "<div>\n<style scoped>\n    .dataframe tbody tr th:only-of-type {\n        vertical-align: middle;\n    }\n\n    .dataframe tbody tr th {\n        vertical-align: top;\n    }\n\n    .dataframe thead th {\n        text-align: right;\n    }\n</style>\n<table border=\"1\" class=\"dataframe\">\n  <thead>\n    <tr style=\"text-align: right;\">\n      <th></th>\n      <th>index</th>\n      <th>DIVISION</th>\n    </tr>\n  </thead>\n  <tbody>\n    <tr>\n      <th>0</th>\n      <td>0</td>\n      <td>BMT</td>\n    </tr>\n    <tr>\n      <th>1</th>\n      <td>1</td>\n      <td>IND</td>\n    </tr>\n    <tr>\n      <th>2</th>\n      <td>2</td>\n      <td>PTH</td>\n    </tr>\n    <tr>\n      <th>3</th>\n      <td>3</td>\n      <td>IRT</td>\n    </tr>\n    <tr>\n      <th>4</th>\n      <td>4</td>\n      <td>SRT</td>\n    </tr>\n    <tr>\n      <th>5</th>\n      <td>5</td>\n      <td>RIT</td>\n    </tr>\n  </tbody>\n</table>\n</div>"
     },
     "metadata": {},
     "execution_count": 16
    }
   ],
   "source": [
    "division_df"
   ]
  },
  {
   "source": [
    "## Linename table"
   ],
   "cell_type": "markdown",
   "metadata": {}
  },
  {
   "cell_type": "code",
   "execution_count": 17,
   "metadata": {},
   "outputs": [],
   "source": [
    "# Create dataframe for linenames\n",
    "linename_df = mta_data['LINENAME'].drop_duplicates().reset_index(drop=True)"
   ]
  },
  {
   "cell_type": "code",
   "execution_count": 18,
   "metadata": {},
   "outputs": [],
   "source": [
    "# Create dictionary from dataframe\n",
    "linename_dict = linename_df.to_dict()"
   ]
  },
  {
   "cell_type": "code",
   "execution_count": 19,
   "metadata": {},
   "outputs": [],
   "source": [
    "# Append/create table and values\n",
    "mta.df_append_to_table(linename_df, 'linenames')"
   ]
  },
  {
   "cell_type": "code",
   "execution_count": 20,
   "metadata": {},
   "outputs": [],
   "source": [
    "# Reassign dataframe from updated table data\n",
    "linename_df = mta.df_from_table('linenames')"
   ]
  },
  {
   "source": [
    "## Station Table"
   ],
   "cell_type": "markdown",
   "metadata": {}
  },
  {
   "cell_type": "code",
   "execution_count": 21,
   "metadata": {},
   "outputs": [],
   "source": [
    "# Create dataframe for stations\n",
    "station_df = mta_data['STATION'].drop_duplicates().reset_index(drop=True)"
   ]
  },
  {
   "cell_type": "code",
   "execution_count": 22,
   "metadata": {},
   "outputs": [],
   "source": [
    "# Create dictionary from dataframe\n",
    "station_dict = station_df.to_dict()"
   ]
  },
  {
   "cell_type": "code",
   "execution_count": 23,
   "metadata": {},
   "outputs": [],
   "source": [
    "# Append/create table and values\n",
    "mta.df_append_to_table(station_df, 'stations')"
   ]
  },
  {
   "cell_type": "code",
   "execution_count": 24,
   "metadata": {},
   "outputs": [],
   "source": [
    "# Reassign dataframe from updated table data\n",
    "station_df = mta.df_from_table('stations')"
   ]
  },
  {
   "source": [
    "## Description Table"
   ],
   "cell_type": "markdown",
   "metadata": {}
  },
  {
   "cell_type": "code",
   "execution_count": 25,
   "metadata": {},
   "outputs": [],
   "source": [
    "# Create dataframe for descriptions\n",
    "desc_df = mta_data['DESC'].drop_duplicates().reset_index(drop=True)"
   ]
  },
  {
   "cell_type": "code",
   "execution_count": 26,
   "metadata": {},
   "outputs": [],
   "source": [
    "# Create dictionary from dataframe\n",
    "desc_dict = desc_df.to_dict()"
   ]
  },
  {
   "cell_type": "code",
   "execution_count": 27,
   "metadata": {},
   "outputs": [],
   "source": [
    "# Append/create table and values\n",
    "mta.df_append_to_table(desc_df, 'descriptions')"
   ]
  },
  {
   "cell_type": "code",
   "execution_count": 28,
   "metadata": {},
   "outputs": [],
   "source": [
    "# Reassign dataframe from updated table data\n",
    "desc_df = mta.df_from_table('descriptions')"
   ]
  },
  {
   "cell_type": "code",
   "execution_count": 29,
   "metadata": {},
   "outputs": [
    {
     "output_type": "execute_result",
     "data": {
      "text/plain": [
       "                UID               TID   C/A  UNIT       SCP STATION LINENAME  \\\n",
       "0  9A2F381911EE6F7A  90191926F891F8C7  A002  R051  02-00-00   59 ST  NQR456W   \n",
       "1  7FB9FB3796D02C5D  90191926F891F8C7  A002  R051  02-00-00   59 ST  NQR456W   \n",
       "2  03DB69A90A1751AB  90191926F891F8C7  A002  R051  02-00-00   59 ST  NQR456W   \n",
       "3  A51ABAC63D9013B1  90191926F891F8C7  A002  R051  02-00-00   59 ST  NQR456W   \n",
       "4  B1EBC5155669839F  90191926F891F8C7  A002  R051  02-00-00   59 ST  NQR456W   \n",
       "\n",
       "  DIVISION            DATETIME     DESC  ENTRIES    EXITS  \n",
       "0      BMT 2020-03-07 03:00:00  REGULAR  7402469  2511926  \n",
       "1      BMT 2020-03-07 07:00:00  REGULAR  7402480  2511937  \n",
       "2      BMT 2020-03-07 11:00:00  REGULAR  7402559  2512022  \n",
       "3      BMT 2020-03-07 15:00:00  REGULAR  7402755  2512073  \n",
       "4      BMT 2020-03-07 19:00:00  REGULAR  7403040  2512132  "
      ],
      "text/html": "<div>\n<style scoped>\n    .dataframe tbody tr th:only-of-type {\n        vertical-align: middle;\n    }\n\n    .dataframe tbody tr th {\n        vertical-align: top;\n    }\n\n    .dataframe thead th {\n        text-align: right;\n    }\n</style>\n<table border=\"1\" class=\"dataframe\">\n  <thead>\n    <tr style=\"text-align: right;\">\n      <th></th>\n      <th>UID</th>\n      <th>TID</th>\n      <th>C/A</th>\n      <th>UNIT</th>\n      <th>SCP</th>\n      <th>STATION</th>\n      <th>LINENAME</th>\n      <th>DIVISION</th>\n      <th>DATETIME</th>\n      <th>DESC</th>\n      <th>ENTRIES</th>\n      <th>EXITS</th>\n    </tr>\n  </thead>\n  <tbody>\n    <tr>\n      <th>0</th>\n      <td>9A2F381911EE6F7A</td>\n      <td>90191926F891F8C7</td>\n      <td>A002</td>\n      <td>R051</td>\n      <td>02-00-00</td>\n      <td>59 ST</td>\n      <td>NQR456W</td>\n      <td>BMT</td>\n      <td>2020-03-07 03:00:00</td>\n      <td>REGULAR</td>\n      <td>7402469</td>\n      <td>2511926</td>\n    </tr>\n    <tr>\n      <th>1</th>\n      <td>7FB9FB3796D02C5D</td>\n      <td>90191926F891F8C7</td>\n      <td>A002</td>\n      <td>R051</td>\n      <td>02-00-00</td>\n      <td>59 ST</td>\n      <td>NQR456W</td>\n      <td>BMT</td>\n      <td>2020-03-07 07:00:00</td>\n      <td>REGULAR</td>\n      <td>7402480</td>\n      <td>2511937</td>\n    </tr>\n    <tr>\n      <th>2</th>\n      <td>03DB69A90A1751AB</td>\n      <td>90191926F891F8C7</td>\n      <td>A002</td>\n      <td>R051</td>\n      <td>02-00-00</td>\n      <td>59 ST</td>\n      <td>NQR456W</td>\n      <td>BMT</td>\n      <td>2020-03-07 11:00:00</td>\n      <td>REGULAR</td>\n      <td>7402559</td>\n      <td>2512022</td>\n    </tr>\n    <tr>\n      <th>3</th>\n      <td>A51ABAC63D9013B1</td>\n      <td>90191926F891F8C7</td>\n      <td>A002</td>\n      <td>R051</td>\n      <td>02-00-00</td>\n      <td>59 ST</td>\n      <td>NQR456W</td>\n      <td>BMT</td>\n      <td>2020-03-07 15:00:00</td>\n      <td>REGULAR</td>\n      <td>7402755</td>\n      <td>2512073</td>\n    </tr>\n    <tr>\n      <th>4</th>\n      <td>B1EBC5155669839F</td>\n      <td>90191926F891F8C7</td>\n      <td>A002</td>\n      <td>R051</td>\n      <td>02-00-00</td>\n      <td>59 ST</td>\n      <td>NQR456W</td>\n      <td>BMT</td>\n      <td>2020-03-07 19:00:00</td>\n      <td>REGULAR</td>\n      <td>7403040</td>\n      <td>2512132</td>\n    </tr>\n  </tbody>\n</table>\n</div>"
     },
     "metadata": {},
     "execution_count": 29
    }
   ],
   "source": [
    "mta_data.head()"
   ]
  },
  {
   "cell_type": "code",
   "execution_count": 30,
   "metadata": {},
   "outputs": [
    {
     "output_type": "error",
     "ename": "SyntaxError",
     "evalue": "invalid syntax (<ipython-input-30-3f7d7edd001d>, line 1)",
     "traceback": [
      "\u001b[0;36m  File \u001b[0;32m\"<ipython-input-30-3f7d7edd001d>\"\u001b[0;36m, line \u001b[0;32m1\u001b[0m\n\u001b[0;31m    mta_dataTimes Sq-42 St\u001b[0m\n\u001b[0m                  ^\u001b[0m\n\u001b[0;31mSyntaxError\u001b[0m\u001b[0;31m:\u001b[0m invalid syntax\n"
     ]
    }
   ],
   "source": [
    "mta_dataTimes Sq-42 St"
   ]
  },
  {
   "cell_type": "code",
   "execution_count": null,
   "metadata": {},
   "outputs": [],
   "source": []
  },
  {
   "cell_type": "code",
   "execution_count": 29,
   "metadata": {},
   "outputs": [
    {
     "output_type": "error",
     "ename": "Exception",
     "evalue": "Pause",
     "traceback": [
      "\u001b[0;31m---------------------------------------------------------------------------\u001b[0m",
      "\u001b[0;31mException\u001b[0m                                 Traceback (most recent call last)",
      "\u001b[0;32m<ipython-input-29-a4762432c484>\u001b[0m in \u001b[0;36m<module>\u001b[0;34m\u001b[0m\n\u001b[0;32m----> 1\u001b[0;31m \u001b[0;32mraise\u001b[0m \u001b[0mException\u001b[0m\u001b[0;34m(\u001b[0m\u001b[0;34m'Pause'\u001b[0m\u001b[0;34m)\u001b[0m\u001b[0;34m\u001b[0m\u001b[0;34m\u001b[0m\u001b[0m\n\u001b[0m",
      "\u001b[0;31mException\u001b[0m: Pause"
     ]
    }
   ],
   "source": [
    "raise Exception('Pause')"
   ]
  },
  {
   "cell_type": "code",
   "execution_count": 11,
   "metadata": {},
   "outputs": [
    {
     "output_type": "error",
     "ename": "KeyError",
     "evalue": "Index(['TID'], dtype='object')",
     "traceback": [
      "\u001b[0;31m---------------------------------------------------------------------------\u001b[0m",
      "\u001b[0;31mKeyError\u001b[0m                                  Traceback (most recent call last)",
      "\u001b[0;32m<ipython-input-11-3b7f157fa398>\u001b[0m in \u001b[0;36m<module>\u001b[0;34m\u001b[0m\n\u001b[1;32m      2\u001b[0m \u001b[0mturnstiles_columns\u001b[0m \u001b[0;34m=\u001b[0m \u001b[0;34m[\u001b[0m\u001b[0;34m'C/A'\u001b[0m\u001b[0;34m,\u001b[0m\u001b[0;34m'UNIT'\u001b[0m\u001b[0;34m,\u001b[0m\u001b[0;34m'SCP'\u001b[0m\u001b[0;34m,\u001b[0m\u001b[0;34m'STATION'\u001b[0m\u001b[0;34m,\u001b[0m\u001b[0;34m'LINENAME'\u001b[0m\u001b[0;34m,\u001b[0m\u001b[0;34m'DIVISION'\u001b[0m\u001b[0;34m]\u001b[0m\u001b[0;34m\u001b[0m\u001b[0;34m\u001b[0m\u001b[0m\n\u001b[1;32m      3\u001b[0m \u001b[0mturnstiles_df\u001b[0m \u001b[0;34m=\u001b[0m \u001b[0mmta_data\u001b[0m\u001b[0;34m[\u001b[0m\u001b[0mturnstiles_columns\u001b[0m\u001b[0;34m]\u001b[0m\u001b[0;34m\u001b[0m\u001b[0;34m\u001b[0m\u001b[0m\n\u001b[0;32m----> 4\u001b[0;31m \u001b[0mturnstiles_df\u001b[0m \u001b[0;34m=\u001b[0m \u001b[0mturnstiles_df\u001b[0m\u001b[0;34m.\u001b[0m\u001b[0mdrop_duplicates\u001b[0m\u001b[0;34m(\u001b[0m\u001b[0msubset\u001b[0m\u001b[0;34m=\u001b[0m\u001b[0;34m[\u001b[0m\u001b[0;34m'TID'\u001b[0m\u001b[0;34m]\u001b[0m\u001b[0;34m,\u001b[0m \u001b[0mignore_index\u001b[0m\u001b[0;34m=\u001b[0m\u001b[0;32mTrue\u001b[0m\u001b[0;34m)\u001b[0m\u001b[0;34m\u001b[0m\u001b[0;34m\u001b[0m\u001b[0m\n\u001b[0m\u001b[1;32m      5\u001b[0m \u001b[0;34m\u001b[0m\u001b[0m\n\u001b[1;32m      6\u001b[0m \u001b[0;31m# Create db table from db\u001b[0m\u001b[0;34m\u001b[0m\u001b[0;34m\u001b[0m\u001b[0;34m\u001b[0m\u001b[0m\n",
      "\u001b[0;32m~/anaconda3/envs/metis/lib/python3.8/site-packages/pandas/core/frame.py\u001b[0m in \u001b[0;36mdrop_duplicates\u001b[0;34m(self, subset, keep, inplace, ignore_index)\u001b[0m\n\u001b[1;32m   5266\u001b[0m         \u001b[0minplace\u001b[0m \u001b[0;34m=\u001b[0m \u001b[0mvalidate_bool_kwarg\u001b[0m\u001b[0;34m(\u001b[0m\u001b[0minplace\u001b[0m\u001b[0;34m,\u001b[0m \u001b[0;34m\"inplace\"\u001b[0m\u001b[0;34m)\u001b[0m\u001b[0;34m\u001b[0m\u001b[0;34m\u001b[0m\u001b[0m\n\u001b[1;32m   5267\u001b[0m         \u001b[0mignore_index\u001b[0m \u001b[0;34m=\u001b[0m \u001b[0mvalidate_bool_kwarg\u001b[0m\u001b[0;34m(\u001b[0m\u001b[0mignore_index\u001b[0m\u001b[0;34m,\u001b[0m \u001b[0;34m\"ignore_index\"\u001b[0m\u001b[0;34m)\u001b[0m\u001b[0;34m\u001b[0m\u001b[0;34m\u001b[0m\u001b[0m\n\u001b[0;32m-> 5268\u001b[0;31m         \u001b[0mduplicated\u001b[0m \u001b[0;34m=\u001b[0m \u001b[0mself\u001b[0m\u001b[0;34m.\u001b[0m\u001b[0mduplicated\u001b[0m\u001b[0;34m(\u001b[0m\u001b[0msubset\u001b[0m\u001b[0;34m,\u001b[0m \u001b[0mkeep\u001b[0m\u001b[0;34m=\u001b[0m\u001b[0mkeep\u001b[0m\u001b[0;34m)\u001b[0m\u001b[0;34m\u001b[0m\u001b[0;34m\u001b[0m\u001b[0m\n\u001b[0m\u001b[1;32m   5269\u001b[0m \u001b[0;34m\u001b[0m\u001b[0m\n\u001b[1;32m   5270\u001b[0m         \u001b[0mresult\u001b[0m \u001b[0;34m=\u001b[0m \u001b[0mself\u001b[0m\u001b[0;34m[\u001b[0m\u001b[0;34m-\u001b[0m\u001b[0mduplicated\u001b[0m\u001b[0;34m]\u001b[0m\u001b[0;34m\u001b[0m\u001b[0;34m\u001b[0m\u001b[0m\n",
      "\u001b[0;32m~/anaconda3/envs/metis/lib/python3.8/site-packages/pandas/core/frame.py\u001b[0m in \u001b[0;36mduplicated\u001b[0;34m(self, subset, keep)\u001b[0m\n\u001b[1;32m   5400\u001b[0m         \u001b[0mdiff\u001b[0m \u001b[0;34m=\u001b[0m \u001b[0mIndex\u001b[0m\u001b[0;34m(\u001b[0m\u001b[0msubset\u001b[0m\u001b[0;34m)\u001b[0m\u001b[0;34m.\u001b[0m\u001b[0mdifference\u001b[0m\u001b[0;34m(\u001b[0m\u001b[0mself\u001b[0m\u001b[0;34m.\u001b[0m\u001b[0mcolumns\u001b[0m\u001b[0;34m)\u001b[0m\u001b[0;34m\u001b[0m\u001b[0;34m\u001b[0m\u001b[0m\n\u001b[1;32m   5401\u001b[0m         \u001b[0;32mif\u001b[0m \u001b[0;32mnot\u001b[0m \u001b[0mdiff\u001b[0m\u001b[0;34m.\u001b[0m\u001b[0mempty\u001b[0m\u001b[0;34m:\u001b[0m\u001b[0;34m\u001b[0m\u001b[0;34m\u001b[0m\u001b[0m\n\u001b[0;32m-> 5402\u001b[0;31m             \u001b[0;32mraise\u001b[0m \u001b[0mKeyError\u001b[0m\u001b[0;34m(\u001b[0m\u001b[0mdiff\u001b[0m\u001b[0;34m)\u001b[0m\u001b[0;34m\u001b[0m\u001b[0;34m\u001b[0m\u001b[0m\n\u001b[0m\u001b[1;32m   5403\u001b[0m \u001b[0;34m\u001b[0m\u001b[0m\n\u001b[1;32m   5404\u001b[0m         \u001b[0mvals\u001b[0m \u001b[0;34m=\u001b[0m \u001b[0;34m(\u001b[0m\u001b[0mcol\u001b[0m\u001b[0;34m.\u001b[0m\u001b[0mvalues\u001b[0m \u001b[0;32mfor\u001b[0m \u001b[0mname\u001b[0m\u001b[0;34m,\u001b[0m \u001b[0mcol\u001b[0m \u001b[0;32min\u001b[0m \u001b[0mself\u001b[0m\u001b[0;34m.\u001b[0m\u001b[0mitems\u001b[0m\u001b[0;34m(\u001b[0m\u001b[0;34m)\u001b[0m \u001b[0;32mif\u001b[0m \u001b[0mname\u001b[0m \u001b[0;32min\u001b[0m \u001b[0msubset\u001b[0m\u001b[0;34m)\u001b[0m\u001b[0;34m\u001b[0m\u001b[0;34m\u001b[0m\u001b[0m\n",
      "\u001b[0;31mKeyError\u001b[0m: Index(['TID'], dtype='object')"
     ]
    }
   ],
   "source": [
    "# Create df for turnstiles\n",
    "turnstiles_columns = ['TID', 'C/A','UNIT','SCP','STATION','LINENAME','DIVISION']\n",
    "\n",
    "# Append values to table\n",
    "mta.df_append_to_table(turnstiles_df, 'turnstiles')"
   ]
  },
  {
   "cell_type": "code",
   "execution_count": null,
   "metadata": {},
   "outputs": [],
   "source": []
  },
  {
   "cell_type": "code",
   "execution_count": 18,
   "metadata": {},
   "outputs": [],
   "source": [
    "# mta_data = mta_data.drop(['TID','C/A','UNIT','SCP','STATION','LINENAME','DIVISION','DATETIME', 'DESC','ENTRIES','EXITS'], axis=1)\n",
    "# mta_data"
   ]
  },
  {
   "cell_type": "code",
   "execution_count": 19,
   "metadata": {},
   "outputs": [],
   "source": [
    "# mta.df_append_to_table(mta_data, 'traffic')"
   ]
  },
  {
   "cell_type": "code",
   "execution_count": 10,
   "metadata": {},
   "outputs": [],
   "source": [
    "# Make copy of db to windows\n",
    "cp ../data/db/mta.db /mnt/d/Metis/mnt_files/db/mta.db"
   ]
  },
  {
   "cell_type": "code",
   "execution_count": null,
   "metadata": {},
   "outputs": [],
   "source": []
  }
 ]
}