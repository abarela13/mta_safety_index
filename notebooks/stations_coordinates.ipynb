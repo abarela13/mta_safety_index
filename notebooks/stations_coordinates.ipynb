{
 "metadata": {
  "language_info": {
   "codemirror_mode": {
    "name": "ipython",
    "version": 3
   },
   "file_extension": ".py",
   "mimetype": "text/x-python",
   "name": "python",
   "nbconvert_exporter": "python",
   "pygments_lexer": "ipython3",
   "version": "3.8.5"
  },
  "orig_nbformat": 2,
  "kernelspec": {
   "name": "python385jvsc74a57bd0b2101d37a27f96f4f7fea72a5df474858455db9f1046b80da2382a1f257a28e9",
   "display_name": "Python 3.8.5 64-bit ('base': conda)"
  }
 },
 "nbformat": 4,
 "nbformat_minor": 2,
 "cells": [
  {
   "cell_type": "code",
   "execution_count": 1,
   "metadata": {},
   "outputs": [],
   "source": [
    "import pandas as pd"
   ]
  },
  {
   "cell_type": "code",
   "execution_count": 2,
   "metadata": {},
   "outputs": [],
   "source": [
    "# http://web.mta.info/developers/data/nyct/subway/Stations.csv\n",
    "stations = pd.read_csv('../data/stations/Stations.csv')\n",
    "stations = stations[stations.Borough == 'M']"
   ]
  },
  {
   "cell_type": "code",
   "execution_count": 3,
   "metadata": {},
   "outputs": [],
   "source": [
    "# http://web.mta.info/developers/resources/nyct/turnstile/Remote-Booth-Station.xls\n",
    "rb_stations = pd.read_csv('../data/stations/Remote-Booth-Station-with-Complex.csv')"
   ]
  },
  {
   "cell_type": "code",
   "execution_count": 4,
   "metadata": {},
   "outputs": [],
   "source": [
    "# Merge stations dataframes on complex ids\n",
    "merged_df = pd.merge(rb_stations, stations, how='left', left_on=['complex_id'], right_on=['Complex ID'])"
   ]
  },
  {
   "cell_type": "code",
   "execution_count": 5,
   "metadata": {},
   "outputs": [],
   "source": [
    "order = ['remote', 'booth', 'complex_id', 'Station ID', 'station', 'Stop Name', 'Borough', 'GTFS Latitude', 'GTFS Longitude', 'Lat_Lon']\n",
    "merged_df = merged_df[order]"
   ]
  },
  {
   "cell_type": "code",
   "execution_count": 6,
   "metadata": {},
   "outputs": [],
   "source": [
    "# fix complex id column so it is not a float\n",
    "merged_df['complex_id'] = merged_df['complex_id'].fillna(0)\n",
    "merged_df['complex_id'] = merged_df['complex_id'].astype(int)"
   ]
  },
  {
   "cell_type": "code",
   "execution_count": 7,
   "metadata": {},
   "outputs": [],
   "source": [
    "# fix complex id column so it is not a float\n",
    "merged_df['Station ID'] = merged_df['Station ID'].fillna(0)\n",
    "merged_df['Station ID'] = merged_df['Station ID'].astype(int)"
   ]
  },
  {
   "cell_type": "code",
   "execution_count": 8,
   "metadata": {},
   "outputs": [],
   "source": [
    "# merged_df.to_csv('../data/stations/stations_enriched.csv', header=True)"
   ]
  }
 ]
}